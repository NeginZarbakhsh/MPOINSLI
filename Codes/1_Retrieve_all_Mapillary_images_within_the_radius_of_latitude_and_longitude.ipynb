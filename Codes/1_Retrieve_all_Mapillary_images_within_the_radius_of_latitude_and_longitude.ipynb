{
  "nbformat": 4,
  "nbformat_minor": 0,
  "metadata": {
    "colab": {
      "provenance": [],
      "authorship_tag": "ABX9TyOkdEPQT7LtaYRR4fILpin4",
      "include_colab_link": true
    },
    "kernelspec": {
      "name": "python3",
      "display_name": "Python 3"
    },
    "language_info": {
      "name": "python"
    }
  },
  "cells": [
    {
      "cell_type": "markdown",
      "metadata": {
        "id": "view-in-github",
        "colab_type": "text"
      },
      "source": [
        "<a href=\"https://colab.research.google.com/github/NeginZarbakhsh/Mapillary-Points-of-Interest/blob/main/Codes/1_Retrieve_all_Mapillary_images_within_the_radius_of_latitude_and_longitude.ipynb\" target=\"_parent\"><img src=\"https://colab.research.google.com/assets/colab-badge.svg\" alt=\"Open In Colab\"/></a>"
      ]
    },
    {
      "cell_type": "code",
      "source": [
        "# Installs the package. Google Colab may ask you to restart the runtime\n",
        "!pip install mapillary"
      ],
      "metadata": {
        "id": "wx0tq2fuRvB1"
      },
      "execution_count": null,
      "outputs": []
    },
    {
      "cell_type": "code",
      "execution_count": null,
      "metadata": {
        "id": "qMV9mc4wPdRQ"
      },
      "outputs": [],
      "source": [
        "# Import all the required libraries\n",
        "import requests\n",
        "import pandas as pd\n",
        "import json\n",
        "import mapillary.interface as mly\n",
        "from mapillary.models.geojson import GeoJSON\n",
        "from mapillary.models.client import Client\n",
        "from mapillary.config.api.entities import Entities"
      ]
    },
    {
      "cell_type": "markdown",
      "source": [
        "# Mapillary API\n",
        "**Set the token for Mapillary API**:\n",
        "\n",
        "1.   Open [Mapillary website](https://www.mapillary.com/dashboard/developer),\n",
        "2.   Go to 'developers',\n",
        "3.  'Register application', register a new application,\n",
        "4.   Copy & paste the 'Client Token' in access_token \n",
        "\n"
      ],
      "metadata": {
        "id": "0xnrPXDCSuVL"
      }
    },
    {
      "cell_type": "code",
      "source": [
        "access_token = 'MLY|YYY'\n",
        "mly.set_access_token(access_token)"
      ],
      "metadata": {
        "colab": {
          "base_uri": "https://localhost:8080/"
        },
        "id": "wdTQ8KMGSW_e",
        "outputId": "31e21bee-7114-43a0-8279-16c8268151c3"
      },
      "execution_count": null,
      "outputs": [
        {
          "output_type": "execute_result",
          "data": {
            "text/plain": [
              "{'token': 'SUCCESS'}"
            ]
          },
          "metadata": {},
          "execution_count": 11
        }
      ]
    },
    {
      "cell_type": "markdown",
      "source": [
        "# Safegraph Sample Data\n",
        "\n",
        "**Request data from Safegraph via their website**: We downloaded the sample data from their website to demonstrate how to use Safegraph in conjunction with Mapillary; please see the [Safegraph website](https://https://www.safegraph.com/free-data/global-brands-sample-data) for more information on data collection."
      ],
      "metadata": {
        "id": "BxmbhnU4Tj98"
      }
    },
    {
      "cell_type": "code",
      "source": [
        "safegraph_place = pd.read_excel('/content/SafeGraph-Global-Places-Sample-Q3-2022.xlsx')\n",
        "#Choose the fist 5 items in sample data to test the code\n",
        "safegraph_place = safegraph_place.head(5)\n",
        "safegraph_place"
      ],
      "metadata": {
        "colab": {
          "base_uri": "https://localhost:8080/",
          "height": 560
        },
        "id": "jud6j1qqVmT8",
        "outputId": "152487ef-6932-4f2e-b9f0-1ff0db26c792"
      },
      "execution_count": null,
      "outputs": [
        {
          "output_type": "execute_result",
          "data": {
            "text/plain": [
              "              PLACEKEY      PARENT_PLACEKEY  \\\n",
              "0  zzy-224@cdn-8q6-vfz                  NaN   \n",
              "1  zzy-222@7ds-5nh-t7q                  NaN   \n",
              "2  222-222@62k-hz8-pn5                  NaN   \n",
              "3  224-222@5z6-vm9-qvf  zzy-222@5z6-vm9-qpv   \n",
              "4  222-223@5sb-8jc-4d9                  NaN   \n",
              "\n",
              "                         SAFEGRAPH_BRAND_IDS LOCATION_NAME       BRANDS  \\\n",
              "0  SG_BRAND_75e52dcc790fbad91ae83227c0fb6e2f           KFC          KFC   \n",
              "1  SG_BRAND_60d8d6d29e2c4b14f4ea1983baefd36e   Burger King  Burger King   \n",
              "2  SG_BRAND_60d8d6d29e2c4b14f4ea1983baefd36e   Burger King  Burger King   \n",
              "3  SG_BRAND_60d8d6d29e2c4b14f4ea1983baefd36e   Burger King  Burger King   \n",
              "4  SG_BRAND_60d8d6d29e2c4b14f4ea1983baefd36e   Burger King  Burger King   \n",
              "\n",
              "  STORE_ID                         TOP_CATEGORY                 SUB_CATEGORY  \\\n",
              "0      135  Restaurants and Other Eating Places  Limited-Service Restaurants   \n",
              "1    23516  Restaurants and Other Eating Places  Limited-Service Restaurants   \n",
              "2     1123  Restaurants and Other Eating Places  Limited-Service Restaurants   \n",
              "3     9474  Restaurants and Other Eating Places  Limited-Service Restaurants   \n",
              "4    22414  Restaurants and Other Eating Places  Limited-Service Restaurants   \n",
              "\n",
              "   NAICS_CODE   LATITUDE  ...      REGION ISO_COUNTRY_CODE POSTAL_CODE  \\\n",
              "0      722513   1.385253  ...  North West               SG      671524   \n",
              "1      722513  40.196205  ...     Coimbra               PT    3030-173   \n",
              "2      722513  41.705784  ...          RI               US        2889   \n",
              "3      722513  36.313166  ...          CA               US       93245   \n",
              "4      722513  42.119464  ...          IL               US       60110   \n",
              "\n",
              "                                          OPEN_HOURS  \\\n",
              "0  {\\n  \"Fri\": [\\n    [\\n      \"11:00\",\\n      \"2...   \n",
              "1  {\\n  \"Fri\": [\\n    [\\n      \"11:00\",\\n      \"2...   \n",
              "2  {\\n  \"Fri\": [\\n    [\\n      \"7:00\",\\n      \"24...   \n",
              "3  {\\n  \"Fri\": [\\n    [\\n      \"6:00\",\\n      \"22...   \n",
              "4  {\\n  \"Fri\": [\\n    [\\n      \"6:00\",\\n      \"22...   \n",
              "\n",
              "                                       CATEGORY_TAGS OPENED_ON CLOSED_ON  \\\n",
              "0  Counter Service,Lunch,Fast Food,Drive Through,...       NaT       NaT   \n",
              "1  Counter Service,Late Night,Lunch,Fast Food,Dri...       NaT       NaT   \n",
              "2  Counter Service,Late Night,Lunch,Fast Food,Dri...       NaT       NaT   \n",
              "3  Counter Service,Late Night,Lunch,Fast Food,Dri...       NaT       NaT   \n",
              "4  Counter Service,Late Night,Lunch,Fast Food,Dri...       NaT       NaT   \n",
              "\n",
              "  TRACKING_CLOSED_SINCE                               WEBSITES  PHONE_NUMBER  \n",
              "0            2021-08-01                   [\\n  \"kfc.com.sg\"\\n]  6.567690e+09  \n",
              "1            2021-08-01                [\\n  \"burgerking.pt\"\\n]  3.513090e+11  \n",
              "2            2019-07-01  [\\n  \"burgerking.com\",\\n  \"bk.com\"\\n]           NaN  \n",
              "3            2019-07-01  [\\n  \"bk.com\",\\n  \"burgerking.com\"\\n]           NaN  \n",
              "4            2019-07-01  [\\n  \"bk.com\",\\n  \"burgerking.com\"\\n]  1.630912e+10  \n",
              "\n",
              "[5 rows x 23 columns]"
            ],
            "text/html": [
              "\n",
              "  <div id=\"df-49a9262a-6e61-4a6c-8a9e-ae5b1c47118b\">\n",
              "    <div class=\"colab-df-container\">\n",
              "      <div>\n",
              "<style scoped>\n",
              "    .dataframe tbody tr th:only-of-type {\n",
              "        vertical-align: middle;\n",
              "    }\n",
              "\n",
              "    .dataframe tbody tr th {\n",
              "        vertical-align: top;\n",
              "    }\n",
              "\n",
              "    .dataframe thead th {\n",
              "        text-align: right;\n",
              "    }\n",
              "</style>\n",
              "<table border=\"1\" class=\"dataframe\">\n",
              "  <thead>\n",
              "    <tr style=\"text-align: right;\">\n",
              "      <th></th>\n",
              "      <th>PLACEKEY</th>\n",
              "      <th>PARENT_PLACEKEY</th>\n",
              "      <th>SAFEGRAPH_BRAND_IDS</th>\n",
              "      <th>LOCATION_NAME</th>\n",
              "      <th>BRANDS</th>\n",
              "      <th>STORE_ID</th>\n",
              "      <th>TOP_CATEGORY</th>\n",
              "      <th>SUB_CATEGORY</th>\n",
              "      <th>NAICS_CODE</th>\n",
              "      <th>LATITUDE</th>\n",
              "      <th>...</th>\n",
              "      <th>REGION</th>\n",
              "      <th>ISO_COUNTRY_CODE</th>\n",
              "      <th>POSTAL_CODE</th>\n",
              "      <th>OPEN_HOURS</th>\n",
              "      <th>CATEGORY_TAGS</th>\n",
              "      <th>OPENED_ON</th>\n",
              "      <th>CLOSED_ON</th>\n",
              "      <th>TRACKING_CLOSED_SINCE</th>\n",
              "      <th>WEBSITES</th>\n",
              "      <th>PHONE_NUMBER</th>\n",
              "    </tr>\n",
              "  </thead>\n",
              "  <tbody>\n",
              "    <tr>\n",
              "      <th>0</th>\n",
              "      <td>zzy-224@cdn-8q6-vfz</td>\n",
              "      <td>NaN</td>\n",
              "      <td>SG_BRAND_75e52dcc790fbad91ae83227c0fb6e2f</td>\n",
              "      <td>KFC</td>\n",
              "      <td>KFC</td>\n",
              "      <td>135</td>\n",
              "      <td>Restaurants and Other Eating Places</td>\n",
              "      <td>Limited-Service Restaurants</td>\n",
              "      <td>722513</td>\n",
              "      <td>1.385253</td>\n",
              "      <td>...</td>\n",
              "      <td>North West</td>\n",
              "      <td>SG</td>\n",
              "      <td>671524</td>\n",
              "      <td>{\\n  \"Fri\": [\\n    [\\n      \"11:00\",\\n      \"2...</td>\n",
              "      <td>Counter Service,Lunch,Fast Food,Drive Through,...</td>\n",
              "      <td>NaT</td>\n",
              "      <td>NaT</td>\n",
              "      <td>2021-08-01</td>\n",
              "      <td>[\\n  \"kfc.com.sg\"\\n]</td>\n",
              "      <td>6.567690e+09</td>\n",
              "    </tr>\n",
              "    <tr>\n",
              "      <th>1</th>\n",
              "      <td>zzy-222@7ds-5nh-t7q</td>\n",
              "      <td>NaN</td>\n",
              "      <td>SG_BRAND_60d8d6d29e2c4b14f4ea1983baefd36e</td>\n",
              "      <td>Burger King</td>\n",
              "      <td>Burger King</td>\n",
              "      <td>23516</td>\n",
              "      <td>Restaurants and Other Eating Places</td>\n",
              "      <td>Limited-Service Restaurants</td>\n",
              "      <td>722513</td>\n",
              "      <td>40.196205</td>\n",
              "      <td>...</td>\n",
              "      <td>Coimbra</td>\n",
              "      <td>PT</td>\n",
              "      <td>3030-173</td>\n",
              "      <td>{\\n  \"Fri\": [\\n    [\\n      \"11:00\",\\n      \"2...</td>\n",
              "      <td>Counter Service,Late Night,Lunch,Fast Food,Dri...</td>\n",
              "      <td>NaT</td>\n",
              "      <td>NaT</td>\n",
              "      <td>2021-08-01</td>\n",
              "      <td>[\\n  \"burgerking.pt\"\\n]</td>\n",
              "      <td>3.513090e+11</td>\n",
              "    </tr>\n",
              "    <tr>\n",
              "      <th>2</th>\n",
              "      <td>222-222@62k-hz8-pn5</td>\n",
              "      <td>NaN</td>\n",
              "      <td>SG_BRAND_60d8d6d29e2c4b14f4ea1983baefd36e</td>\n",
              "      <td>Burger King</td>\n",
              "      <td>Burger King</td>\n",
              "      <td>1123</td>\n",
              "      <td>Restaurants and Other Eating Places</td>\n",
              "      <td>Limited-Service Restaurants</td>\n",
              "      <td>722513</td>\n",
              "      <td>41.705784</td>\n",
              "      <td>...</td>\n",
              "      <td>RI</td>\n",
              "      <td>US</td>\n",
              "      <td>2889</td>\n",
              "      <td>{\\n  \"Fri\": [\\n    [\\n      \"7:00\",\\n      \"24...</td>\n",
              "      <td>Counter Service,Late Night,Lunch,Fast Food,Dri...</td>\n",
              "      <td>NaT</td>\n",
              "      <td>NaT</td>\n",
              "      <td>2019-07-01</td>\n",
              "      <td>[\\n  \"burgerking.com\",\\n  \"bk.com\"\\n]</td>\n",
              "      <td>NaN</td>\n",
              "    </tr>\n",
              "    <tr>\n",
              "      <th>3</th>\n",
              "      <td>224-222@5z6-vm9-qvf</td>\n",
              "      <td>zzy-222@5z6-vm9-qpv</td>\n",
              "      <td>SG_BRAND_60d8d6d29e2c4b14f4ea1983baefd36e</td>\n",
              "      <td>Burger King</td>\n",
              "      <td>Burger King</td>\n",
              "      <td>9474</td>\n",
              "      <td>Restaurants and Other Eating Places</td>\n",
              "      <td>Limited-Service Restaurants</td>\n",
              "      <td>722513</td>\n",
              "      <td>36.313166</td>\n",
              "      <td>...</td>\n",
              "      <td>CA</td>\n",
              "      <td>US</td>\n",
              "      <td>93245</td>\n",
              "      <td>{\\n  \"Fri\": [\\n    [\\n      \"6:00\",\\n      \"22...</td>\n",
              "      <td>Counter Service,Late Night,Lunch,Fast Food,Dri...</td>\n",
              "      <td>NaT</td>\n",
              "      <td>NaT</td>\n",
              "      <td>2019-07-01</td>\n",
              "      <td>[\\n  \"bk.com\",\\n  \"burgerking.com\"\\n]</td>\n",
              "      <td>NaN</td>\n",
              "    </tr>\n",
              "    <tr>\n",
              "      <th>4</th>\n",
              "      <td>222-223@5sb-8jc-4d9</td>\n",
              "      <td>NaN</td>\n",
              "      <td>SG_BRAND_60d8d6d29e2c4b14f4ea1983baefd36e</td>\n",
              "      <td>Burger King</td>\n",
              "      <td>Burger King</td>\n",
              "      <td>22414</td>\n",
              "      <td>Restaurants and Other Eating Places</td>\n",
              "      <td>Limited-Service Restaurants</td>\n",
              "      <td>722513</td>\n",
              "      <td>42.119464</td>\n",
              "      <td>...</td>\n",
              "      <td>IL</td>\n",
              "      <td>US</td>\n",
              "      <td>60110</td>\n",
              "      <td>{\\n  \"Fri\": [\\n    [\\n      \"6:00\",\\n      \"22...</td>\n",
              "      <td>Counter Service,Late Night,Lunch,Fast Food,Dri...</td>\n",
              "      <td>NaT</td>\n",
              "      <td>NaT</td>\n",
              "      <td>2019-07-01</td>\n",
              "      <td>[\\n  \"bk.com\",\\n  \"burgerking.com\"\\n]</td>\n",
              "      <td>1.630912e+10</td>\n",
              "    </tr>\n",
              "  </tbody>\n",
              "</table>\n",
              "<p>5 rows × 23 columns</p>\n",
              "</div>\n",
              "      <button class=\"colab-df-convert\" onclick=\"convertToInteractive('df-49a9262a-6e61-4a6c-8a9e-ae5b1c47118b')\"\n",
              "              title=\"Convert this dataframe to an interactive table.\"\n",
              "              style=\"display:none;\">\n",
              "        \n",
              "  <svg xmlns=\"http://www.w3.org/2000/svg\" height=\"24px\"viewBox=\"0 0 24 24\"\n",
              "       width=\"24px\">\n",
              "    <path d=\"M0 0h24v24H0V0z\" fill=\"none\"/>\n",
              "    <path d=\"M18.56 5.44l.94 2.06.94-2.06 2.06-.94-2.06-.94-.94-2.06-.94 2.06-2.06.94zm-11 1L8.5 8.5l.94-2.06 2.06-.94-2.06-.94L8.5 2.5l-.94 2.06-2.06.94zm10 10l.94 2.06.94-2.06 2.06-.94-2.06-.94-.94-2.06-.94 2.06-2.06.94z\"/><path d=\"M17.41 7.96l-1.37-1.37c-.4-.4-.92-.59-1.43-.59-.52 0-1.04.2-1.43.59L10.3 9.45l-7.72 7.72c-.78.78-.78 2.05 0 2.83L4 21.41c.39.39.9.59 1.41.59.51 0 1.02-.2 1.41-.59l7.78-7.78 2.81-2.81c.8-.78.8-2.07 0-2.86zM5.41 20L4 18.59l7.72-7.72 1.47 1.35L5.41 20z\"/>\n",
              "  </svg>\n",
              "      </button>\n",
              "      \n",
              "  <style>\n",
              "    .colab-df-container {\n",
              "      display:flex;\n",
              "      flex-wrap:wrap;\n",
              "      gap: 12px;\n",
              "    }\n",
              "\n",
              "    .colab-df-convert {\n",
              "      background-color: #E8F0FE;\n",
              "      border: none;\n",
              "      border-radius: 50%;\n",
              "      cursor: pointer;\n",
              "      display: none;\n",
              "      fill: #1967D2;\n",
              "      height: 32px;\n",
              "      padding: 0 0 0 0;\n",
              "      width: 32px;\n",
              "    }\n",
              "\n",
              "    .colab-df-convert:hover {\n",
              "      background-color: #E2EBFA;\n",
              "      box-shadow: 0px 1px 2px rgba(60, 64, 67, 0.3), 0px 1px 3px 1px rgba(60, 64, 67, 0.15);\n",
              "      fill: #174EA6;\n",
              "    }\n",
              "\n",
              "    [theme=dark] .colab-df-convert {\n",
              "      background-color: #3B4455;\n",
              "      fill: #D2E3FC;\n",
              "    }\n",
              "\n",
              "    [theme=dark] .colab-df-convert:hover {\n",
              "      background-color: #434B5C;\n",
              "      box-shadow: 0px 1px 3px 1px rgba(0, 0, 0, 0.15);\n",
              "      filter: drop-shadow(0px 1px 2px rgba(0, 0, 0, 0.3));\n",
              "      fill: #FFFFFF;\n",
              "    }\n",
              "  </style>\n",
              "\n",
              "      <script>\n",
              "        const buttonEl =\n",
              "          document.querySelector('#df-49a9262a-6e61-4a6c-8a9e-ae5b1c47118b button.colab-df-convert');\n",
              "        buttonEl.style.display =\n",
              "          google.colab.kernel.accessAllowed ? 'block' : 'none';\n",
              "\n",
              "        async function convertToInteractive(key) {\n",
              "          const element = document.querySelector('#df-49a9262a-6e61-4a6c-8a9e-ae5b1c47118b');\n",
              "          const dataTable =\n",
              "            await google.colab.kernel.invokeFunction('convertToInteractive',\n",
              "                                                     [key], {});\n",
              "          if (!dataTable) return;\n",
              "\n",
              "          const docLinkHtml = 'Like what you see? Visit the ' +\n",
              "            '<a target=\"_blank\" href=https://colab.research.google.com/notebooks/data_table.ipynb>data table notebook</a>'\n",
              "            + ' to learn more about interactive tables.';\n",
              "          element.innerHTML = '';\n",
              "          dataTable['output_type'] = 'display_data';\n",
              "          await google.colab.output.renderOutput(dataTable, element);\n",
              "          const docLink = document.createElement('div');\n",
              "          docLink.innerHTML = docLinkHtml;\n",
              "          element.appendChild(docLink);\n",
              "        }\n",
              "      </script>\n",
              "    </div>\n",
              "  </div>\n",
              "  "
            ]
          },
          "metadata": {},
          "execution_count": 15
        }
      ]
    },
    {
      "cell_type": "code",
      "source": [
        "image_id_list: list = []\n",
        "\n",
        "# Iterating over the rows of the df\n",
        "for index, row in enumerate(safegraph_place.iterrows()):\n",
        "\n",
        "  # An empty dictionary that will hold our data as we go along\n",
        "  coordinates_to_image_id_dict: dict = {}\n",
        "\n",
        "  \n",
        "  # Converting each row into a dictionary, then extracting the Lat, Long\n",
        "  latitude, longitude = dict(row[1])['LATITUDE'], dict(row[1])['LONGITUDE'] \n",
        "\n",
        "  # Save the longitude and the latitude in the dict defined above\n",
        "  coordinates_to_image_id_dict['lat'] = latitude\n",
        "  coordinates_to_image_id_dict['lng'] = longitude\n",
        "\n",
        "\n",
        "# mly.get_image_close_to\n",
        "  # Get a `FeatureCollection` given the coordinates defined above\n",
        "  # define the radius of 35-meter, flat type images and the minum_capture_date and, and convert to a dictionary \n",
        "  try:\n",
        "      data: dict = mly.get_image_close_to(latitude=latitude,\n",
        "                                            longitude=longitude,\n",
        "                                            radius=35,\n",
        "                                            image_type=\"flat\",\n",
        "                                            min_captured_at=\"2016-01-01\").to_dict()\n",
        "\n",
        "  except AttributeError:\n",
        "      pass\n",
        "\n",
        "  # Define an empty list which will store our image_ids\n",
        "  coordinates_to_image_id_dict['image_ids'] = []\n",
        "\n",
        "  # Iterate over the features retrieved\n",
        "  for index, feature in enumerate(data['features']):\n",
        "\n",
        "\n",
        "    # Append to the list the image_id from the feature\n",
        "    coordinates_to_image_id_dict['image_ids'].append(feature['properties']['id'])\n",
        "\n",
        "  # Finally, append this dictionary to the final result. That is, the image_id_list variable\n",
        "  image_id_list.append(coordinates_to_image_id_dict)\n",
        "print (\" This is the end of gathering the main\")\n",
        "image_properties: dict = {}\n",
        "\n",
        "# Useful list of fields we can use, the full list could be seen here: https://www.mapillary.com/developer/api-documentation/\n",
        "fields_to_pass_for_the_image: list = ['merge_cc',\n",
        "                                      'mesh',\n",
        "                                      'altitude',\n",
        "                                      'sfm_cluster',\n",
        "                                      'atomic_scale',\n",
        "                                      'camera_parameters',\n",
        "                                      'camera_type',\n",
        "                                      'captured_at',\n",
        "                                      'compass_angle',\n",
        "                                      'computed_altitude',\n",
        "                                      'computed_compass_angle',\n",
        "                                      'computed_geometry',\n",
        "                                      'computed_rotation',\n",
        "                                      'exif_orientation',\n",
        "                                      'quality_score',\n",
        "                                      'height',\n",
        "                                      'width',\n",
        "                                      'sequence',\n",
        "                                      'thumb_2048_url']\n",
        "\n",
        "for index, image_ids in enumerate(image_id_list):\n",
        "\n",
        "  image_id_list[index]['property_data'] = []\n",
        "\n",
        "  for image_id in image_ids['image_ids']:\n",
        "    \n",
        "    response = Client().get(Entities.get_image(image_id=image_id, fields=fields_to_pass_for_the_image))\n",
        "\n",
        "    data = json.loads(response.content.decode('utf-8'))\n",
        "\n",
        "    image_id_list[index]['property_data'].append(data)\n",
        "\n",
        "# Save all of the data as a JSON\n",
        "with open('mapillarymetadata.json', 'w') as file_pointer:\n",
        "  json.dump(image_id_list, file_pointer, indent=4)"
      ],
      "metadata": {
        "colab": {
          "base_uri": "https://localhost:8080/"
        },
        "id": "SbmnP37rPfON",
        "outputId": "8e66edb8-a71d-4165-e9a4-73d04e379c8f"
      },
      "execution_count": null,
      "outputs": [
        {
          "output_type": "stream",
          "name": "stdout",
          "text": [
            "Requesting GET to https://tiles.mapillary.com/maps/vtp/mly1_public/2/14/12914/8128/?access_token=MLY%7C4957202544385847%7Ca397b7f76955e426cdfcfb2225b50ce6\n"
          ]
        },
        {
          "output_type": "stream",
          "name": "stderr",
          "text": [
            "INFO:mapillary.utils.client:Requesting GET to https://tiles.mapillary.com/maps/vtp/mly1_public/2/14/12914/8128/?access_token=MLY%7C4957202544385847%7Ca397b7f76955e426cdfcfb2225b50ce6\n"
          ]
        },
        {
          "output_type": "stream",
          "name": "stdout",
          "text": [
            "Response 200 OK received in 106ms\n"
          ]
        },
        {
          "output_type": "stream",
          "name": "stderr",
          "text": [
            "INFO:mapillary.utils.client:Response 200 OK received in 106ms\n"
          ]
        },
        {
          "output_type": "stream",
          "name": "stdout",
          "text": [
            "Requesting GET to https://tiles.mapillary.com/maps/vtp/mly1_public/2/14/7809/6190/?access_token=MLY%7C4957202544385847%7Ca397b7f76955e426cdfcfb2225b50ce6\n"
          ]
        },
        {
          "output_type": "stream",
          "name": "stderr",
          "text": [
            "INFO:mapillary.utils.client:Requesting GET to https://tiles.mapillary.com/maps/vtp/mly1_public/2/14/7809/6190/?access_token=MLY%7C4957202544385847%7Ca397b7f76955e426cdfcfb2225b50ce6\n"
          ]
        },
        {
          "output_type": "stream",
          "name": "stdout",
          "text": [
            "Response 200 OK received in 71ms\n"
          ]
        },
        {
          "output_type": "stream",
          "name": "stderr",
          "text": [
            "INFO:mapillary.utils.client:Response 200 OK received in 71ms\n"
          ]
        },
        {
          "output_type": "stream",
          "name": "stdout",
          "text": [
            "Requesting GET to https://tiles.mapillary.com/maps/vtp/mly1_public/2/14/4941/6099/?access_token=MLY%7C4957202544385847%7Ca397b7f76955e426cdfcfb2225b50ce6\n"
          ]
        },
        {
          "output_type": "stream",
          "name": "stderr",
          "text": [
            "INFO:mapillary.utils.client:Requesting GET to https://tiles.mapillary.com/maps/vtp/mly1_public/2/14/4941/6099/?access_token=MLY%7C4957202544385847%7Ca397b7f76955e426cdfcfb2225b50ce6\n"
          ]
        },
        {
          "output_type": "stream",
          "name": "stdout",
          "text": [
            "Response 200 OK received in 54ms\n"
          ]
        },
        {
          "output_type": "stream",
          "name": "stderr",
          "text": [
            "INFO:mapillary.utils.client:Response 200 OK received in 54ms\n"
          ]
        },
        {
          "output_type": "stream",
          "name": "stdout",
          "text": [
            "Requesting GET to https://tiles.mapillary.com/maps/vtp/mly1_public/2/14/2740/6416/?access_token=MLY%7C4957202544385847%7Ca397b7f76955e426cdfcfb2225b50ce6\n"
          ]
        },
        {
          "output_type": "stream",
          "name": "stderr",
          "text": [
            "INFO:mapillary.utils.client:Requesting GET to https://tiles.mapillary.com/maps/vtp/mly1_public/2/14/2740/6416/?access_token=MLY%7C4957202544385847%7Ca397b7f76955e426cdfcfb2225b50ce6\n"
          ]
        },
        {
          "output_type": "stream",
          "name": "stdout",
          "text": [
            "Response 200 OK received in 55ms\n"
          ]
        },
        {
          "output_type": "stream",
          "name": "stderr",
          "text": [
            "INFO:mapillary.utils.client:Response 200 OK received in 55ms\n"
          ]
        },
        {
          "output_type": "stream",
          "name": "stdout",
          "text": [
            "Requesting GET to https://tiles.mapillary.com/maps/vtp/mly1_public/2/14/4171/6074/?access_token=MLY%7C4957202544385847%7Ca397b7f76955e426cdfcfb2225b50ce6\n"
          ]
        },
        {
          "output_type": "stream",
          "name": "stderr",
          "text": [
            "INFO:mapillary.utils.client:Requesting GET to https://tiles.mapillary.com/maps/vtp/mly1_public/2/14/4171/6074/?access_token=MLY%7C4957202544385847%7Ca397b7f76955e426cdfcfb2225b50ce6\n"
          ]
        },
        {
          "output_type": "stream",
          "name": "stdout",
          "text": [
            "Response 200 OK received in 63ms\n"
          ]
        },
        {
          "output_type": "stream",
          "name": "stderr",
          "text": [
            "INFO:mapillary.utils.client:Response 200 OK received in 63ms\n"
          ]
        },
        {
          "output_type": "stream",
          "name": "stdout",
          "text": [
            " This is the end of gathering the main\n",
            "Requesting GET to https://graph.mapillary.com/480045153281567/?fields=merge_cc,mesh,altitude,sfm_cluster,atomic_scale,camera_parameters,camera_type,captured_at,compass_angle,computed_altitude,computed_compass_angle,computed_geometry,computed_rotation,exif_orientation,quality_score,height,width,sequence,thumb_2048_url,geometry&access_token=MLY%7C4957202544385847%7Ca397b7f76955e426cdfcfb2225b50ce6\n"
          ]
        },
        {
          "output_type": "stream",
          "name": "stderr",
          "text": [
            "INFO:mapillary.utils.client:Requesting GET to https://graph.mapillary.com/480045153281567/?fields=merge_cc,mesh,altitude,sfm_cluster,atomic_scale,camera_parameters,camera_type,captured_at,compass_angle,computed_altitude,computed_compass_angle,computed_geometry,computed_rotation,exif_orientation,quality_score,height,width,sequence,thumb_2048_url,geometry&access_token=MLY%7C4957202544385847%7Ca397b7f76955e426cdfcfb2225b50ce6\n"
          ]
        },
        {
          "output_type": "stream",
          "name": "stdout",
          "text": [
            "Response 200 OK received in 272ms\n"
          ]
        },
        {
          "output_type": "stream",
          "name": "stderr",
          "text": [
            "INFO:mapillary.utils.client:Response 200 OK received in 272ms\n"
          ]
        },
        {
          "output_type": "stream",
          "name": "stdout",
          "text": [
            "Requesting GET to https://graph.mapillary.com/1988515651303770/?fields=merge_cc,mesh,altitude,sfm_cluster,atomic_scale,camera_parameters,camera_type,captured_at,compass_angle,computed_altitude,computed_compass_angle,computed_geometry,computed_rotation,exif_orientation,quality_score,height,width,sequence,thumb_2048_url,geometry&access_token=MLY%7C4957202544385847%7Ca397b7f76955e426cdfcfb2225b50ce6\n"
          ]
        },
        {
          "output_type": "stream",
          "name": "stderr",
          "text": [
            "INFO:mapillary.utils.client:Requesting GET to https://graph.mapillary.com/1988515651303770/?fields=merge_cc,mesh,altitude,sfm_cluster,atomic_scale,camera_parameters,camera_type,captured_at,compass_angle,computed_altitude,computed_compass_angle,computed_geometry,computed_rotation,exif_orientation,quality_score,height,width,sequence,thumb_2048_url,geometry&access_token=MLY%7C4957202544385847%7Ca397b7f76955e426cdfcfb2225b50ce6\n"
          ]
        },
        {
          "output_type": "stream",
          "name": "stdout",
          "text": [
            "Response 200 OK received in 337ms\n"
          ]
        },
        {
          "output_type": "stream",
          "name": "stderr",
          "text": [
            "INFO:mapillary.utils.client:Response 200 OK received in 337ms\n"
          ]
        },
        {
          "output_type": "stream",
          "name": "stdout",
          "text": [
            "Requesting GET to https://graph.mapillary.com/226821232215561/?fields=merge_cc,mesh,altitude,sfm_cluster,atomic_scale,camera_parameters,camera_type,captured_at,compass_angle,computed_altitude,computed_compass_angle,computed_geometry,computed_rotation,exif_orientation,quality_score,height,width,sequence,thumb_2048_url,geometry&access_token=MLY%7C4957202544385847%7Ca397b7f76955e426cdfcfb2225b50ce6\n"
          ]
        },
        {
          "output_type": "stream",
          "name": "stderr",
          "text": [
            "INFO:mapillary.utils.client:Requesting GET to https://graph.mapillary.com/226821232215561/?fields=merge_cc,mesh,altitude,sfm_cluster,atomic_scale,camera_parameters,camera_type,captured_at,compass_angle,computed_altitude,computed_compass_angle,computed_geometry,computed_rotation,exif_orientation,quality_score,height,width,sequence,thumb_2048_url,geometry&access_token=MLY%7C4957202544385847%7Ca397b7f76955e426cdfcfb2225b50ce6\n"
          ]
        },
        {
          "output_type": "stream",
          "name": "stdout",
          "text": [
            "Response 200 OK received in 362ms\n"
          ]
        },
        {
          "output_type": "stream",
          "name": "stderr",
          "text": [
            "INFO:mapillary.utils.client:Response 200 OK received in 362ms\n"
          ]
        },
        {
          "output_type": "stream",
          "name": "stdout",
          "text": [
            "Requesting GET to https://graph.mapillary.com/268777888319609/?fields=merge_cc,mesh,altitude,sfm_cluster,atomic_scale,camera_parameters,camera_type,captured_at,compass_angle,computed_altitude,computed_compass_angle,computed_geometry,computed_rotation,exif_orientation,quality_score,height,width,sequence,thumb_2048_url,geometry&access_token=MLY%7C4957202544385847%7Ca397b7f76955e426cdfcfb2225b50ce6\n"
          ]
        },
        {
          "output_type": "stream",
          "name": "stderr",
          "text": [
            "INFO:mapillary.utils.client:Requesting GET to https://graph.mapillary.com/268777888319609/?fields=merge_cc,mesh,altitude,sfm_cluster,atomic_scale,camera_parameters,camera_type,captured_at,compass_angle,computed_altitude,computed_compass_angle,computed_geometry,computed_rotation,exif_orientation,quality_score,height,width,sequence,thumb_2048_url,geometry&access_token=MLY%7C4957202544385847%7Ca397b7f76955e426cdfcfb2225b50ce6\n"
          ]
        },
        {
          "output_type": "stream",
          "name": "stdout",
          "text": [
            "Response 200 OK received in 278ms\n"
          ]
        },
        {
          "output_type": "stream",
          "name": "stderr",
          "text": [
            "INFO:mapillary.utils.client:Response 200 OK received in 278ms\n"
          ]
        },
        {
          "output_type": "stream",
          "name": "stdout",
          "text": [
            "Requesting GET to https://graph.mapillary.com/356932025853079/?fields=merge_cc,mesh,altitude,sfm_cluster,atomic_scale,camera_parameters,camera_type,captured_at,compass_angle,computed_altitude,computed_compass_angle,computed_geometry,computed_rotation,exif_orientation,quality_score,height,width,sequence,thumb_2048_url,geometry&access_token=MLY%7C4957202544385847%7Ca397b7f76955e426cdfcfb2225b50ce6\n"
          ]
        },
        {
          "output_type": "stream",
          "name": "stderr",
          "text": [
            "INFO:mapillary.utils.client:Requesting GET to https://graph.mapillary.com/356932025853079/?fields=merge_cc,mesh,altitude,sfm_cluster,atomic_scale,camera_parameters,camera_type,captured_at,compass_angle,computed_altitude,computed_compass_angle,computed_geometry,computed_rotation,exif_orientation,quality_score,height,width,sequence,thumb_2048_url,geometry&access_token=MLY%7C4957202544385847%7Ca397b7f76955e426cdfcfb2225b50ce6\n"
          ]
        },
        {
          "output_type": "stream",
          "name": "stdout",
          "text": [
            "Response 200 OK received in 245ms\n"
          ]
        },
        {
          "output_type": "stream",
          "name": "stderr",
          "text": [
            "INFO:mapillary.utils.client:Response 200 OK received in 245ms\n"
          ]
        },
        {
          "output_type": "stream",
          "name": "stdout",
          "text": [
            "Requesting GET to https://graph.mapillary.com/194457132550557/?fields=merge_cc,mesh,altitude,sfm_cluster,atomic_scale,camera_parameters,camera_type,captured_at,compass_angle,computed_altitude,computed_compass_angle,computed_geometry,computed_rotation,exif_orientation,quality_score,height,width,sequence,thumb_2048_url,geometry&access_token=MLY%7C4957202544385847%7Ca397b7f76955e426cdfcfb2225b50ce6\n"
          ]
        },
        {
          "output_type": "stream",
          "name": "stderr",
          "text": [
            "INFO:mapillary.utils.client:Requesting GET to https://graph.mapillary.com/194457132550557/?fields=merge_cc,mesh,altitude,sfm_cluster,atomic_scale,camera_parameters,camera_type,captured_at,compass_angle,computed_altitude,computed_compass_angle,computed_geometry,computed_rotation,exif_orientation,quality_score,height,width,sequence,thumb_2048_url,geometry&access_token=MLY%7C4957202544385847%7Ca397b7f76955e426cdfcfb2225b50ce6\n"
          ]
        },
        {
          "output_type": "stream",
          "name": "stdout",
          "text": [
            "Response 200 OK received in 323ms\n"
          ]
        },
        {
          "output_type": "stream",
          "name": "stderr",
          "text": [
            "INFO:mapillary.utils.client:Response 200 OK received in 323ms\n"
          ]
        },
        {
          "output_type": "stream",
          "name": "stdout",
          "text": [
            "Requesting GET to https://graph.mapillary.com/163370045741555/?fields=merge_cc,mesh,altitude,sfm_cluster,atomic_scale,camera_parameters,camera_type,captured_at,compass_angle,computed_altitude,computed_compass_angle,computed_geometry,computed_rotation,exif_orientation,quality_score,height,width,sequence,thumb_2048_url,geometry&access_token=MLY%7C4957202544385847%7Ca397b7f76955e426cdfcfb2225b50ce6\n"
          ]
        },
        {
          "output_type": "stream",
          "name": "stderr",
          "text": [
            "INFO:mapillary.utils.client:Requesting GET to https://graph.mapillary.com/163370045741555/?fields=merge_cc,mesh,altitude,sfm_cluster,atomic_scale,camera_parameters,camera_type,captured_at,compass_angle,computed_altitude,computed_compass_angle,computed_geometry,computed_rotation,exif_orientation,quality_score,height,width,sequence,thumb_2048_url,geometry&access_token=MLY%7C4957202544385847%7Ca397b7f76955e426cdfcfb2225b50ce6\n"
          ]
        },
        {
          "output_type": "stream",
          "name": "stdout",
          "text": [
            "Response 200 OK received in 282ms\n"
          ]
        },
        {
          "output_type": "stream",
          "name": "stderr",
          "text": [
            "INFO:mapillary.utils.client:Response 200 OK received in 282ms\n"
          ]
        },
        {
          "output_type": "stream",
          "name": "stdout",
          "text": [
            "Requesting GET to https://graph.mapillary.com/1754235564774088/?fields=merge_cc,mesh,altitude,sfm_cluster,atomic_scale,camera_parameters,camera_type,captured_at,compass_angle,computed_altitude,computed_compass_angle,computed_geometry,computed_rotation,exif_orientation,quality_score,height,width,sequence,thumb_2048_url,geometry&access_token=MLY%7C4957202544385847%7Ca397b7f76955e426cdfcfb2225b50ce6\n"
          ]
        },
        {
          "output_type": "stream",
          "name": "stderr",
          "text": [
            "INFO:mapillary.utils.client:Requesting GET to https://graph.mapillary.com/1754235564774088/?fields=merge_cc,mesh,altitude,sfm_cluster,atomic_scale,camera_parameters,camera_type,captured_at,compass_angle,computed_altitude,computed_compass_angle,computed_geometry,computed_rotation,exif_orientation,quality_score,height,width,sequence,thumb_2048_url,geometry&access_token=MLY%7C4957202544385847%7Ca397b7f76955e426cdfcfb2225b50ce6\n"
          ]
        },
        {
          "output_type": "stream",
          "name": "stdout",
          "text": [
            "Response 200 OK received in 271ms\n"
          ]
        },
        {
          "output_type": "stream",
          "name": "stderr",
          "text": [
            "INFO:mapillary.utils.client:Response 200 OK received in 271ms\n"
          ]
        },
        {
          "output_type": "stream",
          "name": "stdout",
          "text": [
            "Requesting GET to https://graph.mapillary.com/2995390517405856/?fields=merge_cc,mesh,altitude,sfm_cluster,atomic_scale,camera_parameters,camera_type,captured_at,compass_angle,computed_altitude,computed_compass_angle,computed_geometry,computed_rotation,exif_orientation,quality_score,height,width,sequence,thumb_2048_url,geometry&access_token=MLY%7C4957202544385847%7Ca397b7f76955e426cdfcfb2225b50ce6\n"
          ]
        },
        {
          "output_type": "stream",
          "name": "stderr",
          "text": [
            "INFO:mapillary.utils.client:Requesting GET to https://graph.mapillary.com/2995390517405856/?fields=merge_cc,mesh,altitude,sfm_cluster,atomic_scale,camera_parameters,camera_type,captured_at,compass_angle,computed_altitude,computed_compass_angle,computed_geometry,computed_rotation,exif_orientation,quality_score,height,width,sequence,thumb_2048_url,geometry&access_token=MLY%7C4957202544385847%7Ca397b7f76955e426cdfcfb2225b50ce6\n"
          ]
        },
        {
          "output_type": "stream",
          "name": "stdout",
          "text": [
            "Response 200 OK received in 242ms\n"
          ]
        },
        {
          "output_type": "stream",
          "name": "stderr",
          "text": [
            "INFO:mapillary.utils.client:Response 200 OK received in 242ms\n"
          ]
        },
        {
          "output_type": "stream",
          "name": "stdout",
          "text": [
            "Requesting GET to https://graph.mapillary.com/486175189335218/?fields=merge_cc,mesh,altitude,sfm_cluster,atomic_scale,camera_parameters,camera_type,captured_at,compass_angle,computed_altitude,computed_compass_angle,computed_geometry,computed_rotation,exif_orientation,quality_score,height,width,sequence,thumb_2048_url,geometry&access_token=MLY%7C4957202544385847%7Ca397b7f76955e426cdfcfb2225b50ce6\n"
          ]
        },
        {
          "output_type": "stream",
          "name": "stderr",
          "text": [
            "INFO:mapillary.utils.client:Requesting GET to https://graph.mapillary.com/486175189335218/?fields=merge_cc,mesh,altitude,sfm_cluster,atomic_scale,camera_parameters,camera_type,captured_at,compass_angle,computed_altitude,computed_compass_angle,computed_geometry,computed_rotation,exif_orientation,quality_score,height,width,sequence,thumb_2048_url,geometry&access_token=MLY%7C4957202544385847%7Ca397b7f76955e426cdfcfb2225b50ce6\n"
          ]
        },
        {
          "output_type": "stream",
          "name": "stdout",
          "text": [
            "Response 200 OK received in 321ms\n"
          ]
        },
        {
          "output_type": "stream",
          "name": "stderr",
          "text": [
            "INFO:mapillary.utils.client:Response 200 OK received in 321ms\n"
          ]
        },
        {
          "output_type": "stream",
          "name": "stdout",
          "text": [
            "Requesting GET to https://graph.mapillary.com/331064038420241/?fields=merge_cc,mesh,altitude,sfm_cluster,atomic_scale,camera_parameters,camera_type,captured_at,compass_angle,computed_altitude,computed_compass_angle,computed_geometry,computed_rotation,exif_orientation,quality_score,height,width,sequence,thumb_2048_url,geometry&access_token=MLY%7C4957202544385847%7Ca397b7f76955e426cdfcfb2225b50ce6\n"
          ]
        },
        {
          "output_type": "stream",
          "name": "stderr",
          "text": [
            "INFO:mapillary.utils.client:Requesting GET to https://graph.mapillary.com/331064038420241/?fields=merge_cc,mesh,altitude,sfm_cluster,atomic_scale,camera_parameters,camera_type,captured_at,compass_angle,computed_altitude,computed_compass_angle,computed_geometry,computed_rotation,exif_orientation,quality_score,height,width,sequence,thumb_2048_url,geometry&access_token=MLY%7C4957202544385847%7Ca397b7f76955e426cdfcfb2225b50ce6\n"
          ]
        },
        {
          "output_type": "stream",
          "name": "stdout",
          "text": [
            "Response 200 OK received in 249ms\n"
          ]
        },
        {
          "output_type": "stream",
          "name": "stderr",
          "text": [
            "INFO:mapillary.utils.client:Response 200 OK received in 249ms\n"
          ]
        },
        {
          "output_type": "stream",
          "name": "stdout",
          "text": [
            "Requesting GET to https://graph.mapillary.com/326824522140639/?fields=merge_cc,mesh,altitude,sfm_cluster,atomic_scale,camera_parameters,camera_type,captured_at,compass_angle,computed_altitude,computed_compass_angle,computed_geometry,computed_rotation,exif_orientation,quality_score,height,width,sequence,thumb_2048_url,geometry&access_token=MLY%7C4957202544385847%7Ca397b7f76955e426cdfcfb2225b50ce6\n"
          ]
        },
        {
          "output_type": "stream",
          "name": "stderr",
          "text": [
            "INFO:mapillary.utils.client:Requesting GET to https://graph.mapillary.com/326824522140639/?fields=merge_cc,mesh,altitude,sfm_cluster,atomic_scale,camera_parameters,camera_type,captured_at,compass_angle,computed_altitude,computed_compass_angle,computed_geometry,computed_rotation,exif_orientation,quality_score,height,width,sequence,thumb_2048_url,geometry&access_token=MLY%7C4957202544385847%7Ca397b7f76955e426cdfcfb2225b50ce6\n"
          ]
        },
        {
          "output_type": "stream",
          "name": "stdout",
          "text": [
            "Response 200 OK received in 340ms\n"
          ]
        },
        {
          "output_type": "stream",
          "name": "stderr",
          "text": [
            "INFO:mapillary.utils.client:Response 200 OK received in 340ms\n"
          ]
        },
        {
          "output_type": "stream",
          "name": "stdout",
          "text": [
            "Requesting GET to https://graph.mapillary.com/960487371431284/?fields=merge_cc,mesh,altitude,sfm_cluster,atomic_scale,camera_parameters,camera_type,captured_at,compass_angle,computed_altitude,computed_compass_angle,computed_geometry,computed_rotation,exif_orientation,quality_score,height,width,sequence,thumb_2048_url,geometry&access_token=MLY%7C4957202544385847%7Ca397b7f76955e426cdfcfb2225b50ce6\n"
          ]
        },
        {
          "output_type": "stream",
          "name": "stderr",
          "text": [
            "INFO:mapillary.utils.client:Requesting GET to https://graph.mapillary.com/960487371431284/?fields=merge_cc,mesh,altitude,sfm_cluster,atomic_scale,camera_parameters,camera_type,captured_at,compass_angle,computed_altitude,computed_compass_angle,computed_geometry,computed_rotation,exif_orientation,quality_score,height,width,sequence,thumb_2048_url,geometry&access_token=MLY%7C4957202544385847%7Ca397b7f76955e426cdfcfb2225b50ce6\n"
          ]
        },
        {
          "output_type": "stream",
          "name": "stdout",
          "text": [
            "Response 200 OK received in 323ms\n"
          ]
        },
        {
          "output_type": "stream",
          "name": "stderr",
          "text": [
            "INFO:mapillary.utils.client:Response 200 OK received in 323ms\n"
          ]
        },
        {
          "output_type": "stream",
          "name": "stdout",
          "text": [
            "Requesting GET to https://graph.mapillary.com/3832425833550555/?fields=merge_cc,mesh,altitude,sfm_cluster,atomic_scale,camera_parameters,camera_type,captured_at,compass_angle,computed_altitude,computed_compass_angle,computed_geometry,computed_rotation,exif_orientation,quality_score,height,width,sequence,thumb_2048_url,geometry&access_token=MLY%7C4957202544385847%7Ca397b7f76955e426cdfcfb2225b50ce6\n"
          ]
        },
        {
          "output_type": "stream",
          "name": "stderr",
          "text": [
            "INFO:mapillary.utils.client:Requesting GET to https://graph.mapillary.com/3832425833550555/?fields=merge_cc,mesh,altitude,sfm_cluster,atomic_scale,camera_parameters,camera_type,captured_at,compass_angle,computed_altitude,computed_compass_angle,computed_geometry,computed_rotation,exif_orientation,quality_score,height,width,sequence,thumb_2048_url,geometry&access_token=MLY%7C4957202544385847%7Ca397b7f76955e426cdfcfb2225b50ce6\n"
          ]
        },
        {
          "output_type": "stream",
          "name": "stdout",
          "text": [
            "Response 200 OK received in 282ms\n"
          ]
        },
        {
          "output_type": "stream",
          "name": "stderr",
          "text": [
            "INFO:mapillary.utils.client:Response 200 OK received in 282ms\n"
          ]
        },
        {
          "output_type": "stream",
          "name": "stdout",
          "text": [
            "Requesting GET to https://graph.mapillary.com/806963239944349/?fields=merge_cc,mesh,altitude,sfm_cluster,atomic_scale,camera_parameters,camera_type,captured_at,compass_angle,computed_altitude,computed_compass_angle,computed_geometry,computed_rotation,exif_orientation,quality_score,height,width,sequence,thumb_2048_url,geometry&access_token=MLY%7C4957202544385847%7Ca397b7f76955e426cdfcfb2225b50ce6\n"
          ]
        },
        {
          "output_type": "stream",
          "name": "stderr",
          "text": [
            "INFO:mapillary.utils.client:Requesting GET to https://graph.mapillary.com/806963239944349/?fields=merge_cc,mesh,altitude,sfm_cluster,atomic_scale,camera_parameters,camera_type,captured_at,compass_angle,computed_altitude,computed_compass_angle,computed_geometry,computed_rotation,exif_orientation,quality_score,height,width,sequence,thumb_2048_url,geometry&access_token=MLY%7C4957202544385847%7Ca397b7f76955e426cdfcfb2225b50ce6\n"
          ]
        },
        {
          "output_type": "stream",
          "name": "stdout",
          "text": [
            "Response 200 OK received in 254ms\n"
          ]
        },
        {
          "output_type": "stream",
          "name": "stderr",
          "text": [
            "INFO:mapillary.utils.client:Response 200 OK received in 254ms\n"
          ]
        },
        {
          "output_type": "stream",
          "name": "stdout",
          "text": [
            "Requesting GET to https://graph.mapillary.com/752879665403937/?fields=merge_cc,mesh,altitude,sfm_cluster,atomic_scale,camera_parameters,camera_type,captured_at,compass_angle,computed_altitude,computed_compass_angle,computed_geometry,computed_rotation,exif_orientation,quality_score,height,width,sequence,thumb_2048_url,geometry&access_token=MLY%7C4957202544385847%7Ca397b7f76955e426cdfcfb2225b50ce6\n"
          ]
        },
        {
          "output_type": "stream",
          "name": "stderr",
          "text": [
            "INFO:mapillary.utils.client:Requesting GET to https://graph.mapillary.com/752879665403937/?fields=merge_cc,mesh,altitude,sfm_cluster,atomic_scale,camera_parameters,camera_type,captured_at,compass_angle,computed_altitude,computed_compass_angle,computed_geometry,computed_rotation,exif_orientation,quality_score,height,width,sequence,thumb_2048_url,geometry&access_token=MLY%7C4957202544385847%7Ca397b7f76955e426cdfcfb2225b50ce6\n"
          ]
        },
        {
          "output_type": "stream",
          "name": "stdout",
          "text": [
            "Response 200 OK received in 249ms\n"
          ]
        },
        {
          "output_type": "stream",
          "name": "stderr",
          "text": [
            "INFO:mapillary.utils.client:Response 200 OK received in 249ms\n"
          ]
        },
        {
          "output_type": "stream",
          "name": "stdout",
          "text": [
            "Requesting GET to https://graph.mapillary.com/620958359299919/?fields=merge_cc,mesh,altitude,sfm_cluster,atomic_scale,camera_parameters,camera_type,captured_at,compass_angle,computed_altitude,computed_compass_angle,computed_geometry,computed_rotation,exif_orientation,quality_score,height,width,sequence,thumb_2048_url,geometry&access_token=MLY%7C4957202544385847%7Ca397b7f76955e426cdfcfb2225b50ce6\n"
          ]
        },
        {
          "output_type": "stream",
          "name": "stderr",
          "text": [
            "INFO:mapillary.utils.client:Requesting GET to https://graph.mapillary.com/620958359299919/?fields=merge_cc,mesh,altitude,sfm_cluster,atomic_scale,camera_parameters,camera_type,captured_at,compass_angle,computed_altitude,computed_compass_angle,computed_geometry,computed_rotation,exif_orientation,quality_score,height,width,sequence,thumb_2048_url,geometry&access_token=MLY%7C4957202544385847%7Ca397b7f76955e426cdfcfb2225b50ce6\n"
          ]
        },
        {
          "output_type": "stream",
          "name": "stdout",
          "text": [
            "Response 200 OK received in 261ms\n"
          ]
        },
        {
          "output_type": "stream",
          "name": "stderr",
          "text": [
            "INFO:mapillary.utils.client:Response 200 OK received in 261ms\n"
          ]
        },
        {
          "output_type": "stream",
          "name": "stdout",
          "text": [
            "Requesting GET to https://graph.mapillary.com/230818672143856/?fields=merge_cc,mesh,altitude,sfm_cluster,atomic_scale,camera_parameters,camera_type,captured_at,compass_angle,computed_altitude,computed_compass_angle,computed_geometry,computed_rotation,exif_orientation,quality_score,height,width,sequence,thumb_2048_url,geometry&access_token=MLY%7C4957202544385847%7Ca397b7f76955e426cdfcfb2225b50ce6\n"
          ]
        },
        {
          "output_type": "stream",
          "name": "stderr",
          "text": [
            "INFO:mapillary.utils.client:Requesting GET to https://graph.mapillary.com/230818672143856/?fields=merge_cc,mesh,altitude,sfm_cluster,atomic_scale,camera_parameters,camera_type,captured_at,compass_angle,computed_altitude,computed_compass_angle,computed_geometry,computed_rotation,exif_orientation,quality_score,height,width,sequence,thumb_2048_url,geometry&access_token=MLY%7C4957202544385847%7Ca397b7f76955e426cdfcfb2225b50ce6\n"
          ]
        },
        {
          "output_type": "stream",
          "name": "stdout",
          "text": [
            "Response 200 OK received in 373ms\n"
          ]
        },
        {
          "output_type": "stream",
          "name": "stderr",
          "text": [
            "INFO:mapillary.utils.client:Response 200 OK received in 373ms\n"
          ]
        },
        {
          "output_type": "stream",
          "name": "stdout",
          "text": [
            "Requesting GET to https://graph.mapillary.com/959776734852531/?fields=merge_cc,mesh,altitude,sfm_cluster,atomic_scale,camera_parameters,camera_type,captured_at,compass_angle,computed_altitude,computed_compass_angle,computed_geometry,computed_rotation,exif_orientation,quality_score,height,width,sequence,thumb_2048_url,geometry&access_token=MLY%7C4957202544385847%7Ca397b7f76955e426cdfcfb2225b50ce6\n"
          ]
        },
        {
          "output_type": "stream",
          "name": "stderr",
          "text": [
            "INFO:mapillary.utils.client:Requesting GET to https://graph.mapillary.com/959776734852531/?fields=merge_cc,mesh,altitude,sfm_cluster,atomic_scale,camera_parameters,camera_type,captured_at,compass_angle,computed_altitude,computed_compass_angle,computed_geometry,computed_rotation,exif_orientation,quality_score,height,width,sequence,thumb_2048_url,geometry&access_token=MLY%7C4957202544385847%7Ca397b7f76955e426cdfcfb2225b50ce6\n"
          ]
        },
        {
          "output_type": "stream",
          "name": "stdout",
          "text": [
            "Response 200 OK received in 256ms\n"
          ]
        },
        {
          "output_type": "stream",
          "name": "stderr",
          "text": [
            "INFO:mapillary.utils.client:Response 200 OK received in 256ms\n"
          ]
        },
        {
          "output_type": "stream",
          "name": "stdout",
          "text": [
            "Requesting GET to https://graph.mapillary.com/492630162062537/?fields=merge_cc,mesh,altitude,sfm_cluster,atomic_scale,camera_parameters,camera_type,captured_at,compass_angle,computed_altitude,computed_compass_angle,computed_geometry,computed_rotation,exif_orientation,quality_score,height,width,sequence,thumb_2048_url,geometry&access_token=MLY%7C4957202544385847%7Ca397b7f76955e426cdfcfb2225b50ce6\n"
          ]
        },
        {
          "output_type": "stream",
          "name": "stderr",
          "text": [
            "INFO:mapillary.utils.client:Requesting GET to https://graph.mapillary.com/492630162062537/?fields=merge_cc,mesh,altitude,sfm_cluster,atomic_scale,camera_parameters,camera_type,captured_at,compass_angle,computed_altitude,computed_compass_angle,computed_geometry,computed_rotation,exif_orientation,quality_score,height,width,sequence,thumb_2048_url,geometry&access_token=MLY%7C4957202544385847%7Ca397b7f76955e426cdfcfb2225b50ce6\n"
          ]
        },
        {
          "output_type": "stream",
          "name": "stdout",
          "text": [
            "Response 200 OK received in 299ms\n"
          ]
        },
        {
          "output_type": "stream",
          "name": "stderr",
          "text": [
            "INFO:mapillary.utils.client:Response 200 OK received in 299ms\n"
          ]
        },
        {
          "output_type": "stream",
          "name": "stdout",
          "text": [
            "Requesting GET to https://graph.mapillary.com/304575577909827/?fields=merge_cc,mesh,altitude,sfm_cluster,atomic_scale,camera_parameters,camera_type,captured_at,compass_angle,computed_altitude,computed_compass_angle,computed_geometry,computed_rotation,exif_orientation,quality_score,height,width,sequence,thumb_2048_url,geometry&access_token=MLY%7C4957202544385847%7Ca397b7f76955e426cdfcfb2225b50ce6\n"
          ]
        },
        {
          "output_type": "stream",
          "name": "stderr",
          "text": [
            "INFO:mapillary.utils.client:Requesting GET to https://graph.mapillary.com/304575577909827/?fields=merge_cc,mesh,altitude,sfm_cluster,atomic_scale,camera_parameters,camera_type,captured_at,compass_angle,computed_altitude,computed_compass_angle,computed_geometry,computed_rotation,exif_orientation,quality_score,height,width,sequence,thumb_2048_url,geometry&access_token=MLY%7C4957202544385847%7Ca397b7f76955e426cdfcfb2225b50ce6\n"
          ]
        },
        {
          "output_type": "stream",
          "name": "stdout",
          "text": [
            "Response 200 OK received in 267ms\n"
          ]
        },
        {
          "output_type": "stream",
          "name": "stderr",
          "text": [
            "INFO:mapillary.utils.client:Response 200 OK received in 267ms\n"
          ]
        },
        {
          "output_type": "stream",
          "name": "stdout",
          "text": [
            "Requesting GET to https://graph.mapillary.com/290715786094730/?fields=merge_cc,mesh,altitude,sfm_cluster,atomic_scale,camera_parameters,camera_type,captured_at,compass_angle,computed_altitude,computed_compass_angle,computed_geometry,computed_rotation,exif_orientation,quality_score,height,width,sequence,thumb_2048_url,geometry&access_token=MLY%7C4957202544385847%7Ca397b7f76955e426cdfcfb2225b50ce6\n"
          ]
        },
        {
          "output_type": "stream",
          "name": "stderr",
          "text": [
            "INFO:mapillary.utils.client:Requesting GET to https://graph.mapillary.com/290715786094730/?fields=merge_cc,mesh,altitude,sfm_cluster,atomic_scale,camera_parameters,camera_type,captured_at,compass_angle,computed_altitude,computed_compass_angle,computed_geometry,computed_rotation,exif_orientation,quality_score,height,width,sequence,thumb_2048_url,geometry&access_token=MLY%7C4957202544385847%7Ca397b7f76955e426cdfcfb2225b50ce6\n"
          ]
        },
        {
          "output_type": "stream",
          "name": "stdout",
          "text": [
            "Response 200 OK received in 292ms\n"
          ]
        },
        {
          "output_type": "stream",
          "name": "stderr",
          "text": [
            "INFO:mapillary.utils.client:Response 200 OK received in 292ms\n"
          ]
        },
        {
          "output_type": "stream",
          "name": "stdout",
          "text": [
            "Requesting GET to https://graph.mapillary.com/204648274828404/?fields=merge_cc,mesh,altitude,sfm_cluster,atomic_scale,camera_parameters,camera_type,captured_at,compass_angle,computed_altitude,computed_compass_angle,computed_geometry,computed_rotation,exif_orientation,quality_score,height,width,sequence,thumb_2048_url,geometry&access_token=MLY%7C4957202544385847%7Ca397b7f76955e426cdfcfb2225b50ce6\n"
          ]
        },
        {
          "output_type": "stream",
          "name": "stderr",
          "text": [
            "INFO:mapillary.utils.client:Requesting GET to https://graph.mapillary.com/204648274828404/?fields=merge_cc,mesh,altitude,sfm_cluster,atomic_scale,camera_parameters,camera_type,captured_at,compass_angle,computed_altitude,computed_compass_angle,computed_geometry,computed_rotation,exif_orientation,quality_score,height,width,sequence,thumb_2048_url,geometry&access_token=MLY%7C4957202544385847%7Ca397b7f76955e426cdfcfb2225b50ce6\n"
          ]
        },
        {
          "output_type": "stream",
          "name": "stdout",
          "text": [
            "Response 200 OK received in 390ms\n"
          ]
        },
        {
          "output_type": "stream",
          "name": "stderr",
          "text": [
            "INFO:mapillary.utils.client:Response 200 OK received in 390ms\n"
          ]
        },
        {
          "output_type": "stream",
          "name": "stdout",
          "text": [
            "Requesting GET to https://graph.mapillary.com/290088332817731/?fields=merge_cc,mesh,altitude,sfm_cluster,atomic_scale,camera_parameters,camera_type,captured_at,compass_angle,computed_altitude,computed_compass_angle,computed_geometry,computed_rotation,exif_orientation,quality_score,height,width,sequence,thumb_2048_url,geometry&access_token=MLY%7C4957202544385847%7Ca397b7f76955e426cdfcfb2225b50ce6\n"
          ]
        },
        {
          "output_type": "stream",
          "name": "stderr",
          "text": [
            "INFO:mapillary.utils.client:Requesting GET to https://graph.mapillary.com/290088332817731/?fields=merge_cc,mesh,altitude,sfm_cluster,atomic_scale,camera_parameters,camera_type,captured_at,compass_angle,computed_altitude,computed_compass_angle,computed_geometry,computed_rotation,exif_orientation,quality_score,height,width,sequence,thumb_2048_url,geometry&access_token=MLY%7C4957202544385847%7Ca397b7f76955e426cdfcfb2225b50ce6\n"
          ]
        },
        {
          "output_type": "stream",
          "name": "stdout",
          "text": [
            "Response 200 OK received in 271ms\n"
          ]
        },
        {
          "output_type": "stream",
          "name": "stderr",
          "text": [
            "INFO:mapillary.utils.client:Response 200 OK received in 271ms\n"
          ]
        },
        {
          "output_type": "stream",
          "name": "stdout",
          "text": [
            "Requesting GET to https://graph.mapillary.com/1094362131071530/?fields=merge_cc,mesh,altitude,sfm_cluster,atomic_scale,camera_parameters,camera_type,captured_at,compass_angle,computed_altitude,computed_compass_angle,computed_geometry,computed_rotation,exif_orientation,quality_score,height,width,sequence,thumb_2048_url,geometry&access_token=MLY%7C4957202544385847%7Ca397b7f76955e426cdfcfb2225b50ce6\n"
          ]
        },
        {
          "output_type": "stream",
          "name": "stderr",
          "text": [
            "INFO:mapillary.utils.client:Requesting GET to https://graph.mapillary.com/1094362131071530/?fields=merge_cc,mesh,altitude,sfm_cluster,atomic_scale,camera_parameters,camera_type,captured_at,compass_angle,computed_altitude,computed_compass_angle,computed_geometry,computed_rotation,exif_orientation,quality_score,height,width,sequence,thumb_2048_url,geometry&access_token=MLY%7C4957202544385847%7Ca397b7f76955e426cdfcfb2225b50ce6\n"
          ]
        },
        {
          "output_type": "stream",
          "name": "stdout",
          "text": [
            "Response 200 OK received in 294ms\n"
          ]
        },
        {
          "output_type": "stream",
          "name": "stderr",
          "text": [
            "INFO:mapillary.utils.client:Response 200 OK received in 294ms\n"
          ]
        },
        {
          "output_type": "stream",
          "name": "stdout",
          "text": [
            "Requesting GET to https://graph.mapillary.com/1198347537287084/?fields=merge_cc,mesh,altitude,sfm_cluster,atomic_scale,camera_parameters,camera_type,captured_at,compass_angle,computed_altitude,computed_compass_angle,computed_geometry,computed_rotation,exif_orientation,quality_score,height,width,sequence,thumb_2048_url,geometry&access_token=MLY%7C4957202544385847%7Ca397b7f76955e426cdfcfb2225b50ce6\n"
          ]
        },
        {
          "output_type": "stream",
          "name": "stderr",
          "text": [
            "INFO:mapillary.utils.client:Requesting GET to https://graph.mapillary.com/1198347537287084/?fields=merge_cc,mesh,altitude,sfm_cluster,atomic_scale,camera_parameters,camera_type,captured_at,compass_angle,computed_altitude,computed_compass_angle,computed_geometry,computed_rotation,exif_orientation,quality_score,height,width,sequence,thumb_2048_url,geometry&access_token=MLY%7C4957202544385847%7Ca397b7f76955e426cdfcfb2225b50ce6\n"
          ]
        },
        {
          "output_type": "stream",
          "name": "stdout",
          "text": [
            "Response 200 OK received in 251ms\n"
          ]
        },
        {
          "output_type": "stream",
          "name": "stderr",
          "text": [
            "INFO:mapillary.utils.client:Response 200 OK received in 251ms\n"
          ]
        },
        {
          "output_type": "stream",
          "name": "stdout",
          "text": [
            "Requesting GET to https://graph.mapillary.com/762561921099143/?fields=merge_cc,mesh,altitude,sfm_cluster,atomic_scale,camera_parameters,camera_type,captured_at,compass_angle,computed_altitude,computed_compass_angle,computed_geometry,computed_rotation,exif_orientation,quality_score,height,width,sequence,thumb_2048_url,geometry&access_token=MLY%7C4957202544385847%7Ca397b7f76955e426cdfcfb2225b50ce6\n"
          ]
        },
        {
          "output_type": "stream",
          "name": "stderr",
          "text": [
            "INFO:mapillary.utils.client:Requesting GET to https://graph.mapillary.com/762561921099143/?fields=merge_cc,mesh,altitude,sfm_cluster,atomic_scale,camera_parameters,camera_type,captured_at,compass_angle,computed_altitude,computed_compass_angle,computed_geometry,computed_rotation,exif_orientation,quality_score,height,width,sequence,thumb_2048_url,geometry&access_token=MLY%7C4957202544385847%7Ca397b7f76955e426cdfcfb2225b50ce6\n"
          ]
        },
        {
          "output_type": "stream",
          "name": "stdout",
          "text": [
            "Response 200 OK received in 326ms\n"
          ]
        },
        {
          "output_type": "stream",
          "name": "stderr",
          "text": [
            "INFO:mapillary.utils.client:Response 200 OK received in 326ms\n"
          ]
        },
        {
          "output_type": "stream",
          "name": "stdout",
          "text": [
            "Requesting GET to https://graph.mapillary.com/281911090029501/?fields=merge_cc,mesh,altitude,sfm_cluster,atomic_scale,camera_parameters,camera_type,captured_at,compass_angle,computed_altitude,computed_compass_angle,computed_geometry,computed_rotation,exif_orientation,quality_score,height,width,sequence,thumb_2048_url,geometry&access_token=MLY%7C4957202544385847%7Ca397b7f76955e426cdfcfb2225b50ce6\n"
          ]
        },
        {
          "output_type": "stream",
          "name": "stderr",
          "text": [
            "INFO:mapillary.utils.client:Requesting GET to https://graph.mapillary.com/281911090029501/?fields=merge_cc,mesh,altitude,sfm_cluster,atomic_scale,camera_parameters,camera_type,captured_at,compass_angle,computed_altitude,computed_compass_angle,computed_geometry,computed_rotation,exif_orientation,quality_score,height,width,sequence,thumb_2048_url,geometry&access_token=MLY%7C4957202544385847%7Ca397b7f76955e426cdfcfb2225b50ce6\n"
          ]
        },
        {
          "output_type": "stream",
          "name": "stdout",
          "text": [
            "Response 200 OK received in 329ms\n"
          ]
        },
        {
          "output_type": "stream",
          "name": "stderr",
          "text": [
            "INFO:mapillary.utils.client:Response 200 OK received in 329ms\n"
          ]
        },
        {
          "output_type": "stream",
          "name": "stdout",
          "text": [
            "Requesting GET to https://graph.mapillary.com/187179499846297/?fields=merge_cc,mesh,altitude,sfm_cluster,atomic_scale,camera_parameters,camera_type,captured_at,compass_angle,computed_altitude,computed_compass_angle,computed_geometry,computed_rotation,exif_orientation,quality_score,height,width,sequence,thumb_2048_url,geometry&access_token=MLY%7C4957202544385847%7Ca397b7f76955e426cdfcfb2225b50ce6\n"
          ]
        },
        {
          "output_type": "stream",
          "name": "stderr",
          "text": [
            "INFO:mapillary.utils.client:Requesting GET to https://graph.mapillary.com/187179499846297/?fields=merge_cc,mesh,altitude,sfm_cluster,atomic_scale,camera_parameters,camera_type,captured_at,compass_angle,computed_altitude,computed_compass_angle,computed_geometry,computed_rotation,exif_orientation,quality_score,height,width,sequence,thumb_2048_url,geometry&access_token=MLY%7C4957202544385847%7Ca397b7f76955e426cdfcfb2225b50ce6\n"
          ]
        },
        {
          "output_type": "stream",
          "name": "stdout",
          "text": [
            "Response 200 OK received in 269ms\n"
          ]
        },
        {
          "output_type": "stream",
          "name": "stderr",
          "text": [
            "INFO:mapillary.utils.client:Response 200 OK received in 269ms\n"
          ]
        },
        {
          "output_type": "stream",
          "name": "stdout",
          "text": [
            "Requesting GET to https://graph.mapillary.com/190673812812914/?fields=merge_cc,mesh,altitude,sfm_cluster,atomic_scale,camera_parameters,camera_type,captured_at,compass_angle,computed_altitude,computed_compass_angle,computed_geometry,computed_rotation,exif_orientation,quality_score,height,width,sequence,thumb_2048_url,geometry&access_token=MLY%7C4957202544385847%7Ca397b7f76955e426cdfcfb2225b50ce6\n"
          ]
        },
        {
          "output_type": "stream",
          "name": "stderr",
          "text": [
            "INFO:mapillary.utils.client:Requesting GET to https://graph.mapillary.com/190673812812914/?fields=merge_cc,mesh,altitude,sfm_cluster,atomic_scale,camera_parameters,camera_type,captured_at,compass_angle,computed_altitude,computed_compass_angle,computed_geometry,computed_rotation,exif_orientation,quality_score,height,width,sequence,thumb_2048_url,geometry&access_token=MLY%7C4957202544385847%7Ca397b7f76955e426cdfcfb2225b50ce6\n"
          ]
        },
        {
          "output_type": "stream",
          "name": "stdout",
          "text": [
            "Response 200 OK received in 296ms\n"
          ]
        },
        {
          "output_type": "stream",
          "name": "stderr",
          "text": [
            "INFO:mapillary.utils.client:Response 200 OK received in 296ms\n"
          ]
        },
        {
          "output_type": "stream",
          "name": "stdout",
          "text": [
            "Requesting GET to https://graph.mapillary.com/304072601352921/?fields=merge_cc,mesh,altitude,sfm_cluster,atomic_scale,camera_parameters,camera_type,captured_at,compass_angle,computed_altitude,computed_compass_angle,computed_geometry,computed_rotation,exif_orientation,quality_score,height,width,sequence,thumb_2048_url,geometry&access_token=MLY%7C4957202544385847%7Ca397b7f76955e426cdfcfb2225b50ce6\n"
          ]
        },
        {
          "output_type": "stream",
          "name": "stderr",
          "text": [
            "INFO:mapillary.utils.client:Requesting GET to https://graph.mapillary.com/304072601352921/?fields=merge_cc,mesh,altitude,sfm_cluster,atomic_scale,camera_parameters,camera_type,captured_at,compass_angle,computed_altitude,computed_compass_angle,computed_geometry,computed_rotation,exif_orientation,quality_score,height,width,sequence,thumb_2048_url,geometry&access_token=MLY%7C4957202544385847%7Ca397b7f76955e426cdfcfb2225b50ce6\n"
          ]
        },
        {
          "output_type": "stream",
          "name": "stdout",
          "text": [
            "Response 200 OK received in 308ms\n"
          ]
        },
        {
          "output_type": "stream",
          "name": "stderr",
          "text": [
            "INFO:mapillary.utils.client:Response 200 OK received in 308ms\n"
          ]
        },
        {
          "output_type": "stream",
          "name": "stdout",
          "text": [
            "Requesting GET to https://graph.mapillary.com/904830826966267/?fields=merge_cc,mesh,altitude,sfm_cluster,atomic_scale,camera_parameters,camera_type,captured_at,compass_angle,computed_altitude,computed_compass_angle,computed_geometry,computed_rotation,exif_orientation,quality_score,height,width,sequence,thumb_2048_url,geometry&access_token=MLY%7C4957202544385847%7Ca397b7f76955e426cdfcfb2225b50ce6\n"
          ]
        },
        {
          "output_type": "stream",
          "name": "stderr",
          "text": [
            "INFO:mapillary.utils.client:Requesting GET to https://graph.mapillary.com/904830826966267/?fields=merge_cc,mesh,altitude,sfm_cluster,atomic_scale,camera_parameters,camera_type,captured_at,compass_angle,computed_altitude,computed_compass_angle,computed_geometry,computed_rotation,exif_orientation,quality_score,height,width,sequence,thumb_2048_url,geometry&access_token=MLY%7C4957202544385847%7Ca397b7f76955e426cdfcfb2225b50ce6\n"
          ]
        },
        {
          "output_type": "stream",
          "name": "stdout",
          "text": [
            "Response 200 OK received in 255ms\n"
          ]
        },
        {
          "output_type": "stream",
          "name": "stderr",
          "text": [
            "INFO:mapillary.utils.client:Response 200 OK received in 255ms\n"
          ]
        },
        {
          "output_type": "stream",
          "name": "stdout",
          "text": [
            "Requesting GET to https://graph.mapillary.com/322308569264648/?fields=merge_cc,mesh,altitude,sfm_cluster,atomic_scale,camera_parameters,camera_type,captured_at,compass_angle,computed_altitude,computed_compass_angle,computed_geometry,computed_rotation,exif_orientation,quality_score,height,width,sequence,thumb_2048_url,geometry&access_token=MLY%7C4957202544385847%7Ca397b7f76955e426cdfcfb2225b50ce6\n"
          ]
        },
        {
          "output_type": "stream",
          "name": "stderr",
          "text": [
            "INFO:mapillary.utils.client:Requesting GET to https://graph.mapillary.com/322308569264648/?fields=merge_cc,mesh,altitude,sfm_cluster,atomic_scale,camera_parameters,camera_type,captured_at,compass_angle,computed_altitude,computed_compass_angle,computed_geometry,computed_rotation,exif_orientation,quality_score,height,width,sequence,thumb_2048_url,geometry&access_token=MLY%7C4957202544385847%7Ca397b7f76955e426cdfcfb2225b50ce6\n"
          ]
        },
        {
          "output_type": "stream",
          "name": "stdout",
          "text": [
            "Response 200 OK received in 317ms\n"
          ]
        },
        {
          "output_type": "stream",
          "name": "stderr",
          "text": [
            "INFO:mapillary.utils.client:Response 200 OK received in 317ms\n"
          ]
        },
        {
          "output_type": "stream",
          "name": "stdout",
          "text": [
            "Requesting GET to https://graph.mapillary.com/4823902350959225/?fields=merge_cc,mesh,altitude,sfm_cluster,atomic_scale,camera_parameters,camera_type,captured_at,compass_angle,computed_altitude,computed_compass_angle,computed_geometry,computed_rotation,exif_orientation,quality_score,height,width,sequence,thumb_2048_url,geometry&access_token=MLY%7C4957202544385847%7Ca397b7f76955e426cdfcfb2225b50ce6\n"
          ]
        },
        {
          "output_type": "stream",
          "name": "stderr",
          "text": [
            "INFO:mapillary.utils.client:Requesting GET to https://graph.mapillary.com/4823902350959225/?fields=merge_cc,mesh,altitude,sfm_cluster,atomic_scale,camera_parameters,camera_type,captured_at,compass_angle,computed_altitude,computed_compass_angle,computed_geometry,computed_rotation,exif_orientation,quality_score,height,width,sequence,thumb_2048_url,geometry&access_token=MLY%7C4957202544385847%7Ca397b7f76955e426cdfcfb2225b50ce6\n"
          ]
        },
        {
          "output_type": "stream",
          "name": "stdout",
          "text": [
            "Response 200 OK received in 311ms\n"
          ]
        },
        {
          "output_type": "stream",
          "name": "stderr",
          "text": [
            "INFO:mapillary.utils.client:Response 200 OK received in 311ms\n"
          ]
        },
        {
          "output_type": "stream",
          "name": "stdout",
          "text": [
            "Requesting GET to https://graph.mapillary.com/4611416018873128/?fields=merge_cc,mesh,altitude,sfm_cluster,atomic_scale,camera_parameters,camera_type,captured_at,compass_angle,computed_altitude,computed_compass_angle,computed_geometry,computed_rotation,exif_orientation,quality_score,height,width,sequence,thumb_2048_url,geometry&access_token=MLY%7C4957202544385847%7Ca397b7f76955e426cdfcfb2225b50ce6\n"
          ]
        },
        {
          "output_type": "stream",
          "name": "stderr",
          "text": [
            "INFO:mapillary.utils.client:Requesting GET to https://graph.mapillary.com/4611416018873128/?fields=merge_cc,mesh,altitude,sfm_cluster,atomic_scale,camera_parameters,camera_type,captured_at,compass_angle,computed_altitude,computed_compass_angle,computed_geometry,computed_rotation,exif_orientation,quality_score,height,width,sequence,thumb_2048_url,geometry&access_token=MLY%7C4957202544385847%7Ca397b7f76955e426cdfcfb2225b50ce6\n"
          ]
        },
        {
          "output_type": "stream",
          "name": "stdout",
          "text": [
            "Response 200 OK received in 286ms\n"
          ]
        },
        {
          "output_type": "stream",
          "name": "stderr",
          "text": [
            "INFO:mapillary.utils.client:Response 200 OK received in 286ms\n"
          ]
        },
        {
          "output_type": "stream",
          "name": "stdout",
          "text": [
            "Requesting GET to https://graph.mapillary.com/497100671335394/?fields=merge_cc,mesh,altitude,sfm_cluster,atomic_scale,camera_parameters,camera_type,captured_at,compass_angle,computed_altitude,computed_compass_angle,computed_geometry,computed_rotation,exif_orientation,quality_score,height,width,sequence,thumb_2048_url,geometry&access_token=MLY%7C4957202544385847%7Ca397b7f76955e426cdfcfb2225b50ce6\n"
          ]
        },
        {
          "output_type": "stream",
          "name": "stderr",
          "text": [
            "INFO:mapillary.utils.client:Requesting GET to https://graph.mapillary.com/497100671335394/?fields=merge_cc,mesh,altitude,sfm_cluster,atomic_scale,camera_parameters,camera_type,captured_at,compass_angle,computed_altitude,computed_compass_angle,computed_geometry,computed_rotation,exif_orientation,quality_score,height,width,sequence,thumb_2048_url,geometry&access_token=MLY%7C4957202544385847%7Ca397b7f76955e426cdfcfb2225b50ce6\n"
          ]
        },
        {
          "output_type": "stream",
          "name": "stdout",
          "text": [
            "Response 200 OK received in 275ms\n"
          ]
        },
        {
          "output_type": "stream",
          "name": "stderr",
          "text": [
            "INFO:mapillary.utils.client:Response 200 OK received in 275ms\n"
          ]
        },
        {
          "output_type": "stream",
          "name": "stdout",
          "text": [
            "Requesting GET to https://graph.mapillary.com/167497382052739/?fields=merge_cc,mesh,altitude,sfm_cluster,atomic_scale,camera_parameters,camera_type,captured_at,compass_angle,computed_altitude,computed_compass_angle,computed_geometry,computed_rotation,exif_orientation,quality_score,height,width,sequence,thumb_2048_url,geometry&access_token=MLY%7C4957202544385847%7Ca397b7f76955e426cdfcfb2225b50ce6\n"
          ]
        },
        {
          "output_type": "stream",
          "name": "stderr",
          "text": [
            "INFO:mapillary.utils.client:Requesting GET to https://graph.mapillary.com/167497382052739/?fields=merge_cc,mesh,altitude,sfm_cluster,atomic_scale,camera_parameters,camera_type,captured_at,compass_angle,computed_altitude,computed_compass_angle,computed_geometry,computed_rotation,exif_orientation,quality_score,height,width,sequence,thumb_2048_url,geometry&access_token=MLY%7C4957202544385847%7Ca397b7f76955e426cdfcfb2225b50ce6\n"
          ]
        },
        {
          "output_type": "stream",
          "name": "stdout",
          "text": [
            "Response 200 OK received in 243ms\n"
          ]
        },
        {
          "output_type": "stream",
          "name": "stderr",
          "text": [
            "INFO:mapillary.utils.client:Response 200 OK received in 243ms\n"
          ]
        },
        {
          "output_type": "stream",
          "name": "stdout",
          "text": [
            "Requesting GET to https://graph.mapillary.com/301084385029415/?fields=merge_cc,mesh,altitude,sfm_cluster,atomic_scale,camera_parameters,camera_type,captured_at,compass_angle,computed_altitude,computed_compass_angle,computed_geometry,computed_rotation,exif_orientation,quality_score,height,width,sequence,thumb_2048_url,geometry&access_token=MLY%7C4957202544385847%7Ca397b7f76955e426cdfcfb2225b50ce6\n"
          ]
        },
        {
          "output_type": "stream",
          "name": "stderr",
          "text": [
            "INFO:mapillary.utils.client:Requesting GET to https://graph.mapillary.com/301084385029415/?fields=merge_cc,mesh,altitude,sfm_cluster,atomic_scale,camera_parameters,camera_type,captured_at,compass_angle,computed_altitude,computed_compass_angle,computed_geometry,computed_rotation,exif_orientation,quality_score,height,width,sequence,thumb_2048_url,geometry&access_token=MLY%7C4957202544385847%7Ca397b7f76955e426cdfcfb2225b50ce6\n"
          ]
        },
        {
          "output_type": "stream",
          "name": "stdout",
          "text": [
            "Response 200 OK received in 300ms\n"
          ]
        },
        {
          "output_type": "stream",
          "name": "stderr",
          "text": [
            "INFO:mapillary.utils.client:Response 200 OK received in 300ms\n"
          ]
        },
        {
          "output_type": "stream",
          "name": "stdout",
          "text": [
            "Requesting GET to https://graph.mapillary.com/812988619622377/?fields=merge_cc,mesh,altitude,sfm_cluster,atomic_scale,camera_parameters,camera_type,captured_at,compass_angle,computed_altitude,computed_compass_angle,computed_geometry,computed_rotation,exif_orientation,quality_score,height,width,sequence,thumb_2048_url,geometry&access_token=MLY%7C4957202544385847%7Ca397b7f76955e426cdfcfb2225b50ce6\n"
          ]
        },
        {
          "output_type": "stream",
          "name": "stderr",
          "text": [
            "INFO:mapillary.utils.client:Requesting GET to https://graph.mapillary.com/812988619622377/?fields=merge_cc,mesh,altitude,sfm_cluster,atomic_scale,camera_parameters,camera_type,captured_at,compass_angle,computed_altitude,computed_compass_angle,computed_geometry,computed_rotation,exif_orientation,quality_score,height,width,sequence,thumb_2048_url,geometry&access_token=MLY%7C4957202544385847%7Ca397b7f76955e426cdfcfb2225b50ce6\n"
          ]
        },
        {
          "output_type": "stream",
          "name": "stdout",
          "text": [
            "Response 200 OK received in 266ms\n"
          ]
        },
        {
          "output_type": "stream",
          "name": "stderr",
          "text": [
            "INFO:mapillary.utils.client:Response 200 OK received in 266ms\n"
          ]
        },
        {
          "output_type": "stream",
          "name": "stdout",
          "text": [
            "Requesting GET to https://graph.mapillary.com/2999695593595611/?fields=merge_cc,mesh,altitude,sfm_cluster,atomic_scale,camera_parameters,camera_type,captured_at,compass_angle,computed_altitude,computed_compass_angle,computed_geometry,computed_rotation,exif_orientation,quality_score,height,width,sequence,thumb_2048_url,geometry&access_token=MLY%7C4957202544385847%7Ca397b7f76955e426cdfcfb2225b50ce6\n"
          ]
        },
        {
          "output_type": "stream",
          "name": "stderr",
          "text": [
            "INFO:mapillary.utils.client:Requesting GET to https://graph.mapillary.com/2999695593595611/?fields=merge_cc,mesh,altitude,sfm_cluster,atomic_scale,camera_parameters,camera_type,captured_at,compass_angle,computed_altitude,computed_compass_angle,computed_geometry,computed_rotation,exif_orientation,quality_score,height,width,sequence,thumb_2048_url,geometry&access_token=MLY%7C4957202544385847%7Ca397b7f76955e426cdfcfb2225b50ce6\n"
          ]
        },
        {
          "output_type": "stream",
          "name": "stdout",
          "text": [
            "Response 200 OK received in 298ms\n"
          ]
        },
        {
          "output_type": "stream",
          "name": "stderr",
          "text": [
            "INFO:mapillary.utils.client:Response 200 OK received in 298ms\n"
          ]
        },
        {
          "output_type": "stream",
          "name": "stdout",
          "text": [
            "Requesting GET to https://graph.mapillary.com/1138658046635298/?fields=merge_cc,mesh,altitude,sfm_cluster,atomic_scale,camera_parameters,camera_type,captured_at,compass_angle,computed_altitude,computed_compass_angle,computed_geometry,computed_rotation,exif_orientation,quality_score,height,width,sequence,thumb_2048_url,geometry&access_token=MLY%7C4957202544385847%7Ca397b7f76955e426cdfcfb2225b50ce6\n"
          ]
        },
        {
          "output_type": "stream",
          "name": "stderr",
          "text": [
            "INFO:mapillary.utils.client:Requesting GET to https://graph.mapillary.com/1138658046635298/?fields=merge_cc,mesh,altitude,sfm_cluster,atomic_scale,camera_parameters,camera_type,captured_at,compass_angle,computed_altitude,computed_compass_angle,computed_geometry,computed_rotation,exif_orientation,quality_score,height,width,sequence,thumb_2048_url,geometry&access_token=MLY%7C4957202544385847%7Ca397b7f76955e426cdfcfb2225b50ce6\n"
          ]
        },
        {
          "output_type": "stream",
          "name": "stdout",
          "text": [
            "Response 200 OK received in 321ms\n"
          ]
        },
        {
          "output_type": "stream",
          "name": "stderr",
          "text": [
            "INFO:mapillary.utils.client:Response 200 OK received in 321ms\n"
          ]
        },
        {
          "output_type": "stream",
          "name": "stdout",
          "text": [
            "Requesting GET to https://graph.mapillary.com/5777921302280090/?fields=merge_cc,mesh,altitude,sfm_cluster,atomic_scale,camera_parameters,camera_type,captured_at,compass_angle,computed_altitude,computed_compass_angle,computed_geometry,computed_rotation,exif_orientation,quality_score,height,width,sequence,thumb_2048_url,geometry&access_token=MLY%7C4957202544385847%7Ca397b7f76955e426cdfcfb2225b50ce6\n"
          ]
        },
        {
          "output_type": "stream",
          "name": "stderr",
          "text": [
            "INFO:mapillary.utils.client:Requesting GET to https://graph.mapillary.com/5777921302280090/?fields=merge_cc,mesh,altitude,sfm_cluster,atomic_scale,camera_parameters,camera_type,captured_at,compass_angle,computed_altitude,computed_compass_angle,computed_geometry,computed_rotation,exif_orientation,quality_score,height,width,sequence,thumb_2048_url,geometry&access_token=MLY%7C4957202544385847%7Ca397b7f76955e426cdfcfb2225b50ce6\n"
          ]
        },
        {
          "output_type": "stream",
          "name": "stdout",
          "text": [
            "Response 200 OK received in 357ms\n"
          ]
        },
        {
          "output_type": "stream",
          "name": "stderr",
          "text": [
            "INFO:mapillary.utils.client:Response 200 OK received in 357ms\n"
          ]
        },
        {
          "output_type": "stream",
          "name": "stdout",
          "text": [
            "Requesting GET to https://graph.mapillary.com/314989330005637/?fields=merge_cc,mesh,altitude,sfm_cluster,atomic_scale,camera_parameters,camera_type,captured_at,compass_angle,computed_altitude,computed_compass_angle,computed_geometry,computed_rotation,exif_orientation,quality_score,height,width,sequence,thumb_2048_url,geometry&access_token=MLY%7C4957202544385847%7Ca397b7f76955e426cdfcfb2225b50ce6\n"
          ]
        },
        {
          "output_type": "stream",
          "name": "stderr",
          "text": [
            "INFO:mapillary.utils.client:Requesting GET to https://graph.mapillary.com/314989330005637/?fields=merge_cc,mesh,altitude,sfm_cluster,atomic_scale,camera_parameters,camera_type,captured_at,compass_angle,computed_altitude,computed_compass_angle,computed_geometry,computed_rotation,exif_orientation,quality_score,height,width,sequence,thumb_2048_url,geometry&access_token=MLY%7C4957202544385847%7Ca397b7f76955e426cdfcfb2225b50ce6\n"
          ]
        },
        {
          "output_type": "stream",
          "name": "stdout",
          "text": [
            "Response 200 OK received in 250ms\n"
          ]
        },
        {
          "output_type": "stream",
          "name": "stderr",
          "text": [
            "INFO:mapillary.utils.client:Response 200 OK received in 250ms\n"
          ]
        },
        {
          "output_type": "stream",
          "name": "stdout",
          "text": [
            "Requesting GET to https://graph.mapillary.com/162662379154895/?fields=merge_cc,mesh,altitude,sfm_cluster,atomic_scale,camera_parameters,camera_type,captured_at,compass_angle,computed_altitude,computed_compass_angle,computed_geometry,computed_rotation,exif_orientation,quality_score,height,width,sequence,thumb_2048_url,geometry&access_token=MLY%7C4957202544385847%7Ca397b7f76955e426cdfcfb2225b50ce6\n"
          ]
        },
        {
          "output_type": "stream",
          "name": "stderr",
          "text": [
            "INFO:mapillary.utils.client:Requesting GET to https://graph.mapillary.com/162662379154895/?fields=merge_cc,mesh,altitude,sfm_cluster,atomic_scale,camera_parameters,camera_type,captured_at,compass_angle,computed_altitude,computed_compass_angle,computed_geometry,computed_rotation,exif_orientation,quality_score,height,width,sequence,thumb_2048_url,geometry&access_token=MLY%7C4957202544385847%7Ca397b7f76955e426cdfcfb2225b50ce6\n"
          ]
        },
        {
          "output_type": "stream",
          "name": "stdout",
          "text": [
            "Response 200 OK received in 258ms\n"
          ]
        },
        {
          "output_type": "stream",
          "name": "stderr",
          "text": [
            "INFO:mapillary.utils.client:Response 200 OK received in 258ms\n"
          ]
        },
        {
          "output_type": "stream",
          "name": "stdout",
          "text": [
            "Requesting GET to https://graph.mapillary.com/2014483795375930/?fields=merge_cc,mesh,altitude,sfm_cluster,atomic_scale,camera_parameters,camera_type,captured_at,compass_angle,computed_altitude,computed_compass_angle,computed_geometry,computed_rotation,exif_orientation,quality_score,height,width,sequence,thumb_2048_url,geometry&access_token=MLY%7C4957202544385847%7Ca397b7f76955e426cdfcfb2225b50ce6\n"
          ]
        },
        {
          "output_type": "stream",
          "name": "stderr",
          "text": [
            "INFO:mapillary.utils.client:Requesting GET to https://graph.mapillary.com/2014483795375930/?fields=merge_cc,mesh,altitude,sfm_cluster,atomic_scale,camera_parameters,camera_type,captured_at,compass_angle,computed_altitude,computed_compass_angle,computed_geometry,computed_rotation,exif_orientation,quality_score,height,width,sequence,thumb_2048_url,geometry&access_token=MLY%7C4957202544385847%7Ca397b7f76955e426cdfcfb2225b50ce6\n"
          ]
        },
        {
          "output_type": "stream",
          "name": "stdout",
          "text": [
            "Response 200 OK received in 321ms\n"
          ]
        },
        {
          "output_type": "stream",
          "name": "stderr",
          "text": [
            "INFO:mapillary.utils.client:Response 200 OK received in 321ms\n"
          ]
        },
        {
          "output_type": "stream",
          "name": "stdout",
          "text": [
            "Requesting GET to https://graph.mapillary.com/468279417589938/?fields=merge_cc,mesh,altitude,sfm_cluster,atomic_scale,camera_parameters,camera_type,captured_at,compass_angle,computed_altitude,computed_compass_angle,computed_geometry,computed_rotation,exif_orientation,quality_score,height,width,sequence,thumb_2048_url,geometry&access_token=MLY%7C4957202544385847%7Ca397b7f76955e426cdfcfb2225b50ce6\n"
          ]
        },
        {
          "output_type": "stream",
          "name": "stderr",
          "text": [
            "INFO:mapillary.utils.client:Requesting GET to https://graph.mapillary.com/468279417589938/?fields=merge_cc,mesh,altitude,sfm_cluster,atomic_scale,camera_parameters,camera_type,captured_at,compass_angle,computed_altitude,computed_compass_angle,computed_geometry,computed_rotation,exif_orientation,quality_score,height,width,sequence,thumb_2048_url,geometry&access_token=MLY%7C4957202544385847%7Ca397b7f76955e426cdfcfb2225b50ce6\n"
          ]
        },
        {
          "output_type": "stream",
          "name": "stdout",
          "text": [
            "Response 200 OK received in 278ms\n"
          ]
        },
        {
          "output_type": "stream",
          "name": "stderr",
          "text": [
            "INFO:mapillary.utils.client:Response 200 OK received in 278ms\n"
          ]
        },
        {
          "output_type": "stream",
          "name": "stdout",
          "text": [
            "Requesting GET to https://graph.mapillary.com/763276854366933/?fields=merge_cc,mesh,altitude,sfm_cluster,atomic_scale,camera_parameters,camera_type,captured_at,compass_angle,computed_altitude,computed_compass_angle,computed_geometry,computed_rotation,exif_orientation,quality_score,height,width,sequence,thumb_2048_url,geometry&access_token=MLY%7C4957202544385847%7Ca397b7f76955e426cdfcfb2225b50ce6\n"
          ]
        },
        {
          "output_type": "stream",
          "name": "stderr",
          "text": [
            "INFO:mapillary.utils.client:Requesting GET to https://graph.mapillary.com/763276854366933/?fields=merge_cc,mesh,altitude,sfm_cluster,atomic_scale,camera_parameters,camera_type,captured_at,compass_angle,computed_altitude,computed_compass_angle,computed_geometry,computed_rotation,exif_orientation,quality_score,height,width,sequence,thumb_2048_url,geometry&access_token=MLY%7C4957202544385847%7Ca397b7f76955e426cdfcfb2225b50ce6\n"
          ]
        },
        {
          "output_type": "stream",
          "name": "stdout",
          "text": [
            "Response 200 OK received in 289ms\n"
          ]
        },
        {
          "output_type": "stream",
          "name": "stderr",
          "text": [
            "INFO:mapillary.utils.client:Response 200 OK received in 289ms\n"
          ]
        },
        {
          "output_type": "stream",
          "name": "stdout",
          "text": [
            "Requesting GET to https://graph.mapillary.com/320189926288064/?fields=merge_cc,mesh,altitude,sfm_cluster,atomic_scale,camera_parameters,camera_type,captured_at,compass_angle,computed_altitude,computed_compass_angle,computed_geometry,computed_rotation,exif_orientation,quality_score,height,width,sequence,thumb_2048_url,geometry&access_token=MLY%7C4957202544385847%7Ca397b7f76955e426cdfcfb2225b50ce6\n"
          ]
        },
        {
          "output_type": "stream",
          "name": "stderr",
          "text": [
            "INFO:mapillary.utils.client:Requesting GET to https://graph.mapillary.com/320189926288064/?fields=merge_cc,mesh,altitude,sfm_cluster,atomic_scale,camera_parameters,camera_type,captured_at,compass_angle,computed_altitude,computed_compass_angle,computed_geometry,computed_rotation,exif_orientation,quality_score,height,width,sequence,thumb_2048_url,geometry&access_token=MLY%7C4957202544385847%7Ca397b7f76955e426cdfcfb2225b50ce6\n"
          ]
        },
        {
          "output_type": "stream",
          "name": "stdout",
          "text": [
            "Response 200 OK received in 242ms\n"
          ]
        },
        {
          "output_type": "stream",
          "name": "stderr",
          "text": [
            "INFO:mapillary.utils.client:Response 200 OK received in 242ms\n"
          ]
        },
        {
          "output_type": "stream",
          "name": "stdout",
          "text": [
            "Requesting GET to https://graph.mapillary.com/1745113199023769/?fields=merge_cc,mesh,altitude,sfm_cluster,atomic_scale,camera_parameters,camera_type,captured_at,compass_angle,computed_altitude,computed_compass_angle,computed_geometry,computed_rotation,exif_orientation,quality_score,height,width,sequence,thumb_2048_url,geometry&access_token=MLY%7C4957202544385847%7Ca397b7f76955e426cdfcfb2225b50ce6\n"
          ]
        },
        {
          "output_type": "stream",
          "name": "stderr",
          "text": [
            "INFO:mapillary.utils.client:Requesting GET to https://graph.mapillary.com/1745113199023769/?fields=merge_cc,mesh,altitude,sfm_cluster,atomic_scale,camera_parameters,camera_type,captured_at,compass_angle,computed_altitude,computed_compass_angle,computed_geometry,computed_rotation,exif_orientation,quality_score,height,width,sequence,thumb_2048_url,geometry&access_token=MLY%7C4957202544385847%7Ca397b7f76955e426cdfcfb2225b50ce6\n"
          ]
        },
        {
          "output_type": "stream",
          "name": "stdout",
          "text": [
            "Response 200 OK received in 320ms\n"
          ]
        },
        {
          "output_type": "stream",
          "name": "stderr",
          "text": [
            "INFO:mapillary.utils.client:Response 200 OK received in 320ms\n"
          ]
        },
        {
          "output_type": "stream",
          "name": "stdout",
          "text": [
            "Requesting GET to https://graph.mapillary.com/184648080112022/?fields=merge_cc,mesh,altitude,sfm_cluster,atomic_scale,camera_parameters,camera_type,captured_at,compass_angle,computed_altitude,computed_compass_angle,computed_geometry,computed_rotation,exif_orientation,quality_score,height,width,sequence,thumb_2048_url,geometry&access_token=MLY%7C4957202544385847%7Ca397b7f76955e426cdfcfb2225b50ce6\n"
          ]
        },
        {
          "output_type": "stream",
          "name": "stderr",
          "text": [
            "INFO:mapillary.utils.client:Requesting GET to https://graph.mapillary.com/184648080112022/?fields=merge_cc,mesh,altitude,sfm_cluster,atomic_scale,camera_parameters,camera_type,captured_at,compass_angle,computed_altitude,computed_compass_angle,computed_geometry,computed_rotation,exif_orientation,quality_score,height,width,sequence,thumb_2048_url,geometry&access_token=MLY%7C4957202544385847%7Ca397b7f76955e426cdfcfb2225b50ce6\n"
          ]
        },
        {
          "output_type": "stream",
          "name": "stdout",
          "text": [
            "Response 200 OK received in 298ms\n"
          ]
        },
        {
          "output_type": "stream",
          "name": "stderr",
          "text": [
            "INFO:mapillary.utils.client:Response 200 OK received in 298ms\n"
          ]
        },
        {
          "output_type": "stream",
          "name": "stdout",
          "text": [
            "Requesting GET to https://graph.mapillary.com/1409229916117958/?fields=merge_cc,mesh,altitude,sfm_cluster,atomic_scale,camera_parameters,camera_type,captured_at,compass_angle,computed_altitude,computed_compass_angle,computed_geometry,computed_rotation,exif_orientation,quality_score,height,width,sequence,thumb_2048_url,geometry&access_token=MLY%7C4957202544385847%7Ca397b7f76955e426cdfcfb2225b50ce6\n"
          ]
        },
        {
          "output_type": "stream",
          "name": "stderr",
          "text": [
            "INFO:mapillary.utils.client:Requesting GET to https://graph.mapillary.com/1409229916117958/?fields=merge_cc,mesh,altitude,sfm_cluster,atomic_scale,camera_parameters,camera_type,captured_at,compass_angle,computed_altitude,computed_compass_angle,computed_geometry,computed_rotation,exif_orientation,quality_score,height,width,sequence,thumb_2048_url,geometry&access_token=MLY%7C4957202544385847%7Ca397b7f76955e426cdfcfb2225b50ce6\n"
          ]
        },
        {
          "output_type": "stream",
          "name": "stdout",
          "text": [
            "Response 200 OK received in 296ms\n"
          ]
        },
        {
          "output_type": "stream",
          "name": "stderr",
          "text": [
            "INFO:mapillary.utils.client:Response 200 OK received in 296ms\n"
          ]
        },
        {
          "output_type": "stream",
          "name": "stdout",
          "text": [
            "Requesting GET to https://graph.mapillary.com/1381268132248609/?fields=merge_cc,mesh,altitude,sfm_cluster,atomic_scale,camera_parameters,camera_type,captured_at,compass_angle,computed_altitude,computed_compass_angle,computed_geometry,computed_rotation,exif_orientation,quality_score,height,width,sequence,thumb_2048_url,geometry&access_token=MLY%7C4957202544385847%7Ca397b7f76955e426cdfcfb2225b50ce6\n"
          ]
        },
        {
          "output_type": "stream",
          "name": "stderr",
          "text": [
            "INFO:mapillary.utils.client:Requesting GET to https://graph.mapillary.com/1381268132248609/?fields=merge_cc,mesh,altitude,sfm_cluster,atomic_scale,camera_parameters,camera_type,captured_at,compass_angle,computed_altitude,computed_compass_angle,computed_geometry,computed_rotation,exif_orientation,quality_score,height,width,sequence,thumb_2048_url,geometry&access_token=MLY%7C4957202544385847%7Ca397b7f76955e426cdfcfb2225b50ce6\n"
          ]
        },
        {
          "output_type": "stream",
          "name": "stdout",
          "text": [
            "Response 200 OK received in 246ms\n"
          ]
        },
        {
          "output_type": "stream",
          "name": "stderr",
          "text": [
            "INFO:mapillary.utils.client:Response 200 OK received in 246ms\n"
          ]
        },
        {
          "output_type": "stream",
          "name": "stdout",
          "text": [
            "Requesting GET to https://graph.mapillary.com/319204882981597/?fields=merge_cc,mesh,altitude,sfm_cluster,atomic_scale,camera_parameters,camera_type,captured_at,compass_angle,computed_altitude,computed_compass_angle,computed_geometry,computed_rotation,exif_orientation,quality_score,height,width,sequence,thumb_2048_url,geometry&access_token=MLY%7C4957202544385847%7Ca397b7f76955e426cdfcfb2225b50ce6\n"
          ]
        },
        {
          "output_type": "stream",
          "name": "stderr",
          "text": [
            "INFO:mapillary.utils.client:Requesting GET to https://graph.mapillary.com/319204882981597/?fields=merge_cc,mesh,altitude,sfm_cluster,atomic_scale,camera_parameters,camera_type,captured_at,compass_angle,computed_altitude,computed_compass_angle,computed_geometry,computed_rotation,exif_orientation,quality_score,height,width,sequence,thumb_2048_url,geometry&access_token=MLY%7C4957202544385847%7Ca397b7f76955e426cdfcfb2225b50ce6\n"
          ]
        },
        {
          "output_type": "stream",
          "name": "stdout",
          "text": [
            "Response 200 OK received in 301ms\n"
          ]
        },
        {
          "output_type": "stream",
          "name": "stderr",
          "text": [
            "INFO:mapillary.utils.client:Response 200 OK received in 301ms\n"
          ]
        },
        {
          "output_type": "stream",
          "name": "stdout",
          "text": [
            "Requesting GET to https://graph.mapillary.com/886590658591251/?fields=merge_cc,mesh,altitude,sfm_cluster,atomic_scale,camera_parameters,camera_type,captured_at,compass_angle,computed_altitude,computed_compass_angle,computed_geometry,computed_rotation,exif_orientation,quality_score,height,width,sequence,thumb_2048_url,geometry&access_token=MLY%7C4957202544385847%7Ca397b7f76955e426cdfcfb2225b50ce6\n"
          ]
        },
        {
          "output_type": "stream",
          "name": "stderr",
          "text": [
            "INFO:mapillary.utils.client:Requesting GET to https://graph.mapillary.com/886590658591251/?fields=merge_cc,mesh,altitude,sfm_cluster,atomic_scale,camera_parameters,camera_type,captured_at,compass_angle,computed_altitude,computed_compass_angle,computed_geometry,computed_rotation,exif_orientation,quality_score,height,width,sequence,thumb_2048_url,geometry&access_token=MLY%7C4957202544385847%7Ca397b7f76955e426cdfcfb2225b50ce6\n"
          ]
        },
        {
          "output_type": "stream",
          "name": "stdout",
          "text": [
            "Response 200 OK received in 295ms\n"
          ]
        },
        {
          "output_type": "stream",
          "name": "stderr",
          "text": [
            "INFO:mapillary.utils.client:Response 200 OK received in 295ms\n"
          ]
        },
        {
          "output_type": "stream",
          "name": "stdout",
          "text": [
            "Requesting GET to https://graph.mapillary.com/541751243520884/?fields=merge_cc,mesh,altitude,sfm_cluster,atomic_scale,camera_parameters,camera_type,captured_at,compass_angle,computed_altitude,computed_compass_angle,computed_geometry,computed_rotation,exif_orientation,quality_score,height,width,sequence,thumb_2048_url,geometry&access_token=MLY%7C4957202544385847%7Ca397b7f76955e426cdfcfb2225b50ce6\n"
          ]
        },
        {
          "output_type": "stream",
          "name": "stderr",
          "text": [
            "INFO:mapillary.utils.client:Requesting GET to https://graph.mapillary.com/541751243520884/?fields=merge_cc,mesh,altitude,sfm_cluster,atomic_scale,camera_parameters,camera_type,captured_at,compass_angle,computed_altitude,computed_compass_angle,computed_geometry,computed_rotation,exif_orientation,quality_score,height,width,sequence,thumb_2048_url,geometry&access_token=MLY%7C4957202544385847%7Ca397b7f76955e426cdfcfb2225b50ce6\n"
          ]
        },
        {
          "output_type": "stream",
          "name": "stdout",
          "text": [
            "Response 200 OK received in 234ms\n"
          ]
        },
        {
          "output_type": "stream",
          "name": "stderr",
          "text": [
            "INFO:mapillary.utils.client:Response 200 OK received in 234ms\n"
          ]
        },
        {
          "output_type": "stream",
          "name": "stdout",
          "text": [
            "Requesting GET to https://graph.mapillary.com/852967058648696/?fields=merge_cc,mesh,altitude,sfm_cluster,atomic_scale,camera_parameters,camera_type,captured_at,compass_angle,computed_altitude,computed_compass_angle,computed_geometry,computed_rotation,exif_orientation,quality_score,height,width,sequence,thumb_2048_url,geometry&access_token=MLY%7C4957202544385847%7Ca397b7f76955e426cdfcfb2225b50ce6\n"
          ]
        },
        {
          "output_type": "stream",
          "name": "stderr",
          "text": [
            "INFO:mapillary.utils.client:Requesting GET to https://graph.mapillary.com/852967058648696/?fields=merge_cc,mesh,altitude,sfm_cluster,atomic_scale,camera_parameters,camera_type,captured_at,compass_angle,computed_altitude,computed_compass_angle,computed_geometry,computed_rotation,exif_orientation,quality_score,height,width,sequence,thumb_2048_url,geometry&access_token=MLY%7C4957202544385847%7Ca397b7f76955e426cdfcfb2225b50ce6\n"
          ]
        },
        {
          "output_type": "stream",
          "name": "stdout",
          "text": [
            "Response 200 OK received in 287ms\n"
          ]
        },
        {
          "output_type": "stream",
          "name": "stderr",
          "text": [
            "INFO:mapillary.utils.client:Response 200 OK received in 287ms\n"
          ]
        },
        {
          "output_type": "stream",
          "name": "stdout",
          "text": [
            "Requesting GET to https://graph.mapillary.com/2905649553013130/?fields=merge_cc,mesh,altitude,sfm_cluster,atomic_scale,camera_parameters,camera_type,captured_at,compass_angle,computed_altitude,computed_compass_angle,computed_geometry,computed_rotation,exif_orientation,quality_score,height,width,sequence,thumb_2048_url,geometry&access_token=MLY%7C4957202544385847%7Ca397b7f76955e426cdfcfb2225b50ce6\n"
          ]
        },
        {
          "output_type": "stream",
          "name": "stderr",
          "text": [
            "INFO:mapillary.utils.client:Requesting GET to https://graph.mapillary.com/2905649553013130/?fields=merge_cc,mesh,altitude,sfm_cluster,atomic_scale,camera_parameters,camera_type,captured_at,compass_angle,computed_altitude,computed_compass_angle,computed_geometry,computed_rotation,exif_orientation,quality_score,height,width,sequence,thumb_2048_url,geometry&access_token=MLY%7C4957202544385847%7Ca397b7f76955e426cdfcfb2225b50ce6\n"
          ]
        },
        {
          "output_type": "stream",
          "name": "stdout",
          "text": [
            "Response 200 OK received in 257ms\n"
          ]
        },
        {
          "output_type": "stream",
          "name": "stderr",
          "text": [
            "INFO:mapillary.utils.client:Response 200 OK received in 257ms\n"
          ]
        },
        {
          "output_type": "stream",
          "name": "stdout",
          "text": [
            "Requesting GET to https://graph.mapillary.com/275914790831422/?fields=merge_cc,mesh,altitude,sfm_cluster,atomic_scale,camera_parameters,camera_type,captured_at,compass_angle,computed_altitude,computed_compass_angle,computed_geometry,computed_rotation,exif_orientation,quality_score,height,width,sequence,thumb_2048_url,geometry&access_token=MLY%7C4957202544385847%7Ca397b7f76955e426cdfcfb2225b50ce6\n"
          ]
        },
        {
          "output_type": "stream",
          "name": "stderr",
          "text": [
            "INFO:mapillary.utils.client:Requesting GET to https://graph.mapillary.com/275914790831422/?fields=merge_cc,mesh,altitude,sfm_cluster,atomic_scale,camera_parameters,camera_type,captured_at,compass_angle,computed_altitude,computed_compass_angle,computed_geometry,computed_rotation,exif_orientation,quality_score,height,width,sequence,thumb_2048_url,geometry&access_token=MLY%7C4957202544385847%7Ca397b7f76955e426cdfcfb2225b50ce6\n"
          ]
        },
        {
          "output_type": "stream",
          "name": "stdout",
          "text": [
            "Response 200 OK received in 320ms\n"
          ]
        },
        {
          "output_type": "stream",
          "name": "stderr",
          "text": [
            "INFO:mapillary.utils.client:Response 200 OK received in 320ms\n"
          ]
        },
        {
          "output_type": "stream",
          "name": "stdout",
          "text": [
            "Requesting GET to https://graph.mapillary.com/304589364635433/?fields=merge_cc,mesh,altitude,sfm_cluster,atomic_scale,camera_parameters,camera_type,captured_at,compass_angle,computed_altitude,computed_compass_angle,computed_geometry,computed_rotation,exif_orientation,quality_score,height,width,sequence,thumb_2048_url,geometry&access_token=MLY%7C4957202544385847%7Ca397b7f76955e426cdfcfb2225b50ce6\n"
          ]
        },
        {
          "output_type": "stream",
          "name": "stderr",
          "text": [
            "INFO:mapillary.utils.client:Requesting GET to https://graph.mapillary.com/304589364635433/?fields=merge_cc,mesh,altitude,sfm_cluster,atomic_scale,camera_parameters,camera_type,captured_at,compass_angle,computed_altitude,computed_compass_angle,computed_geometry,computed_rotation,exif_orientation,quality_score,height,width,sequence,thumb_2048_url,geometry&access_token=MLY%7C4957202544385847%7Ca397b7f76955e426cdfcfb2225b50ce6\n"
          ]
        },
        {
          "output_type": "stream",
          "name": "stdout",
          "text": [
            "Response 200 OK received in 300ms\n"
          ]
        },
        {
          "output_type": "stream",
          "name": "stderr",
          "text": [
            "INFO:mapillary.utils.client:Response 200 OK received in 300ms\n"
          ]
        },
        {
          "output_type": "stream",
          "name": "stdout",
          "text": [
            "Requesting GET to https://graph.mapillary.com/183749286992778/?fields=merge_cc,mesh,altitude,sfm_cluster,atomic_scale,camera_parameters,camera_type,captured_at,compass_angle,computed_altitude,computed_compass_angle,computed_geometry,computed_rotation,exif_orientation,quality_score,height,width,sequence,thumb_2048_url,geometry&access_token=MLY%7C4957202544385847%7Ca397b7f76955e426cdfcfb2225b50ce6\n"
          ]
        },
        {
          "output_type": "stream",
          "name": "stderr",
          "text": [
            "INFO:mapillary.utils.client:Requesting GET to https://graph.mapillary.com/183749286992778/?fields=merge_cc,mesh,altitude,sfm_cluster,atomic_scale,camera_parameters,camera_type,captured_at,compass_angle,computed_altitude,computed_compass_angle,computed_geometry,computed_rotation,exif_orientation,quality_score,height,width,sequence,thumb_2048_url,geometry&access_token=MLY%7C4957202544385847%7Ca397b7f76955e426cdfcfb2225b50ce6\n"
          ]
        },
        {
          "output_type": "stream",
          "name": "stdout",
          "text": [
            "Response 200 OK received in 249ms\n"
          ]
        },
        {
          "output_type": "stream",
          "name": "stderr",
          "text": [
            "INFO:mapillary.utils.client:Response 200 OK received in 249ms\n"
          ]
        },
        {
          "output_type": "stream",
          "name": "stdout",
          "text": [
            "Requesting GET to https://graph.mapillary.com/321819029451379/?fields=merge_cc,mesh,altitude,sfm_cluster,atomic_scale,camera_parameters,camera_type,captured_at,compass_angle,computed_altitude,computed_compass_angle,computed_geometry,computed_rotation,exif_orientation,quality_score,height,width,sequence,thumb_2048_url,geometry&access_token=MLY%7C4957202544385847%7Ca397b7f76955e426cdfcfb2225b50ce6\n"
          ]
        },
        {
          "output_type": "stream",
          "name": "stderr",
          "text": [
            "INFO:mapillary.utils.client:Requesting GET to https://graph.mapillary.com/321819029451379/?fields=merge_cc,mesh,altitude,sfm_cluster,atomic_scale,camera_parameters,camera_type,captured_at,compass_angle,computed_altitude,computed_compass_angle,computed_geometry,computed_rotation,exif_orientation,quality_score,height,width,sequence,thumb_2048_url,geometry&access_token=MLY%7C4957202544385847%7Ca397b7f76955e426cdfcfb2225b50ce6\n"
          ]
        },
        {
          "output_type": "stream",
          "name": "stdout",
          "text": [
            "Response 200 OK received in 302ms\n"
          ]
        },
        {
          "output_type": "stream",
          "name": "stderr",
          "text": [
            "INFO:mapillary.utils.client:Response 200 OK received in 302ms\n"
          ]
        },
        {
          "output_type": "stream",
          "name": "stdout",
          "text": [
            "Requesting GET to https://graph.mapillary.com/383079906355306/?fields=merge_cc,mesh,altitude,sfm_cluster,atomic_scale,camera_parameters,camera_type,captured_at,compass_angle,computed_altitude,computed_compass_angle,computed_geometry,computed_rotation,exif_orientation,quality_score,height,width,sequence,thumb_2048_url,geometry&access_token=MLY%7C4957202544385847%7Ca397b7f76955e426cdfcfb2225b50ce6\n"
          ]
        },
        {
          "output_type": "stream",
          "name": "stderr",
          "text": [
            "INFO:mapillary.utils.client:Requesting GET to https://graph.mapillary.com/383079906355306/?fields=merge_cc,mesh,altitude,sfm_cluster,atomic_scale,camera_parameters,camera_type,captured_at,compass_angle,computed_altitude,computed_compass_angle,computed_geometry,computed_rotation,exif_orientation,quality_score,height,width,sequence,thumb_2048_url,geometry&access_token=MLY%7C4957202544385847%7Ca397b7f76955e426cdfcfb2225b50ce6\n"
          ]
        },
        {
          "output_type": "stream",
          "name": "stdout",
          "text": [
            "Response 200 OK received in 297ms\n"
          ]
        },
        {
          "output_type": "stream",
          "name": "stderr",
          "text": [
            "INFO:mapillary.utils.client:Response 200 OK received in 297ms\n"
          ]
        },
        {
          "output_type": "stream",
          "name": "stdout",
          "text": [
            "Requesting GET to https://graph.mapillary.com/933758214126143/?fields=merge_cc,mesh,altitude,sfm_cluster,atomic_scale,camera_parameters,camera_type,captured_at,compass_angle,computed_altitude,computed_compass_angle,computed_geometry,computed_rotation,exif_orientation,quality_score,height,width,sequence,thumb_2048_url,geometry&access_token=MLY%7C4957202544385847%7Ca397b7f76955e426cdfcfb2225b50ce6\n"
          ]
        },
        {
          "output_type": "stream",
          "name": "stderr",
          "text": [
            "INFO:mapillary.utils.client:Requesting GET to https://graph.mapillary.com/933758214126143/?fields=merge_cc,mesh,altitude,sfm_cluster,atomic_scale,camera_parameters,camera_type,captured_at,compass_angle,computed_altitude,computed_compass_angle,computed_geometry,computed_rotation,exif_orientation,quality_score,height,width,sequence,thumb_2048_url,geometry&access_token=MLY%7C4957202544385847%7Ca397b7f76955e426cdfcfb2225b50ce6\n"
          ]
        },
        {
          "output_type": "stream",
          "name": "stdout",
          "text": [
            "Response 200 OK received in 254ms\n"
          ]
        },
        {
          "output_type": "stream",
          "name": "stderr",
          "text": [
            "INFO:mapillary.utils.client:Response 200 OK received in 254ms\n"
          ]
        },
        {
          "output_type": "stream",
          "name": "stdout",
          "text": [
            "Requesting GET to https://graph.mapillary.com/2022308064586759/?fields=merge_cc,mesh,altitude,sfm_cluster,atomic_scale,camera_parameters,camera_type,captured_at,compass_angle,computed_altitude,computed_compass_angle,computed_geometry,computed_rotation,exif_orientation,quality_score,height,width,sequence,thumb_2048_url,geometry&access_token=MLY%7C4957202544385847%7Ca397b7f76955e426cdfcfb2225b50ce6\n"
          ]
        },
        {
          "output_type": "stream",
          "name": "stderr",
          "text": [
            "INFO:mapillary.utils.client:Requesting GET to https://graph.mapillary.com/2022308064586759/?fields=merge_cc,mesh,altitude,sfm_cluster,atomic_scale,camera_parameters,camera_type,captured_at,compass_angle,computed_altitude,computed_compass_angle,computed_geometry,computed_rotation,exif_orientation,quality_score,height,width,sequence,thumb_2048_url,geometry&access_token=MLY%7C4957202544385847%7Ca397b7f76955e426cdfcfb2225b50ce6\n"
          ]
        },
        {
          "output_type": "stream",
          "name": "stdout",
          "text": [
            "Response 200 OK received in 368ms\n"
          ]
        },
        {
          "output_type": "stream",
          "name": "stderr",
          "text": [
            "INFO:mapillary.utils.client:Response 200 OK received in 368ms\n"
          ]
        },
        {
          "output_type": "stream",
          "name": "stdout",
          "text": [
            "Requesting GET to https://graph.mapillary.com/315228623623560/?fields=merge_cc,mesh,altitude,sfm_cluster,atomic_scale,camera_parameters,camera_type,captured_at,compass_angle,computed_altitude,computed_compass_angle,computed_geometry,computed_rotation,exif_orientation,quality_score,height,width,sequence,thumb_2048_url,geometry&access_token=MLY%7C4957202544385847%7Ca397b7f76955e426cdfcfb2225b50ce6\n"
          ]
        },
        {
          "output_type": "stream",
          "name": "stderr",
          "text": [
            "INFO:mapillary.utils.client:Requesting GET to https://graph.mapillary.com/315228623623560/?fields=merge_cc,mesh,altitude,sfm_cluster,atomic_scale,camera_parameters,camera_type,captured_at,compass_angle,computed_altitude,computed_compass_angle,computed_geometry,computed_rotation,exif_orientation,quality_score,height,width,sequence,thumb_2048_url,geometry&access_token=MLY%7C4957202544385847%7Ca397b7f76955e426cdfcfb2225b50ce6\n"
          ]
        },
        {
          "output_type": "stream",
          "name": "stdout",
          "text": [
            "Response 200 OK received in 273ms\n"
          ]
        },
        {
          "output_type": "stream",
          "name": "stderr",
          "text": [
            "INFO:mapillary.utils.client:Response 200 OK received in 273ms\n"
          ]
        },
        {
          "output_type": "stream",
          "name": "stdout",
          "text": [
            "Requesting GET to https://graph.mapillary.com/326107098924225/?fields=merge_cc,mesh,altitude,sfm_cluster,atomic_scale,camera_parameters,camera_type,captured_at,compass_angle,computed_altitude,computed_compass_angle,computed_geometry,computed_rotation,exif_orientation,quality_score,height,width,sequence,thumb_2048_url,geometry&access_token=MLY%7C4957202544385847%7Ca397b7f76955e426cdfcfb2225b50ce6\n"
          ]
        },
        {
          "output_type": "stream",
          "name": "stderr",
          "text": [
            "INFO:mapillary.utils.client:Requesting GET to https://graph.mapillary.com/326107098924225/?fields=merge_cc,mesh,altitude,sfm_cluster,atomic_scale,camera_parameters,camera_type,captured_at,compass_angle,computed_altitude,computed_compass_angle,computed_geometry,computed_rotation,exif_orientation,quality_score,height,width,sequence,thumb_2048_url,geometry&access_token=MLY%7C4957202544385847%7Ca397b7f76955e426cdfcfb2225b50ce6\n"
          ]
        },
        {
          "output_type": "stream",
          "name": "stdout",
          "text": [
            "Response 200 OK received in 254ms\n"
          ]
        },
        {
          "output_type": "stream",
          "name": "stderr",
          "text": [
            "INFO:mapillary.utils.client:Response 200 OK received in 254ms\n"
          ]
        },
        {
          "output_type": "stream",
          "name": "stdout",
          "text": [
            "Requesting GET to https://graph.mapillary.com/511618453301716/?fields=merge_cc,mesh,altitude,sfm_cluster,atomic_scale,camera_parameters,camera_type,captured_at,compass_angle,computed_altitude,computed_compass_angle,computed_geometry,computed_rotation,exif_orientation,quality_score,height,width,sequence,thumb_2048_url,geometry&access_token=MLY%7C4957202544385847%7Ca397b7f76955e426cdfcfb2225b50ce6\n"
          ]
        },
        {
          "output_type": "stream",
          "name": "stderr",
          "text": [
            "INFO:mapillary.utils.client:Requesting GET to https://graph.mapillary.com/511618453301716/?fields=merge_cc,mesh,altitude,sfm_cluster,atomic_scale,camera_parameters,camera_type,captured_at,compass_angle,computed_altitude,computed_compass_angle,computed_geometry,computed_rotation,exif_orientation,quality_score,height,width,sequence,thumb_2048_url,geometry&access_token=MLY%7C4957202544385847%7Ca397b7f76955e426cdfcfb2225b50ce6\n"
          ]
        },
        {
          "output_type": "stream",
          "name": "stdout",
          "text": [
            "Response 200 OK received in 274ms\n"
          ]
        },
        {
          "output_type": "stream",
          "name": "stderr",
          "text": [
            "INFO:mapillary.utils.client:Response 200 OK received in 274ms\n"
          ]
        },
        {
          "output_type": "stream",
          "name": "stdout",
          "text": [
            "Requesting GET to https://graph.mapillary.com/507742433681060/?fields=merge_cc,mesh,altitude,sfm_cluster,atomic_scale,camera_parameters,camera_type,captured_at,compass_angle,computed_altitude,computed_compass_angle,computed_geometry,computed_rotation,exif_orientation,quality_score,height,width,sequence,thumb_2048_url,geometry&access_token=MLY%7C4957202544385847%7Ca397b7f76955e426cdfcfb2225b50ce6\n"
          ]
        },
        {
          "output_type": "stream",
          "name": "stderr",
          "text": [
            "INFO:mapillary.utils.client:Requesting GET to https://graph.mapillary.com/507742433681060/?fields=merge_cc,mesh,altitude,sfm_cluster,atomic_scale,camera_parameters,camera_type,captured_at,compass_angle,computed_altitude,computed_compass_angle,computed_geometry,computed_rotation,exif_orientation,quality_score,height,width,sequence,thumb_2048_url,geometry&access_token=MLY%7C4957202544385847%7Ca397b7f76955e426cdfcfb2225b50ce6\n"
          ]
        },
        {
          "output_type": "stream",
          "name": "stdout",
          "text": [
            "Response 200 OK received in 273ms\n"
          ]
        },
        {
          "output_type": "stream",
          "name": "stderr",
          "text": [
            "INFO:mapillary.utils.client:Response 200 OK received in 273ms\n"
          ]
        },
        {
          "output_type": "stream",
          "name": "stdout",
          "text": [
            "Requesting GET to https://graph.mapillary.com/2896445087274849/?fields=merge_cc,mesh,altitude,sfm_cluster,atomic_scale,camera_parameters,camera_type,captured_at,compass_angle,computed_altitude,computed_compass_angle,computed_geometry,computed_rotation,exif_orientation,quality_score,height,width,sequence,thumb_2048_url,geometry&access_token=MLY%7C4957202544385847%7Ca397b7f76955e426cdfcfb2225b50ce6\n"
          ]
        },
        {
          "output_type": "stream",
          "name": "stderr",
          "text": [
            "INFO:mapillary.utils.client:Requesting GET to https://graph.mapillary.com/2896445087274849/?fields=merge_cc,mesh,altitude,sfm_cluster,atomic_scale,camera_parameters,camera_type,captured_at,compass_angle,computed_altitude,computed_compass_angle,computed_geometry,computed_rotation,exif_orientation,quality_score,height,width,sequence,thumb_2048_url,geometry&access_token=MLY%7C4957202544385847%7Ca397b7f76955e426cdfcfb2225b50ce6\n"
          ]
        },
        {
          "output_type": "stream",
          "name": "stdout",
          "text": [
            "Response 200 OK received in 261ms\n"
          ]
        },
        {
          "output_type": "stream",
          "name": "stderr",
          "text": [
            "INFO:mapillary.utils.client:Response 200 OK received in 261ms\n"
          ]
        },
        {
          "output_type": "stream",
          "name": "stdout",
          "text": [
            "Requesting GET to https://graph.mapillary.com/798712307703051/?fields=merge_cc,mesh,altitude,sfm_cluster,atomic_scale,camera_parameters,camera_type,captured_at,compass_angle,computed_altitude,computed_compass_angle,computed_geometry,computed_rotation,exif_orientation,quality_score,height,width,sequence,thumb_2048_url,geometry&access_token=MLY%7C4957202544385847%7Ca397b7f76955e426cdfcfb2225b50ce6\n"
          ]
        },
        {
          "output_type": "stream",
          "name": "stderr",
          "text": [
            "INFO:mapillary.utils.client:Requesting GET to https://graph.mapillary.com/798712307703051/?fields=merge_cc,mesh,altitude,sfm_cluster,atomic_scale,camera_parameters,camera_type,captured_at,compass_angle,computed_altitude,computed_compass_angle,computed_geometry,computed_rotation,exif_orientation,quality_score,height,width,sequence,thumb_2048_url,geometry&access_token=MLY%7C4957202544385847%7Ca397b7f76955e426cdfcfb2225b50ce6\n"
          ]
        },
        {
          "output_type": "stream",
          "name": "stdout",
          "text": [
            "Response 200 OK received in 324ms\n"
          ]
        },
        {
          "output_type": "stream",
          "name": "stderr",
          "text": [
            "INFO:mapillary.utils.client:Response 200 OK received in 324ms\n"
          ]
        },
        {
          "output_type": "stream",
          "name": "stdout",
          "text": [
            "Requesting GET to https://graph.mapillary.com/113960600777436/?fields=merge_cc,mesh,altitude,sfm_cluster,atomic_scale,camera_parameters,camera_type,captured_at,compass_angle,computed_altitude,computed_compass_angle,computed_geometry,computed_rotation,exif_orientation,quality_score,height,width,sequence,thumb_2048_url,geometry&access_token=MLY%7C4957202544385847%7Ca397b7f76955e426cdfcfb2225b50ce6\n"
          ]
        },
        {
          "output_type": "stream",
          "name": "stderr",
          "text": [
            "INFO:mapillary.utils.client:Requesting GET to https://graph.mapillary.com/113960600777436/?fields=merge_cc,mesh,altitude,sfm_cluster,atomic_scale,camera_parameters,camera_type,captured_at,compass_angle,computed_altitude,computed_compass_angle,computed_geometry,computed_rotation,exif_orientation,quality_score,height,width,sequence,thumb_2048_url,geometry&access_token=MLY%7C4957202544385847%7Ca397b7f76955e426cdfcfb2225b50ce6\n"
          ]
        },
        {
          "output_type": "stream",
          "name": "stdout",
          "text": [
            "Response 200 OK received in 294ms\n"
          ]
        },
        {
          "output_type": "stream",
          "name": "stderr",
          "text": [
            "INFO:mapillary.utils.client:Response 200 OK received in 294ms\n"
          ]
        },
        {
          "output_type": "stream",
          "name": "stdout",
          "text": [
            "Requesting GET to https://graph.mapillary.com/302378388034635/?fields=merge_cc,mesh,altitude,sfm_cluster,atomic_scale,camera_parameters,camera_type,captured_at,compass_angle,computed_altitude,computed_compass_angle,computed_geometry,computed_rotation,exif_orientation,quality_score,height,width,sequence,thumb_2048_url,geometry&access_token=MLY%7C4957202544385847%7Ca397b7f76955e426cdfcfb2225b50ce6\n"
          ]
        },
        {
          "output_type": "stream",
          "name": "stderr",
          "text": [
            "INFO:mapillary.utils.client:Requesting GET to https://graph.mapillary.com/302378388034635/?fields=merge_cc,mesh,altitude,sfm_cluster,atomic_scale,camera_parameters,camera_type,captured_at,compass_angle,computed_altitude,computed_compass_angle,computed_geometry,computed_rotation,exif_orientation,quality_score,height,width,sequence,thumb_2048_url,geometry&access_token=MLY%7C4957202544385847%7Ca397b7f76955e426cdfcfb2225b50ce6\n"
          ]
        },
        {
          "output_type": "stream",
          "name": "stdout",
          "text": [
            "Response 200 OK received in 254ms\n"
          ]
        },
        {
          "output_type": "stream",
          "name": "stderr",
          "text": [
            "INFO:mapillary.utils.client:Response 200 OK received in 254ms\n"
          ]
        },
        {
          "output_type": "stream",
          "name": "stdout",
          "text": [
            "Requesting GET to https://graph.mapillary.com/212175057219215/?fields=merge_cc,mesh,altitude,sfm_cluster,atomic_scale,camera_parameters,camera_type,captured_at,compass_angle,computed_altitude,computed_compass_angle,computed_geometry,computed_rotation,exif_orientation,quality_score,height,width,sequence,thumb_2048_url,geometry&access_token=MLY%7C4957202544385847%7Ca397b7f76955e426cdfcfb2225b50ce6\n"
          ]
        },
        {
          "output_type": "stream",
          "name": "stderr",
          "text": [
            "INFO:mapillary.utils.client:Requesting GET to https://graph.mapillary.com/212175057219215/?fields=merge_cc,mesh,altitude,sfm_cluster,atomic_scale,camera_parameters,camera_type,captured_at,compass_angle,computed_altitude,computed_compass_angle,computed_geometry,computed_rotation,exif_orientation,quality_score,height,width,sequence,thumb_2048_url,geometry&access_token=MLY%7C4957202544385847%7Ca397b7f76955e426cdfcfb2225b50ce6\n"
          ]
        },
        {
          "output_type": "stream",
          "name": "stdout",
          "text": [
            "Response 200 OK received in 300ms\n"
          ]
        },
        {
          "output_type": "stream",
          "name": "stderr",
          "text": [
            "INFO:mapillary.utils.client:Response 200 OK received in 300ms\n"
          ]
        },
        {
          "output_type": "stream",
          "name": "stdout",
          "text": [
            "Requesting GET to https://graph.mapillary.com/1403000326730322/?fields=merge_cc,mesh,altitude,sfm_cluster,atomic_scale,camera_parameters,camera_type,captured_at,compass_angle,computed_altitude,computed_compass_angle,computed_geometry,computed_rotation,exif_orientation,quality_score,height,width,sequence,thumb_2048_url,geometry&access_token=MLY%7C4957202544385847%7Ca397b7f76955e426cdfcfb2225b50ce6\n"
          ]
        },
        {
          "output_type": "stream",
          "name": "stderr",
          "text": [
            "INFO:mapillary.utils.client:Requesting GET to https://graph.mapillary.com/1403000326730322/?fields=merge_cc,mesh,altitude,sfm_cluster,atomic_scale,camera_parameters,camera_type,captured_at,compass_angle,computed_altitude,computed_compass_angle,computed_geometry,computed_rotation,exif_orientation,quality_score,height,width,sequence,thumb_2048_url,geometry&access_token=MLY%7C4957202544385847%7Ca397b7f76955e426cdfcfb2225b50ce6\n"
          ]
        },
        {
          "output_type": "stream",
          "name": "stdout",
          "text": [
            "Response 200 OK received in 313ms\n"
          ]
        },
        {
          "output_type": "stream",
          "name": "stderr",
          "text": [
            "INFO:mapillary.utils.client:Response 200 OK received in 313ms\n"
          ]
        },
        {
          "output_type": "stream",
          "name": "stdout",
          "text": [
            "Requesting GET to https://graph.mapillary.com/361050908796343/?fields=merge_cc,mesh,altitude,sfm_cluster,atomic_scale,camera_parameters,camera_type,captured_at,compass_angle,computed_altitude,computed_compass_angle,computed_geometry,computed_rotation,exif_orientation,quality_score,height,width,sequence,thumb_2048_url,geometry&access_token=MLY%7C4957202544385847%7Ca397b7f76955e426cdfcfb2225b50ce6\n"
          ]
        },
        {
          "output_type": "stream",
          "name": "stderr",
          "text": [
            "INFO:mapillary.utils.client:Requesting GET to https://graph.mapillary.com/361050908796343/?fields=merge_cc,mesh,altitude,sfm_cluster,atomic_scale,camera_parameters,camera_type,captured_at,compass_angle,computed_altitude,computed_compass_angle,computed_geometry,computed_rotation,exif_orientation,quality_score,height,width,sequence,thumb_2048_url,geometry&access_token=MLY%7C4957202544385847%7Ca397b7f76955e426cdfcfb2225b50ce6\n"
          ]
        },
        {
          "output_type": "stream",
          "name": "stdout",
          "text": [
            "Response 200 OK received in 258ms\n"
          ]
        },
        {
          "output_type": "stream",
          "name": "stderr",
          "text": [
            "INFO:mapillary.utils.client:Response 200 OK received in 258ms\n"
          ]
        },
        {
          "output_type": "stream",
          "name": "stdout",
          "text": [
            "Requesting GET to https://graph.mapillary.com/194252462549382/?fields=merge_cc,mesh,altitude,sfm_cluster,atomic_scale,camera_parameters,camera_type,captured_at,compass_angle,computed_altitude,computed_compass_angle,computed_geometry,computed_rotation,exif_orientation,quality_score,height,width,sequence,thumb_2048_url,geometry&access_token=MLY%7C4957202544385847%7Ca397b7f76955e426cdfcfb2225b50ce6\n"
          ]
        },
        {
          "output_type": "stream",
          "name": "stderr",
          "text": [
            "INFO:mapillary.utils.client:Requesting GET to https://graph.mapillary.com/194252462549382/?fields=merge_cc,mesh,altitude,sfm_cluster,atomic_scale,camera_parameters,camera_type,captured_at,compass_angle,computed_altitude,computed_compass_angle,computed_geometry,computed_rotation,exif_orientation,quality_score,height,width,sequence,thumb_2048_url,geometry&access_token=MLY%7C4957202544385847%7Ca397b7f76955e426cdfcfb2225b50ce6\n"
          ]
        },
        {
          "output_type": "stream",
          "name": "stdout",
          "text": [
            "Response 200 OK received in 254ms\n"
          ]
        },
        {
          "output_type": "stream",
          "name": "stderr",
          "text": [
            "INFO:mapillary.utils.client:Response 200 OK received in 254ms\n"
          ]
        },
        {
          "output_type": "stream",
          "name": "stdout",
          "text": [
            "Requesting GET to https://graph.mapillary.com/151194250258150/?fields=merge_cc,mesh,altitude,sfm_cluster,atomic_scale,camera_parameters,camera_type,captured_at,compass_angle,computed_altitude,computed_compass_angle,computed_geometry,computed_rotation,exif_orientation,quality_score,height,width,sequence,thumb_2048_url,geometry&access_token=MLY%7C4957202544385847%7Ca397b7f76955e426cdfcfb2225b50ce6\n"
          ]
        },
        {
          "output_type": "stream",
          "name": "stderr",
          "text": [
            "INFO:mapillary.utils.client:Requesting GET to https://graph.mapillary.com/151194250258150/?fields=merge_cc,mesh,altitude,sfm_cluster,atomic_scale,camera_parameters,camera_type,captured_at,compass_angle,computed_altitude,computed_compass_angle,computed_geometry,computed_rotation,exif_orientation,quality_score,height,width,sequence,thumb_2048_url,geometry&access_token=MLY%7C4957202544385847%7Ca397b7f76955e426cdfcfb2225b50ce6\n"
          ]
        },
        {
          "output_type": "stream",
          "name": "stdout",
          "text": [
            "Response 200 OK received in 247ms\n"
          ]
        },
        {
          "output_type": "stream",
          "name": "stderr",
          "text": [
            "INFO:mapillary.utils.client:Response 200 OK received in 247ms\n"
          ]
        },
        {
          "output_type": "stream",
          "name": "stdout",
          "text": [
            "Requesting GET to https://graph.mapillary.com/501966237614901/?fields=merge_cc,mesh,altitude,sfm_cluster,atomic_scale,camera_parameters,camera_type,captured_at,compass_angle,computed_altitude,computed_compass_angle,computed_geometry,computed_rotation,exif_orientation,quality_score,height,width,sequence,thumb_2048_url,geometry&access_token=MLY%7C4957202544385847%7Ca397b7f76955e426cdfcfb2225b50ce6\n"
          ]
        },
        {
          "output_type": "stream",
          "name": "stderr",
          "text": [
            "INFO:mapillary.utils.client:Requesting GET to https://graph.mapillary.com/501966237614901/?fields=merge_cc,mesh,altitude,sfm_cluster,atomic_scale,camera_parameters,camera_type,captured_at,compass_angle,computed_altitude,computed_compass_angle,computed_geometry,computed_rotation,exif_orientation,quality_score,height,width,sequence,thumb_2048_url,geometry&access_token=MLY%7C4957202544385847%7Ca397b7f76955e426cdfcfb2225b50ce6\n"
          ]
        },
        {
          "output_type": "stream",
          "name": "stdout",
          "text": [
            "Response 200 OK received in 307ms\n"
          ]
        },
        {
          "output_type": "stream",
          "name": "stderr",
          "text": [
            "INFO:mapillary.utils.client:Response 200 OK received in 307ms\n"
          ]
        },
        {
          "output_type": "stream",
          "name": "stdout",
          "text": [
            "Requesting GET to https://graph.mapillary.com/521653729252414/?fields=merge_cc,mesh,altitude,sfm_cluster,atomic_scale,camera_parameters,camera_type,captured_at,compass_angle,computed_altitude,computed_compass_angle,computed_geometry,computed_rotation,exif_orientation,quality_score,height,width,sequence,thumb_2048_url,geometry&access_token=MLY%7C4957202544385847%7Ca397b7f76955e426cdfcfb2225b50ce6\n"
          ]
        },
        {
          "output_type": "stream",
          "name": "stderr",
          "text": [
            "INFO:mapillary.utils.client:Requesting GET to https://graph.mapillary.com/521653729252414/?fields=merge_cc,mesh,altitude,sfm_cluster,atomic_scale,camera_parameters,camera_type,captured_at,compass_angle,computed_altitude,computed_compass_angle,computed_geometry,computed_rotation,exif_orientation,quality_score,height,width,sequence,thumb_2048_url,geometry&access_token=MLY%7C4957202544385847%7Ca397b7f76955e426cdfcfb2225b50ce6\n"
          ]
        },
        {
          "output_type": "stream",
          "name": "stdout",
          "text": [
            "Response 200 OK received in 385ms\n"
          ]
        },
        {
          "output_type": "stream",
          "name": "stderr",
          "text": [
            "INFO:mapillary.utils.client:Response 200 OK received in 385ms\n"
          ]
        },
        {
          "output_type": "stream",
          "name": "stdout",
          "text": [
            "Requesting GET to https://graph.mapillary.com/382562526414011/?fields=merge_cc,mesh,altitude,sfm_cluster,atomic_scale,camera_parameters,camera_type,captured_at,compass_angle,computed_altitude,computed_compass_angle,computed_geometry,computed_rotation,exif_orientation,quality_score,height,width,sequence,thumb_2048_url,geometry&access_token=MLY%7C4957202544385847%7Ca397b7f76955e426cdfcfb2225b50ce6\n"
          ]
        },
        {
          "output_type": "stream",
          "name": "stderr",
          "text": [
            "INFO:mapillary.utils.client:Requesting GET to https://graph.mapillary.com/382562526414011/?fields=merge_cc,mesh,altitude,sfm_cluster,atomic_scale,camera_parameters,camera_type,captured_at,compass_angle,computed_altitude,computed_compass_angle,computed_geometry,computed_rotation,exif_orientation,quality_score,height,width,sequence,thumb_2048_url,geometry&access_token=MLY%7C4957202544385847%7Ca397b7f76955e426cdfcfb2225b50ce6\n"
          ]
        },
        {
          "output_type": "stream",
          "name": "stdout",
          "text": [
            "Response 200 OK received in 266ms\n"
          ]
        },
        {
          "output_type": "stream",
          "name": "stderr",
          "text": [
            "INFO:mapillary.utils.client:Response 200 OK received in 266ms\n"
          ]
        },
        {
          "output_type": "stream",
          "name": "stdout",
          "text": [
            "Requesting GET to https://graph.mapillary.com/475735956831455/?fields=merge_cc,mesh,altitude,sfm_cluster,atomic_scale,camera_parameters,camera_type,captured_at,compass_angle,computed_altitude,computed_compass_angle,computed_geometry,computed_rotation,exif_orientation,quality_score,height,width,sequence,thumb_2048_url,geometry&access_token=MLY%7C4957202544385847%7Ca397b7f76955e426cdfcfb2225b50ce6\n"
          ]
        },
        {
          "output_type": "stream",
          "name": "stderr",
          "text": [
            "INFO:mapillary.utils.client:Requesting GET to https://graph.mapillary.com/475735956831455/?fields=merge_cc,mesh,altitude,sfm_cluster,atomic_scale,camera_parameters,camera_type,captured_at,compass_angle,computed_altitude,computed_compass_angle,computed_geometry,computed_rotation,exif_orientation,quality_score,height,width,sequence,thumb_2048_url,geometry&access_token=MLY%7C4957202544385847%7Ca397b7f76955e426cdfcfb2225b50ce6\n"
          ]
        },
        {
          "output_type": "stream",
          "name": "stdout",
          "text": [
            "Response 200 OK received in 263ms\n"
          ]
        },
        {
          "output_type": "stream",
          "name": "stderr",
          "text": [
            "INFO:mapillary.utils.client:Response 200 OK received in 263ms\n"
          ]
        },
        {
          "output_type": "stream",
          "name": "stdout",
          "text": [
            "Requesting GET to https://graph.mapillary.com/313207380364629/?fields=merge_cc,mesh,altitude,sfm_cluster,atomic_scale,camera_parameters,camera_type,captured_at,compass_angle,computed_altitude,computed_compass_angle,computed_geometry,computed_rotation,exif_orientation,quality_score,height,width,sequence,thumb_2048_url,geometry&access_token=MLY%7C4957202544385847%7Ca397b7f76955e426cdfcfb2225b50ce6\n"
          ]
        },
        {
          "output_type": "stream",
          "name": "stderr",
          "text": [
            "INFO:mapillary.utils.client:Requesting GET to https://graph.mapillary.com/313207380364629/?fields=merge_cc,mesh,altitude,sfm_cluster,atomic_scale,camera_parameters,camera_type,captured_at,compass_angle,computed_altitude,computed_compass_angle,computed_geometry,computed_rotation,exif_orientation,quality_score,height,width,sequence,thumb_2048_url,geometry&access_token=MLY%7C4957202544385847%7Ca397b7f76955e426cdfcfb2225b50ce6\n"
          ]
        },
        {
          "output_type": "stream",
          "name": "stdout",
          "text": [
            "Response 200 OK received in 331ms\n"
          ]
        },
        {
          "output_type": "stream",
          "name": "stderr",
          "text": [
            "INFO:mapillary.utils.client:Response 200 OK received in 331ms\n"
          ]
        },
        {
          "output_type": "stream",
          "name": "stdout",
          "text": [
            "Requesting GET to https://graph.mapillary.com/859786154880670/?fields=merge_cc,mesh,altitude,sfm_cluster,atomic_scale,camera_parameters,camera_type,captured_at,compass_angle,computed_altitude,computed_compass_angle,computed_geometry,computed_rotation,exif_orientation,quality_score,height,width,sequence,thumb_2048_url,geometry&access_token=MLY%7C4957202544385847%7Ca397b7f76955e426cdfcfb2225b50ce6\n"
          ]
        },
        {
          "output_type": "stream",
          "name": "stderr",
          "text": [
            "INFO:mapillary.utils.client:Requesting GET to https://graph.mapillary.com/859786154880670/?fields=merge_cc,mesh,altitude,sfm_cluster,atomic_scale,camera_parameters,camera_type,captured_at,compass_angle,computed_altitude,computed_compass_angle,computed_geometry,computed_rotation,exif_orientation,quality_score,height,width,sequence,thumb_2048_url,geometry&access_token=MLY%7C4957202544385847%7Ca397b7f76955e426cdfcfb2225b50ce6\n"
          ]
        },
        {
          "output_type": "stream",
          "name": "stdout",
          "text": [
            "Response 200 OK received in 275ms\n"
          ]
        },
        {
          "output_type": "stream",
          "name": "stderr",
          "text": [
            "INFO:mapillary.utils.client:Response 200 OK received in 275ms\n"
          ]
        },
        {
          "output_type": "stream",
          "name": "stdout",
          "text": [
            "Requesting GET to https://graph.mapillary.com/310557367293347/?fields=merge_cc,mesh,altitude,sfm_cluster,atomic_scale,camera_parameters,camera_type,captured_at,compass_angle,computed_altitude,computed_compass_angle,computed_geometry,computed_rotation,exif_orientation,quality_score,height,width,sequence,thumb_2048_url,geometry&access_token=MLY%7C4957202544385847%7Ca397b7f76955e426cdfcfb2225b50ce6\n"
          ]
        },
        {
          "output_type": "stream",
          "name": "stderr",
          "text": [
            "INFO:mapillary.utils.client:Requesting GET to https://graph.mapillary.com/310557367293347/?fields=merge_cc,mesh,altitude,sfm_cluster,atomic_scale,camera_parameters,camera_type,captured_at,compass_angle,computed_altitude,computed_compass_angle,computed_geometry,computed_rotation,exif_orientation,quality_score,height,width,sequence,thumb_2048_url,geometry&access_token=MLY%7C4957202544385847%7Ca397b7f76955e426cdfcfb2225b50ce6\n"
          ]
        },
        {
          "output_type": "stream",
          "name": "stdout",
          "text": [
            "Response 200 OK received in 348ms\n"
          ]
        },
        {
          "output_type": "stream",
          "name": "stderr",
          "text": [
            "INFO:mapillary.utils.client:Response 200 OK received in 348ms\n"
          ]
        },
        {
          "output_type": "stream",
          "name": "stdout",
          "text": [
            "Requesting GET to https://graph.mapillary.com/206615211294597/?fields=merge_cc,mesh,altitude,sfm_cluster,atomic_scale,camera_parameters,camera_type,captured_at,compass_angle,computed_altitude,computed_compass_angle,computed_geometry,computed_rotation,exif_orientation,quality_score,height,width,sequence,thumb_2048_url,geometry&access_token=MLY%7C4957202544385847%7Ca397b7f76955e426cdfcfb2225b50ce6\n"
          ]
        },
        {
          "output_type": "stream",
          "name": "stderr",
          "text": [
            "INFO:mapillary.utils.client:Requesting GET to https://graph.mapillary.com/206615211294597/?fields=merge_cc,mesh,altitude,sfm_cluster,atomic_scale,camera_parameters,camera_type,captured_at,compass_angle,computed_altitude,computed_compass_angle,computed_geometry,computed_rotation,exif_orientation,quality_score,height,width,sequence,thumb_2048_url,geometry&access_token=MLY%7C4957202544385847%7Ca397b7f76955e426cdfcfb2225b50ce6\n"
          ]
        },
        {
          "output_type": "stream",
          "name": "stdout",
          "text": [
            "Response 200 OK received in 298ms\n"
          ]
        },
        {
          "output_type": "stream",
          "name": "stderr",
          "text": [
            "INFO:mapillary.utils.client:Response 200 OK received in 298ms\n"
          ]
        },
        {
          "output_type": "stream",
          "name": "stdout",
          "text": [
            "Requesting GET to https://graph.mapillary.com/154238343248022/?fields=merge_cc,mesh,altitude,sfm_cluster,atomic_scale,camera_parameters,camera_type,captured_at,compass_angle,computed_altitude,computed_compass_angle,computed_geometry,computed_rotation,exif_orientation,quality_score,height,width,sequence,thumb_2048_url,geometry&access_token=MLY%7C4957202544385847%7Ca397b7f76955e426cdfcfb2225b50ce6\n"
          ]
        },
        {
          "output_type": "stream",
          "name": "stderr",
          "text": [
            "INFO:mapillary.utils.client:Requesting GET to https://graph.mapillary.com/154238343248022/?fields=merge_cc,mesh,altitude,sfm_cluster,atomic_scale,camera_parameters,camera_type,captured_at,compass_angle,computed_altitude,computed_compass_angle,computed_geometry,computed_rotation,exif_orientation,quality_score,height,width,sequence,thumb_2048_url,geometry&access_token=MLY%7C4957202544385847%7Ca397b7f76955e426cdfcfb2225b50ce6\n"
          ]
        },
        {
          "output_type": "stream",
          "name": "stdout",
          "text": [
            "Response 200 OK received in 315ms\n"
          ]
        },
        {
          "output_type": "stream",
          "name": "stderr",
          "text": [
            "INFO:mapillary.utils.client:Response 200 OK received in 315ms\n"
          ]
        },
        {
          "output_type": "stream",
          "name": "stdout",
          "text": [
            "Requesting GET to https://graph.mapillary.com/460205235273964/?fields=merge_cc,mesh,altitude,sfm_cluster,atomic_scale,camera_parameters,camera_type,captured_at,compass_angle,computed_altitude,computed_compass_angle,computed_geometry,computed_rotation,exif_orientation,quality_score,height,width,sequence,thumb_2048_url,geometry&access_token=MLY%7C4957202544385847%7Ca397b7f76955e426cdfcfb2225b50ce6\n"
          ]
        },
        {
          "output_type": "stream",
          "name": "stderr",
          "text": [
            "INFO:mapillary.utils.client:Requesting GET to https://graph.mapillary.com/460205235273964/?fields=merge_cc,mesh,altitude,sfm_cluster,atomic_scale,camera_parameters,camera_type,captured_at,compass_angle,computed_altitude,computed_compass_angle,computed_geometry,computed_rotation,exif_orientation,quality_score,height,width,sequence,thumb_2048_url,geometry&access_token=MLY%7C4957202544385847%7Ca397b7f76955e426cdfcfb2225b50ce6\n"
          ]
        },
        {
          "output_type": "stream",
          "name": "stdout",
          "text": [
            "Response 200 OK received in 236ms\n"
          ]
        },
        {
          "output_type": "stream",
          "name": "stderr",
          "text": [
            "INFO:mapillary.utils.client:Response 200 OK received in 236ms\n"
          ]
        },
        {
          "output_type": "stream",
          "name": "stdout",
          "text": [
            "Requesting GET to https://graph.mapillary.com/479082813400072/?fields=merge_cc,mesh,altitude,sfm_cluster,atomic_scale,camera_parameters,camera_type,captured_at,compass_angle,computed_altitude,computed_compass_angle,computed_geometry,computed_rotation,exif_orientation,quality_score,height,width,sequence,thumb_2048_url,geometry&access_token=MLY%7C4957202544385847%7Ca397b7f76955e426cdfcfb2225b50ce6\n"
          ]
        },
        {
          "output_type": "stream",
          "name": "stderr",
          "text": [
            "INFO:mapillary.utils.client:Requesting GET to https://graph.mapillary.com/479082813400072/?fields=merge_cc,mesh,altitude,sfm_cluster,atomic_scale,camera_parameters,camera_type,captured_at,compass_angle,computed_altitude,computed_compass_angle,computed_geometry,computed_rotation,exif_orientation,quality_score,height,width,sequence,thumb_2048_url,geometry&access_token=MLY%7C4957202544385847%7Ca397b7f76955e426cdfcfb2225b50ce6\n"
          ]
        },
        {
          "output_type": "stream",
          "name": "stdout",
          "text": [
            "Response 200 OK received in 231ms\n"
          ]
        },
        {
          "output_type": "stream",
          "name": "stderr",
          "text": [
            "INFO:mapillary.utils.client:Response 200 OK received in 231ms\n"
          ]
        },
        {
          "output_type": "stream",
          "name": "stdout",
          "text": [
            "Requesting GET to https://graph.mapillary.com/459935385100588/?fields=merge_cc,mesh,altitude,sfm_cluster,atomic_scale,camera_parameters,camera_type,captured_at,compass_angle,computed_altitude,computed_compass_angle,computed_geometry,computed_rotation,exif_orientation,quality_score,height,width,sequence,thumb_2048_url,geometry&access_token=MLY%7C4957202544385847%7Ca397b7f76955e426cdfcfb2225b50ce6\n"
          ]
        },
        {
          "output_type": "stream",
          "name": "stderr",
          "text": [
            "INFO:mapillary.utils.client:Requesting GET to https://graph.mapillary.com/459935385100588/?fields=merge_cc,mesh,altitude,sfm_cluster,atomic_scale,camera_parameters,camera_type,captured_at,compass_angle,computed_altitude,computed_compass_angle,computed_geometry,computed_rotation,exif_orientation,quality_score,height,width,sequence,thumb_2048_url,geometry&access_token=MLY%7C4957202544385847%7Ca397b7f76955e426cdfcfb2225b50ce6\n"
          ]
        },
        {
          "output_type": "stream",
          "name": "stdout",
          "text": [
            "Response 200 OK received in 265ms\n"
          ]
        },
        {
          "output_type": "stream",
          "name": "stderr",
          "text": [
            "INFO:mapillary.utils.client:Response 200 OK received in 265ms\n"
          ]
        },
        {
          "output_type": "stream",
          "name": "stdout",
          "text": [
            "Requesting GET to https://graph.mapillary.com/314554706723011/?fields=merge_cc,mesh,altitude,sfm_cluster,atomic_scale,camera_parameters,camera_type,captured_at,compass_angle,computed_altitude,computed_compass_angle,computed_geometry,computed_rotation,exif_orientation,quality_score,height,width,sequence,thumb_2048_url,geometry&access_token=MLY%7C4957202544385847%7Ca397b7f76955e426cdfcfb2225b50ce6\n"
          ]
        },
        {
          "output_type": "stream",
          "name": "stderr",
          "text": [
            "INFO:mapillary.utils.client:Requesting GET to https://graph.mapillary.com/314554706723011/?fields=merge_cc,mesh,altitude,sfm_cluster,atomic_scale,camera_parameters,camera_type,captured_at,compass_angle,computed_altitude,computed_compass_angle,computed_geometry,computed_rotation,exif_orientation,quality_score,height,width,sequence,thumb_2048_url,geometry&access_token=MLY%7C4957202544385847%7Ca397b7f76955e426cdfcfb2225b50ce6\n"
          ]
        },
        {
          "output_type": "stream",
          "name": "stdout",
          "text": [
            "Response 200 OK received in 262ms\n"
          ]
        },
        {
          "output_type": "stream",
          "name": "stderr",
          "text": [
            "INFO:mapillary.utils.client:Response 200 OK received in 262ms\n"
          ]
        },
        {
          "output_type": "stream",
          "name": "stdout",
          "text": [
            "Requesting GET to https://graph.mapillary.com/494458278348655/?fields=merge_cc,mesh,altitude,sfm_cluster,atomic_scale,camera_parameters,camera_type,captured_at,compass_angle,computed_altitude,computed_compass_angle,computed_geometry,computed_rotation,exif_orientation,quality_score,height,width,sequence,thumb_2048_url,geometry&access_token=MLY%7C4957202544385847%7Ca397b7f76955e426cdfcfb2225b50ce6\n"
          ]
        },
        {
          "output_type": "stream",
          "name": "stderr",
          "text": [
            "INFO:mapillary.utils.client:Requesting GET to https://graph.mapillary.com/494458278348655/?fields=merge_cc,mesh,altitude,sfm_cluster,atomic_scale,camera_parameters,camera_type,captured_at,compass_angle,computed_altitude,computed_compass_angle,computed_geometry,computed_rotation,exif_orientation,quality_score,height,width,sequence,thumb_2048_url,geometry&access_token=MLY%7C4957202544385847%7Ca397b7f76955e426cdfcfb2225b50ce6\n"
          ]
        },
        {
          "output_type": "stream",
          "name": "stdout",
          "text": [
            "Response 200 OK received in 271ms\n"
          ]
        },
        {
          "output_type": "stream",
          "name": "stderr",
          "text": [
            "INFO:mapillary.utils.client:Response 200 OK received in 271ms\n"
          ]
        },
        {
          "output_type": "stream",
          "name": "stdout",
          "text": [
            "Requesting GET to https://graph.mapillary.com/179649747388105/?fields=merge_cc,mesh,altitude,sfm_cluster,atomic_scale,camera_parameters,camera_type,captured_at,compass_angle,computed_altitude,computed_compass_angle,computed_geometry,computed_rotation,exif_orientation,quality_score,height,width,sequence,thumb_2048_url,geometry&access_token=MLY%7C4957202544385847%7Ca397b7f76955e426cdfcfb2225b50ce6\n"
          ]
        },
        {
          "output_type": "stream",
          "name": "stderr",
          "text": [
            "INFO:mapillary.utils.client:Requesting GET to https://graph.mapillary.com/179649747388105/?fields=merge_cc,mesh,altitude,sfm_cluster,atomic_scale,camera_parameters,camera_type,captured_at,compass_angle,computed_altitude,computed_compass_angle,computed_geometry,computed_rotation,exif_orientation,quality_score,height,width,sequence,thumb_2048_url,geometry&access_token=MLY%7C4957202544385847%7Ca397b7f76955e426cdfcfb2225b50ce6\n"
          ]
        },
        {
          "output_type": "stream",
          "name": "stdout",
          "text": [
            "Response 200 OK received in 244ms\n"
          ]
        },
        {
          "output_type": "stream",
          "name": "stderr",
          "text": [
            "INFO:mapillary.utils.client:Response 200 OK received in 244ms\n"
          ]
        },
        {
          "output_type": "stream",
          "name": "stdout",
          "text": [
            "Requesting GET to https://graph.mapillary.com/273679804440335/?fields=merge_cc,mesh,altitude,sfm_cluster,atomic_scale,camera_parameters,camera_type,captured_at,compass_angle,computed_altitude,computed_compass_angle,computed_geometry,computed_rotation,exif_orientation,quality_score,height,width,sequence,thumb_2048_url,geometry&access_token=MLY%7C4957202544385847%7Ca397b7f76955e426cdfcfb2225b50ce6\n"
          ]
        },
        {
          "output_type": "stream",
          "name": "stderr",
          "text": [
            "INFO:mapillary.utils.client:Requesting GET to https://graph.mapillary.com/273679804440335/?fields=merge_cc,mesh,altitude,sfm_cluster,atomic_scale,camera_parameters,camera_type,captured_at,compass_angle,computed_altitude,computed_compass_angle,computed_geometry,computed_rotation,exif_orientation,quality_score,height,width,sequence,thumb_2048_url,geometry&access_token=MLY%7C4957202544385847%7Ca397b7f76955e426cdfcfb2225b50ce6\n"
          ]
        },
        {
          "output_type": "stream",
          "name": "stdout",
          "text": [
            "Response 200 OK received in 308ms\n"
          ]
        },
        {
          "output_type": "stream",
          "name": "stderr",
          "text": [
            "INFO:mapillary.utils.client:Response 200 OK received in 308ms\n"
          ]
        },
        {
          "output_type": "stream",
          "name": "stdout",
          "text": [
            "Requesting GET to https://graph.mapillary.com/214630870181673/?fields=merge_cc,mesh,altitude,sfm_cluster,atomic_scale,camera_parameters,camera_type,captured_at,compass_angle,computed_altitude,computed_compass_angle,computed_geometry,computed_rotation,exif_orientation,quality_score,height,width,sequence,thumb_2048_url,geometry&access_token=MLY%7C4957202544385847%7Ca397b7f76955e426cdfcfb2225b50ce6\n"
          ]
        },
        {
          "output_type": "stream",
          "name": "stderr",
          "text": [
            "INFO:mapillary.utils.client:Requesting GET to https://graph.mapillary.com/214630870181673/?fields=merge_cc,mesh,altitude,sfm_cluster,atomic_scale,camera_parameters,camera_type,captured_at,compass_angle,computed_altitude,computed_compass_angle,computed_geometry,computed_rotation,exif_orientation,quality_score,height,width,sequence,thumb_2048_url,geometry&access_token=MLY%7C4957202544385847%7Ca397b7f76955e426cdfcfb2225b50ce6\n"
          ]
        },
        {
          "output_type": "stream",
          "name": "stdout",
          "text": [
            "Response 200 OK received in 263ms\n"
          ]
        },
        {
          "output_type": "stream",
          "name": "stderr",
          "text": [
            "INFO:mapillary.utils.client:Response 200 OK received in 263ms\n"
          ]
        },
        {
          "output_type": "stream",
          "name": "stdout",
          "text": [
            "Requesting GET to https://graph.mapillary.com/472104480744727/?fields=merge_cc,mesh,altitude,sfm_cluster,atomic_scale,camera_parameters,camera_type,captured_at,compass_angle,computed_altitude,computed_compass_angle,computed_geometry,computed_rotation,exif_orientation,quality_score,height,width,sequence,thumb_2048_url,geometry&access_token=MLY%7C4957202544385847%7Ca397b7f76955e426cdfcfb2225b50ce6\n"
          ]
        },
        {
          "output_type": "stream",
          "name": "stderr",
          "text": [
            "INFO:mapillary.utils.client:Requesting GET to https://graph.mapillary.com/472104480744727/?fields=merge_cc,mesh,altitude,sfm_cluster,atomic_scale,camera_parameters,camera_type,captured_at,compass_angle,computed_altitude,computed_compass_angle,computed_geometry,computed_rotation,exif_orientation,quality_score,height,width,sequence,thumb_2048_url,geometry&access_token=MLY%7C4957202544385847%7Ca397b7f76955e426cdfcfb2225b50ce6\n"
          ]
        },
        {
          "output_type": "stream",
          "name": "stdout",
          "text": [
            "Response 200 OK received in 253ms\n"
          ]
        },
        {
          "output_type": "stream",
          "name": "stderr",
          "text": [
            "INFO:mapillary.utils.client:Response 200 OK received in 253ms\n"
          ]
        },
        {
          "output_type": "stream",
          "name": "stdout",
          "text": [
            "Requesting GET to https://graph.mapillary.com/379416820021932/?fields=merge_cc,mesh,altitude,sfm_cluster,atomic_scale,camera_parameters,camera_type,captured_at,compass_angle,computed_altitude,computed_compass_angle,computed_geometry,computed_rotation,exif_orientation,quality_score,height,width,sequence,thumb_2048_url,geometry&access_token=MLY%7C4957202544385847%7Ca397b7f76955e426cdfcfb2225b50ce6\n"
          ]
        },
        {
          "output_type": "stream",
          "name": "stderr",
          "text": [
            "INFO:mapillary.utils.client:Requesting GET to https://graph.mapillary.com/379416820021932/?fields=merge_cc,mesh,altitude,sfm_cluster,atomic_scale,camera_parameters,camera_type,captured_at,compass_angle,computed_altitude,computed_compass_angle,computed_geometry,computed_rotation,exif_orientation,quality_score,height,width,sequence,thumb_2048_url,geometry&access_token=MLY%7C4957202544385847%7Ca397b7f76955e426cdfcfb2225b50ce6\n"
          ]
        },
        {
          "output_type": "stream",
          "name": "stdout",
          "text": [
            "Response 200 OK received in 295ms\n"
          ]
        },
        {
          "output_type": "stream",
          "name": "stderr",
          "text": [
            "INFO:mapillary.utils.client:Response 200 OK received in 295ms\n"
          ]
        },
        {
          "output_type": "stream",
          "name": "stdout",
          "text": [
            "Requesting GET to https://graph.mapillary.com/628812425183911/?fields=merge_cc,mesh,altitude,sfm_cluster,atomic_scale,camera_parameters,camera_type,captured_at,compass_angle,computed_altitude,computed_compass_angle,computed_geometry,computed_rotation,exif_orientation,quality_score,height,width,sequence,thumb_2048_url,geometry&access_token=MLY%7C4957202544385847%7Ca397b7f76955e426cdfcfb2225b50ce6\n"
          ]
        },
        {
          "output_type": "stream",
          "name": "stderr",
          "text": [
            "INFO:mapillary.utils.client:Requesting GET to https://graph.mapillary.com/628812425183911/?fields=merge_cc,mesh,altitude,sfm_cluster,atomic_scale,camera_parameters,camera_type,captured_at,compass_angle,computed_altitude,computed_compass_angle,computed_geometry,computed_rotation,exif_orientation,quality_score,height,width,sequence,thumb_2048_url,geometry&access_token=MLY%7C4957202544385847%7Ca397b7f76955e426cdfcfb2225b50ce6\n"
          ]
        },
        {
          "output_type": "stream",
          "name": "stdout",
          "text": [
            "Response 200 OK received in 272ms\n"
          ]
        },
        {
          "output_type": "stream",
          "name": "stderr",
          "text": [
            "INFO:mapillary.utils.client:Response 200 OK received in 272ms\n"
          ]
        },
        {
          "output_type": "stream",
          "name": "stdout",
          "text": [
            "Requesting GET to https://graph.mapillary.com/1374238489610867/?fields=merge_cc,mesh,altitude,sfm_cluster,atomic_scale,camera_parameters,camera_type,captured_at,compass_angle,computed_altitude,computed_compass_angle,computed_geometry,computed_rotation,exif_orientation,quality_score,height,width,sequence,thumb_2048_url,geometry&access_token=MLY%7C4957202544385847%7Ca397b7f76955e426cdfcfb2225b50ce6\n"
          ]
        },
        {
          "output_type": "stream",
          "name": "stderr",
          "text": [
            "INFO:mapillary.utils.client:Requesting GET to https://graph.mapillary.com/1374238489610867/?fields=merge_cc,mesh,altitude,sfm_cluster,atomic_scale,camera_parameters,camera_type,captured_at,compass_angle,computed_altitude,computed_compass_angle,computed_geometry,computed_rotation,exif_orientation,quality_score,height,width,sequence,thumb_2048_url,geometry&access_token=MLY%7C4957202544385847%7Ca397b7f76955e426cdfcfb2225b50ce6\n"
          ]
        },
        {
          "output_type": "stream",
          "name": "stdout",
          "text": [
            "Response 200 OK received in 313ms\n"
          ]
        },
        {
          "output_type": "stream",
          "name": "stderr",
          "text": [
            "INFO:mapillary.utils.client:Response 200 OK received in 313ms\n"
          ]
        },
        {
          "output_type": "stream",
          "name": "stdout",
          "text": [
            "Requesting GET to https://graph.mapillary.com/145978560837539/?fields=merge_cc,mesh,altitude,sfm_cluster,atomic_scale,camera_parameters,camera_type,captured_at,compass_angle,computed_altitude,computed_compass_angle,computed_geometry,computed_rotation,exif_orientation,quality_score,height,width,sequence,thumb_2048_url,geometry&access_token=MLY%7C4957202544385847%7Ca397b7f76955e426cdfcfb2225b50ce6\n"
          ]
        },
        {
          "output_type": "stream",
          "name": "stderr",
          "text": [
            "INFO:mapillary.utils.client:Requesting GET to https://graph.mapillary.com/145978560837539/?fields=merge_cc,mesh,altitude,sfm_cluster,atomic_scale,camera_parameters,camera_type,captured_at,compass_angle,computed_altitude,computed_compass_angle,computed_geometry,computed_rotation,exif_orientation,quality_score,height,width,sequence,thumb_2048_url,geometry&access_token=MLY%7C4957202544385847%7Ca397b7f76955e426cdfcfb2225b50ce6\n"
          ]
        },
        {
          "output_type": "stream",
          "name": "stdout",
          "text": [
            "Response 200 OK received in 279ms\n"
          ]
        },
        {
          "output_type": "stream",
          "name": "stderr",
          "text": [
            "INFO:mapillary.utils.client:Response 200 OK received in 279ms\n"
          ]
        },
        {
          "output_type": "stream",
          "name": "stdout",
          "text": [
            "Requesting GET to https://graph.mapillary.com/185410456663150/?fields=merge_cc,mesh,altitude,sfm_cluster,atomic_scale,camera_parameters,camera_type,captured_at,compass_angle,computed_altitude,computed_compass_angle,computed_geometry,computed_rotation,exif_orientation,quality_score,height,width,sequence,thumb_2048_url,geometry&access_token=MLY%7C4957202544385847%7Ca397b7f76955e426cdfcfb2225b50ce6\n"
          ]
        },
        {
          "output_type": "stream",
          "name": "stderr",
          "text": [
            "INFO:mapillary.utils.client:Requesting GET to https://graph.mapillary.com/185410456663150/?fields=merge_cc,mesh,altitude,sfm_cluster,atomic_scale,camera_parameters,camera_type,captured_at,compass_angle,computed_altitude,computed_compass_angle,computed_geometry,computed_rotation,exif_orientation,quality_score,height,width,sequence,thumb_2048_url,geometry&access_token=MLY%7C4957202544385847%7Ca397b7f76955e426cdfcfb2225b50ce6\n"
          ]
        },
        {
          "output_type": "stream",
          "name": "stdout",
          "text": [
            "Response 200 OK received in 280ms\n"
          ]
        },
        {
          "output_type": "stream",
          "name": "stderr",
          "text": [
            "INFO:mapillary.utils.client:Response 200 OK received in 280ms\n"
          ]
        },
        {
          "output_type": "stream",
          "name": "stdout",
          "text": [
            "Requesting GET to https://graph.mapillary.com/480239273032594/?fields=merge_cc,mesh,altitude,sfm_cluster,atomic_scale,camera_parameters,camera_type,captured_at,compass_angle,computed_altitude,computed_compass_angle,computed_geometry,computed_rotation,exif_orientation,quality_score,height,width,sequence,thumb_2048_url,geometry&access_token=MLY%7C4957202544385847%7Ca397b7f76955e426cdfcfb2225b50ce6\n"
          ]
        },
        {
          "output_type": "stream",
          "name": "stderr",
          "text": [
            "INFO:mapillary.utils.client:Requesting GET to https://graph.mapillary.com/480239273032594/?fields=merge_cc,mesh,altitude,sfm_cluster,atomic_scale,camera_parameters,camera_type,captured_at,compass_angle,computed_altitude,computed_compass_angle,computed_geometry,computed_rotation,exif_orientation,quality_score,height,width,sequence,thumb_2048_url,geometry&access_token=MLY%7C4957202544385847%7Ca397b7f76955e426cdfcfb2225b50ce6\n"
          ]
        },
        {
          "output_type": "stream",
          "name": "stdout",
          "text": [
            "Response 200 OK received in 299ms\n"
          ]
        },
        {
          "output_type": "stream",
          "name": "stderr",
          "text": [
            "INFO:mapillary.utils.client:Response 200 OK received in 299ms\n"
          ]
        },
        {
          "output_type": "stream",
          "name": "stdout",
          "text": [
            "Requesting GET to https://graph.mapillary.com/1405774106459382/?fields=merge_cc,mesh,altitude,sfm_cluster,atomic_scale,camera_parameters,camera_type,captured_at,compass_angle,computed_altitude,computed_compass_angle,computed_geometry,computed_rotation,exif_orientation,quality_score,height,width,sequence,thumb_2048_url,geometry&access_token=MLY%7C4957202544385847%7Ca397b7f76955e426cdfcfb2225b50ce6\n"
          ]
        },
        {
          "output_type": "stream",
          "name": "stderr",
          "text": [
            "INFO:mapillary.utils.client:Requesting GET to https://graph.mapillary.com/1405774106459382/?fields=merge_cc,mesh,altitude,sfm_cluster,atomic_scale,camera_parameters,camera_type,captured_at,compass_angle,computed_altitude,computed_compass_angle,computed_geometry,computed_rotation,exif_orientation,quality_score,height,width,sequence,thumb_2048_url,geometry&access_token=MLY%7C4957202544385847%7Ca397b7f76955e426cdfcfb2225b50ce6\n"
          ]
        },
        {
          "output_type": "stream",
          "name": "stdout",
          "text": [
            "Response 200 OK received in 303ms\n"
          ]
        },
        {
          "output_type": "stream",
          "name": "stderr",
          "text": [
            "INFO:mapillary.utils.client:Response 200 OK received in 303ms\n"
          ]
        },
        {
          "output_type": "stream",
          "name": "stdout",
          "text": [
            "Requesting GET to https://graph.mapillary.com/946459462778433/?fields=merge_cc,mesh,altitude,sfm_cluster,atomic_scale,camera_parameters,camera_type,captured_at,compass_angle,computed_altitude,computed_compass_angle,computed_geometry,computed_rotation,exif_orientation,quality_score,height,width,sequence,thumb_2048_url,geometry&access_token=MLY%7C4957202544385847%7Ca397b7f76955e426cdfcfb2225b50ce6\n"
          ]
        },
        {
          "output_type": "stream",
          "name": "stderr",
          "text": [
            "INFO:mapillary.utils.client:Requesting GET to https://graph.mapillary.com/946459462778433/?fields=merge_cc,mesh,altitude,sfm_cluster,atomic_scale,camera_parameters,camera_type,captured_at,compass_angle,computed_altitude,computed_compass_angle,computed_geometry,computed_rotation,exif_orientation,quality_score,height,width,sequence,thumb_2048_url,geometry&access_token=MLY%7C4957202544385847%7Ca397b7f76955e426cdfcfb2225b50ce6\n"
          ]
        },
        {
          "output_type": "stream",
          "name": "stdout",
          "text": [
            "Response 200 OK received in 309ms\n"
          ]
        },
        {
          "output_type": "stream",
          "name": "stderr",
          "text": [
            "INFO:mapillary.utils.client:Response 200 OK received in 309ms\n"
          ]
        },
        {
          "output_type": "stream",
          "name": "stdout",
          "text": [
            "Requesting GET to https://graph.mapillary.com/229132115639187/?fields=merge_cc,mesh,altitude,sfm_cluster,atomic_scale,camera_parameters,camera_type,captured_at,compass_angle,computed_altitude,computed_compass_angle,computed_geometry,computed_rotation,exif_orientation,quality_score,height,width,sequence,thumb_2048_url,geometry&access_token=MLY%7C4957202544385847%7Ca397b7f76955e426cdfcfb2225b50ce6\n"
          ]
        },
        {
          "output_type": "stream",
          "name": "stderr",
          "text": [
            "INFO:mapillary.utils.client:Requesting GET to https://graph.mapillary.com/229132115639187/?fields=merge_cc,mesh,altitude,sfm_cluster,atomic_scale,camera_parameters,camera_type,captured_at,compass_angle,computed_altitude,computed_compass_angle,computed_geometry,computed_rotation,exif_orientation,quality_score,height,width,sequence,thumb_2048_url,geometry&access_token=MLY%7C4957202544385847%7Ca397b7f76955e426cdfcfb2225b50ce6\n"
          ]
        },
        {
          "output_type": "stream",
          "name": "stdout",
          "text": [
            "Response 200 OK received in 265ms\n"
          ]
        },
        {
          "output_type": "stream",
          "name": "stderr",
          "text": [
            "INFO:mapillary.utils.client:Response 200 OK received in 265ms\n"
          ]
        },
        {
          "output_type": "stream",
          "name": "stdout",
          "text": [
            "Requesting GET to https://graph.mapillary.com/1107884576283906/?fields=merge_cc,mesh,altitude,sfm_cluster,atomic_scale,camera_parameters,camera_type,captured_at,compass_angle,computed_altitude,computed_compass_angle,computed_geometry,computed_rotation,exif_orientation,quality_score,height,width,sequence,thumb_2048_url,geometry&access_token=MLY%7C4957202544385847%7Ca397b7f76955e426cdfcfb2225b50ce6\n"
          ]
        },
        {
          "output_type": "stream",
          "name": "stderr",
          "text": [
            "INFO:mapillary.utils.client:Requesting GET to https://graph.mapillary.com/1107884576283906/?fields=merge_cc,mesh,altitude,sfm_cluster,atomic_scale,camera_parameters,camera_type,captured_at,compass_angle,computed_altitude,computed_compass_angle,computed_geometry,computed_rotation,exif_orientation,quality_score,height,width,sequence,thumb_2048_url,geometry&access_token=MLY%7C4957202544385847%7Ca397b7f76955e426cdfcfb2225b50ce6\n"
          ]
        },
        {
          "output_type": "stream",
          "name": "stdout",
          "text": [
            "Response 200 OK received in 287ms\n"
          ]
        },
        {
          "output_type": "stream",
          "name": "stderr",
          "text": [
            "INFO:mapillary.utils.client:Response 200 OK received in 287ms\n"
          ]
        },
        {
          "output_type": "stream",
          "name": "stdout",
          "text": [
            "Requesting GET to https://graph.mapillary.com/481413286530305/?fields=merge_cc,mesh,altitude,sfm_cluster,atomic_scale,camera_parameters,camera_type,captured_at,compass_angle,computed_altitude,computed_compass_angle,computed_geometry,computed_rotation,exif_orientation,quality_score,height,width,sequence,thumb_2048_url,geometry&access_token=MLY%7C4957202544385847%7Ca397b7f76955e426cdfcfb2225b50ce6\n"
          ]
        },
        {
          "output_type": "stream",
          "name": "stderr",
          "text": [
            "INFO:mapillary.utils.client:Requesting GET to https://graph.mapillary.com/481413286530305/?fields=merge_cc,mesh,altitude,sfm_cluster,atomic_scale,camera_parameters,camera_type,captured_at,compass_angle,computed_altitude,computed_compass_angle,computed_geometry,computed_rotation,exif_orientation,quality_score,height,width,sequence,thumb_2048_url,geometry&access_token=MLY%7C4957202544385847%7Ca397b7f76955e426cdfcfb2225b50ce6\n"
          ]
        },
        {
          "output_type": "stream",
          "name": "stdout",
          "text": [
            "Response 200 OK received in 245ms\n"
          ]
        },
        {
          "output_type": "stream",
          "name": "stderr",
          "text": [
            "INFO:mapillary.utils.client:Response 200 OK received in 245ms\n"
          ]
        },
        {
          "output_type": "stream",
          "name": "stdout",
          "text": [
            "Requesting GET to https://graph.mapillary.com/162755962330181/?fields=merge_cc,mesh,altitude,sfm_cluster,atomic_scale,camera_parameters,camera_type,captured_at,compass_angle,computed_altitude,computed_compass_angle,computed_geometry,computed_rotation,exif_orientation,quality_score,height,width,sequence,thumb_2048_url,geometry&access_token=MLY%7C4957202544385847%7Ca397b7f76955e426cdfcfb2225b50ce6\n"
          ]
        },
        {
          "output_type": "stream",
          "name": "stderr",
          "text": [
            "INFO:mapillary.utils.client:Requesting GET to https://graph.mapillary.com/162755962330181/?fields=merge_cc,mesh,altitude,sfm_cluster,atomic_scale,camera_parameters,camera_type,captured_at,compass_angle,computed_altitude,computed_compass_angle,computed_geometry,computed_rotation,exif_orientation,quality_score,height,width,sequence,thumb_2048_url,geometry&access_token=MLY%7C4957202544385847%7Ca397b7f76955e426cdfcfb2225b50ce6\n"
          ]
        },
        {
          "output_type": "stream",
          "name": "stdout",
          "text": [
            "Response 200 OK received in 248ms\n"
          ]
        },
        {
          "output_type": "stream",
          "name": "stderr",
          "text": [
            "INFO:mapillary.utils.client:Response 200 OK received in 248ms\n"
          ]
        },
        {
          "output_type": "stream",
          "name": "stdout",
          "text": [
            "Requesting GET to https://graph.mapillary.com/488964705860492/?fields=merge_cc,mesh,altitude,sfm_cluster,atomic_scale,camera_parameters,camera_type,captured_at,compass_angle,computed_altitude,computed_compass_angle,computed_geometry,computed_rotation,exif_orientation,quality_score,height,width,sequence,thumb_2048_url,geometry&access_token=MLY%7C4957202544385847%7Ca397b7f76955e426cdfcfb2225b50ce6\n"
          ]
        },
        {
          "output_type": "stream",
          "name": "stderr",
          "text": [
            "INFO:mapillary.utils.client:Requesting GET to https://graph.mapillary.com/488964705860492/?fields=merge_cc,mesh,altitude,sfm_cluster,atomic_scale,camera_parameters,camera_type,captured_at,compass_angle,computed_altitude,computed_compass_angle,computed_geometry,computed_rotation,exif_orientation,quality_score,height,width,sequence,thumb_2048_url,geometry&access_token=MLY%7C4957202544385847%7Ca397b7f76955e426cdfcfb2225b50ce6\n"
          ]
        },
        {
          "output_type": "stream",
          "name": "stdout",
          "text": [
            "Response 200 OK received in 251ms\n"
          ]
        },
        {
          "output_type": "stream",
          "name": "stderr",
          "text": [
            "INFO:mapillary.utils.client:Response 200 OK received in 251ms\n"
          ]
        },
        {
          "output_type": "stream",
          "name": "stdout",
          "text": [
            "Requesting GET to https://graph.mapillary.com/389916312136244/?fields=merge_cc,mesh,altitude,sfm_cluster,atomic_scale,camera_parameters,camera_type,captured_at,compass_angle,computed_altitude,computed_compass_angle,computed_geometry,computed_rotation,exif_orientation,quality_score,height,width,sequence,thumb_2048_url,geometry&access_token=MLY%7C4957202544385847%7Ca397b7f76955e426cdfcfb2225b50ce6\n"
          ]
        },
        {
          "output_type": "stream",
          "name": "stderr",
          "text": [
            "INFO:mapillary.utils.client:Requesting GET to https://graph.mapillary.com/389916312136244/?fields=merge_cc,mesh,altitude,sfm_cluster,atomic_scale,camera_parameters,camera_type,captured_at,compass_angle,computed_altitude,computed_compass_angle,computed_geometry,computed_rotation,exif_orientation,quality_score,height,width,sequence,thumb_2048_url,geometry&access_token=MLY%7C4957202544385847%7Ca397b7f76955e426cdfcfb2225b50ce6\n"
          ]
        },
        {
          "output_type": "stream",
          "name": "stdout",
          "text": [
            "Response 200 OK received in 279ms\n"
          ]
        },
        {
          "output_type": "stream",
          "name": "stderr",
          "text": [
            "INFO:mapillary.utils.client:Response 200 OK received in 279ms\n"
          ]
        },
        {
          "output_type": "stream",
          "name": "stdout",
          "text": [
            "Requesting GET to https://graph.mapillary.com/242248264320815/?fields=merge_cc,mesh,altitude,sfm_cluster,atomic_scale,camera_parameters,camera_type,captured_at,compass_angle,computed_altitude,computed_compass_angle,computed_geometry,computed_rotation,exif_orientation,quality_score,height,width,sequence,thumb_2048_url,geometry&access_token=MLY%7C4957202544385847%7Ca397b7f76955e426cdfcfb2225b50ce6\n"
          ]
        },
        {
          "output_type": "stream",
          "name": "stderr",
          "text": [
            "INFO:mapillary.utils.client:Requesting GET to https://graph.mapillary.com/242248264320815/?fields=merge_cc,mesh,altitude,sfm_cluster,atomic_scale,camera_parameters,camera_type,captured_at,compass_angle,computed_altitude,computed_compass_angle,computed_geometry,computed_rotation,exif_orientation,quality_score,height,width,sequence,thumb_2048_url,geometry&access_token=MLY%7C4957202544385847%7Ca397b7f76955e426cdfcfb2225b50ce6\n"
          ]
        },
        {
          "output_type": "stream",
          "name": "stdout",
          "text": [
            "Response 200 OK received in 245ms\n"
          ]
        },
        {
          "output_type": "stream",
          "name": "stderr",
          "text": [
            "INFO:mapillary.utils.client:Response 200 OK received in 245ms\n"
          ]
        },
        {
          "output_type": "stream",
          "name": "stdout",
          "text": [
            "Requesting GET to https://graph.mapillary.com/169228708450494/?fields=merge_cc,mesh,altitude,sfm_cluster,atomic_scale,camera_parameters,camera_type,captured_at,compass_angle,computed_altitude,computed_compass_angle,computed_geometry,computed_rotation,exif_orientation,quality_score,height,width,sequence,thumb_2048_url,geometry&access_token=MLY%7C4957202544385847%7Ca397b7f76955e426cdfcfb2225b50ce6\n"
          ]
        },
        {
          "output_type": "stream",
          "name": "stderr",
          "text": [
            "INFO:mapillary.utils.client:Requesting GET to https://graph.mapillary.com/169228708450494/?fields=merge_cc,mesh,altitude,sfm_cluster,atomic_scale,camera_parameters,camera_type,captured_at,compass_angle,computed_altitude,computed_compass_angle,computed_geometry,computed_rotation,exif_orientation,quality_score,height,width,sequence,thumb_2048_url,geometry&access_token=MLY%7C4957202544385847%7Ca397b7f76955e426cdfcfb2225b50ce6\n"
          ]
        },
        {
          "output_type": "stream",
          "name": "stdout",
          "text": [
            "Response 200 OK received in 375ms\n"
          ]
        },
        {
          "output_type": "stream",
          "name": "stderr",
          "text": [
            "INFO:mapillary.utils.client:Response 200 OK received in 375ms\n"
          ]
        },
        {
          "output_type": "stream",
          "name": "stdout",
          "text": [
            "Requesting GET to https://graph.mapillary.com/121453883307378/?fields=merge_cc,mesh,altitude,sfm_cluster,atomic_scale,camera_parameters,camera_type,captured_at,compass_angle,computed_altitude,computed_compass_angle,computed_geometry,computed_rotation,exif_orientation,quality_score,height,width,sequence,thumb_2048_url,geometry&access_token=MLY%7C4957202544385847%7Ca397b7f76955e426cdfcfb2225b50ce6\n"
          ]
        },
        {
          "output_type": "stream",
          "name": "stderr",
          "text": [
            "INFO:mapillary.utils.client:Requesting GET to https://graph.mapillary.com/121453883307378/?fields=merge_cc,mesh,altitude,sfm_cluster,atomic_scale,camera_parameters,camera_type,captured_at,compass_angle,computed_altitude,computed_compass_angle,computed_geometry,computed_rotation,exif_orientation,quality_score,height,width,sequence,thumb_2048_url,geometry&access_token=MLY%7C4957202544385847%7Ca397b7f76955e426cdfcfb2225b50ce6\n"
          ]
        },
        {
          "output_type": "stream",
          "name": "stdout",
          "text": [
            "Response 200 OK received in 311ms\n"
          ]
        },
        {
          "output_type": "stream",
          "name": "stderr",
          "text": [
            "INFO:mapillary.utils.client:Response 200 OK received in 311ms\n"
          ]
        },
        {
          "output_type": "stream",
          "name": "stdout",
          "text": [
            "Requesting GET to https://graph.mapillary.com/307049814265169/?fields=merge_cc,mesh,altitude,sfm_cluster,atomic_scale,camera_parameters,camera_type,captured_at,compass_angle,computed_altitude,computed_compass_angle,computed_geometry,computed_rotation,exif_orientation,quality_score,height,width,sequence,thumb_2048_url,geometry&access_token=MLY%7C4957202544385847%7Ca397b7f76955e426cdfcfb2225b50ce6\n"
          ]
        },
        {
          "output_type": "stream",
          "name": "stderr",
          "text": [
            "INFO:mapillary.utils.client:Requesting GET to https://graph.mapillary.com/307049814265169/?fields=merge_cc,mesh,altitude,sfm_cluster,atomic_scale,camera_parameters,camera_type,captured_at,compass_angle,computed_altitude,computed_compass_angle,computed_geometry,computed_rotation,exif_orientation,quality_score,height,width,sequence,thumb_2048_url,geometry&access_token=MLY%7C4957202544385847%7Ca397b7f76955e426cdfcfb2225b50ce6\n"
          ]
        },
        {
          "output_type": "stream",
          "name": "stdout",
          "text": [
            "Response 200 OK received in 304ms\n"
          ]
        },
        {
          "output_type": "stream",
          "name": "stderr",
          "text": [
            "INFO:mapillary.utils.client:Response 200 OK received in 304ms\n"
          ]
        },
        {
          "output_type": "stream",
          "name": "stdout",
          "text": [
            "Requesting GET to https://graph.mapillary.com/136961178369566/?fields=merge_cc,mesh,altitude,sfm_cluster,atomic_scale,camera_parameters,camera_type,captured_at,compass_angle,computed_altitude,computed_compass_angle,computed_geometry,computed_rotation,exif_orientation,quality_score,height,width,sequence,thumb_2048_url,geometry&access_token=MLY%7C4957202544385847%7Ca397b7f76955e426cdfcfb2225b50ce6\n"
          ]
        },
        {
          "output_type": "stream",
          "name": "stderr",
          "text": [
            "INFO:mapillary.utils.client:Requesting GET to https://graph.mapillary.com/136961178369566/?fields=merge_cc,mesh,altitude,sfm_cluster,atomic_scale,camera_parameters,camera_type,captured_at,compass_angle,computed_altitude,computed_compass_angle,computed_geometry,computed_rotation,exif_orientation,quality_score,height,width,sequence,thumb_2048_url,geometry&access_token=MLY%7C4957202544385847%7Ca397b7f76955e426cdfcfb2225b50ce6\n"
          ]
        },
        {
          "output_type": "stream",
          "name": "stdout",
          "text": [
            "Response 200 OK received in 326ms\n"
          ]
        },
        {
          "output_type": "stream",
          "name": "stderr",
          "text": [
            "INFO:mapillary.utils.client:Response 200 OK received in 326ms\n"
          ]
        },
        {
          "output_type": "stream",
          "name": "stdout",
          "text": [
            "Requesting GET to https://graph.mapillary.com/4066523703368224/?fields=merge_cc,mesh,altitude,sfm_cluster,atomic_scale,camera_parameters,camera_type,captured_at,compass_angle,computed_altitude,computed_compass_angle,computed_geometry,computed_rotation,exif_orientation,quality_score,height,width,sequence,thumb_2048_url,geometry&access_token=MLY%7C4957202544385847%7Ca397b7f76955e426cdfcfb2225b50ce6\n"
          ]
        },
        {
          "output_type": "stream",
          "name": "stderr",
          "text": [
            "INFO:mapillary.utils.client:Requesting GET to https://graph.mapillary.com/4066523703368224/?fields=merge_cc,mesh,altitude,sfm_cluster,atomic_scale,camera_parameters,camera_type,captured_at,compass_angle,computed_altitude,computed_compass_angle,computed_geometry,computed_rotation,exif_orientation,quality_score,height,width,sequence,thumb_2048_url,geometry&access_token=MLY%7C4957202544385847%7Ca397b7f76955e426cdfcfb2225b50ce6\n"
          ]
        },
        {
          "output_type": "stream",
          "name": "stdout",
          "text": [
            "Response 200 OK received in 298ms\n"
          ]
        },
        {
          "output_type": "stream",
          "name": "stderr",
          "text": [
            "INFO:mapillary.utils.client:Response 200 OK received in 298ms\n"
          ]
        },
        {
          "output_type": "stream",
          "name": "stdout",
          "text": [
            "Requesting GET to https://graph.mapillary.com/4210582419002373/?fields=merge_cc,mesh,altitude,sfm_cluster,atomic_scale,camera_parameters,camera_type,captured_at,compass_angle,computed_altitude,computed_compass_angle,computed_geometry,computed_rotation,exif_orientation,quality_score,height,width,sequence,thumb_2048_url,geometry&access_token=MLY%7C4957202544385847%7Ca397b7f76955e426cdfcfb2225b50ce6\n"
          ]
        },
        {
          "output_type": "stream",
          "name": "stderr",
          "text": [
            "INFO:mapillary.utils.client:Requesting GET to https://graph.mapillary.com/4210582419002373/?fields=merge_cc,mesh,altitude,sfm_cluster,atomic_scale,camera_parameters,camera_type,captured_at,compass_angle,computed_altitude,computed_compass_angle,computed_geometry,computed_rotation,exif_orientation,quality_score,height,width,sequence,thumb_2048_url,geometry&access_token=MLY%7C4957202544385847%7Ca397b7f76955e426cdfcfb2225b50ce6\n"
          ]
        },
        {
          "output_type": "stream",
          "name": "stdout",
          "text": [
            "Response 200 OK received in 278ms\n"
          ]
        },
        {
          "output_type": "stream",
          "name": "stderr",
          "text": [
            "INFO:mapillary.utils.client:Response 200 OK received in 278ms\n"
          ]
        },
        {
          "output_type": "stream",
          "name": "stdout",
          "text": [
            "Requesting GET to https://graph.mapillary.com/370518517708729/?fields=merge_cc,mesh,altitude,sfm_cluster,atomic_scale,camera_parameters,camera_type,captured_at,compass_angle,computed_altitude,computed_compass_angle,computed_geometry,computed_rotation,exif_orientation,quality_score,height,width,sequence,thumb_2048_url,geometry&access_token=MLY%7C4957202544385847%7Ca397b7f76955e426cdfcfb2225b50ce6\n"
          ]
        },
        {
          "output_type": "stream",
          "name": "stderr",
          "text": [
            "INFO:mapillary.utils.client:Requesting GET to https://graph.mapillary.com/370518517708729/?fields=merge_cc,mesh,altitude,sfm_cluster,atomic_scale,camera_parameters,camera_type,captured_at,compass_angle,computed_altitude,computed_compass_angle,computed_geometry,computed_rotation,exif_orientation,quality_score,height,width,sequence,thumb_2048_url,geometry&access_token=MLY%7C4957202544385847%7Ca397b7f76955e426cdfcfb2225b50ce6\n"
          ]
        },
        {
          "output_type": "stream",
          "name": "stdout",
          "text": [
            "Response 200 OK received in 272ms\n"
          ]
        },
        {
          "output_type": "stream",
          "name": "stderr",
          "text": [
            "INFO:mapillary.utils.client:Response 200 OK received in 272ms\n"
          ]
        },
        {
          "output_type": "stream",
          "name": "stdout",
          "text": [
            "Requesting GET to https://graph.mapillary.com/231021978852263/?fields=merge_cc,mesh,altitude,sfm_cluster,atomic_scale,camera_parameters,camera_type,captured_at,compass_angle,computed_altitude,computed_compass_angle,computed_geometry,computed_rotation,exif_orientation,quality_score,height,width,sequence,thumb_2048_url,geometry&access_token=MLY%7C4957202544385847%7Ca397b7f76955e426cdfcfb2225b50ce6\n"
          ]
        },
        {
          "output_type": "stream",
          "name": "stderr",
          "text": [
            "INFO:mapillary.utils.client:Requesting GET to https://graph.mapillary.com/231021978852263/?fields=merge_cc,mesh,altitude,sfm_cluster,atomic_scale,camera_parameters,camera_type,captured_at,compass_angle,computed_altitude,computed_compass_angle,computed_geometry,computed_rotation,exif_orientation,quality_score,height,width,sequence,thumb_2048_url,geometry&access_token=MLY%7C4957202544385847%7Ca397b7f76955e426cdfcfb2225b50ce6\n"
          ]
        },
        {
          "output_type": "stream",
          "name": "stdout",
          "text": [
            "Response 200 OK received in 193ms\n"
          ]
        },
        {
          "output_type": "stream",
          "name": "stderr",
          "text": [
            "INFO:mapillary.utils.client:Response 200 OK received in 193ms\n"
          ]
        },
        {
          "output_type": "stream",
          "name": "stdout",
          "text": [
            "Requesting GET to https://graph.mapillary.com/556180542059255/?fields=merge_cc,mesh,altitude,sfm_cluster,atomic_scale,camera_parameters,camera_type,captured_at,compass_angle,computed_altitude,computed_compass_angle,computed_geometry,computed_rotation,exif_orientation,quality_score,height,width,sequence,thumb_2048_url,geometry&access_token=MLY%7C4957202544385847%7Ca397b7f76955e426cdfcfb2225b50ce6\n"
          ]
        },
        {
          "output_type": "stream",
          "name": "stderr",
          "text": [
            "INFO:mapillary.utils.client:Requesting GET to https://graph.mapillary.com/556180542059255/?fields=merge_cc,mesh,altitude,sfm_cluster,atomic_scale,camera_parameters,camera_type,captured_at,compass_angle,computed_altitude,computed_compass_angle,computed_geometry,computed_rotation,exif_orientation,quality_score,height,width,sequence,thumb_2048_url,geometry&access_token=MLY%7C4957202544385847%7Ca397b7f76955e426cdfcfb2225b50ce6\n"
          ]
        },
        {
          "output_type": "stream",
          "name": "stdout",
          "text": [
            "Response 200 OK received in 265ms\n"
          ]
        },
        {
          "output_type": "stream",
          "name": "stderr",
          "text": [
            "INFO:mapillary.utils.client:Response 200 OK received in 265ms\n"
          ]
        },
        {
          "output_type": "stream",
          "name": "stdout",
          "text": [
            "Requesting GET to https://graph.mapillary.com/1229276894181451/?fields=merge_cc,mesh,altitude,sfm_cluster,atomic_scale,camera_parameters,camera_type,captured_at,compass_angle,computed_altitude,computed_compass_angle,computed_geometry,computed_rotation,exif_orientation,quality_score,height,width,sequence,thumb_2048_url,geometry&access_token=MLY%7C4957202544385847%7Ca397b7f76955e426cdfcfb2225b50ce6\n"
          ]
        },
        {
          "output_type": "stream",
          "name": "stderr",
          "text": [
            "INFO:mapillary.utils.client:Requesting GET to https://graph.mapillary.com/1229276894181451/?fields=merge_cc,mesh,altitude,sfm_cluster,atomic_scale,camera_parameters,camera_type,captured_at,compass_angle,computed_altitude,computed_compass_angle,computed_geometry,computed_rotation,exif_orientation,quality_score,height,width,sequence,thumb_2048_url,geometry&access_token=MLY%7C4957202544385847%7Ca397b7f76955e426cdfcfb2225b50ce6\n"
          ]
        },
        {
          "output_type": "stream",
          "name": "stdout",
          "text": [
            "Response 200 OK received in 248ms\n"
          ]
        },
        {
          "output_type": "stream",
          "name": "stderr",
          "text": [
            "INFO:mapillary.utils.client:Response 200 OK received in 248ms\n"
          ]
        },
        {
          "output_type": "stream",
          "name": "stdout",
          "text": [
            "Requesting GET to https://graph.mapillary.com/231385438656844/?fields=merge_cc,mesh,altitude,sfm_cluster,atomic_scale,camera_parameters,camera_type,captured_at,compass_angle,computed_altitude,computed_compass_angle,computed_geometry,computed_rotation,exif_orientation,quality_score,height,width,sequence,thumb_2048_url,geometry&access_token=MLY%7C4957202544385847%7Ca397b7f76955e426cdfcfb2225b50ce6\n"
          ]
        },
        {
          "output_type": "stream",
          "name": "stderr",
          "text": [
            "INFO:mapillary.utils.client:Requesting GET to https://graph.mapillary.com/231385438656844/?fields=merge_cc,mesh,altitude,sfm_cluster,atomic_scale,camera_parameters,camera_type,captured_at,compass_angle,computed_altitude,computed_compass_angle,computed_geometry,computed_rotation,exif_orientation,quality_score,height,width,sequence,thumb_2048_url,geometry&access_token=MLY%7C4957202544385847%7Ca397b7f76955e426cdfcfb2225b50ce6\n"
          ]
        },
        {
          "output_type": "stream",
          "name": "stdout",
          "text": [
            "Response 200 OK received in 329ms\n"
          ]
        },
        {
          "output_type": "stream",
          "name": "stderr",
          "text": [
            "INFO:mapillary.utils.client:Response 200 OK received in 329ms\n"
          ]
        },
        {
          "output_type": "stream",
          "name": "stdout",
          "text": [
            "Requesting GET to https://graph.mapillary.com/420410889079775/?fields=merge_cc,mesh,altitude,sfm_cluster,atomic_scale,camera_parameters,camera_type,captured_at,compass_angle,computed_altitude,computed_compass_angle,computed_geometry,computed_rotation,exif_orientation,quality_score,height,width,sequence,thumb_2048_url,geometry&access_token=MLY%7C4957202544385847%7Ca397b7f76955e426cdfcfb2225b50ce6\n"
          ]
        },
        {
          "output_type": "stream",
          "name": "stderr",
          "text": [
            "INFO:mapillary.utils.client:Requesting GET to https://graph.mapillary.com/420410889079775/?fields=merge_cc,mesh,altitude,sfm_cluster,atomic_scale,camera_parameters,camera_type,captured_at,compass_angle,computed_altitude,computed_compass_angle,computed_geometry,computed_rotation,exif_orientation,quality_score,height,width,sequence,thumb_2048_url,geometry&access_token=MLY%7C4957202544385847%7Ca397b7f76955e426cdfcfb2225b50ce6\n"
          ]
        },
        {
          "output_type": "stream",
          "name": "stdout",
          "text": [
            "Response 200 OK received in 295ms\n"
          ]
        },
        {
          "output_type": "stream",
          "name": "stderr",
          "text": [
            "INFO:mapillary.utils.client:Response 200 OK received in 295ms\n"
          ]
        },
        {
          "output_type": "stream",
          "name": "stdout",
          "text": [
            "Requesting GET to https://graph.mapillary.com/528588058283721/?fields=merge_cc,mesh,altitude,sfm_cluster,atomic_scale,camera_parameters,camera_type,captured_at,compass_angle,computed_altitude,computed_compass_angle,computed_geometry,computed_rotation,exif_orientation,quality_score,height,width,sequence,thumb_2048_url,geometry&access_token=MLY%7C4957202544385847%7Ca397b7f76955e426cdfcfb2225b50ce6\n"
          ]
        },
        {
          "output_type": "stream",
          "name": "stderr",
          "text": [
            "INFO:mapillary.utils.client:Requesting GET to https://graph.mapillary.com/528588058283721/?fields=merge_cc,mesh,altitude,sfm_cluster,atomic_scale,camera_parameters,camera_type,captured_at,compass_angle,computed_altitude,computed_compass_angle,computed_geometry,computed_rotation,exif_orientation,quality_score,height,width,sequence,thumb_2048_url,geometry&access_token=MLY%7C4957202544385847%7Ca397b7f76955e426cdfcfb2225b50ce6\n"
          ]
        },
        {
          "output_type": "stream",
          "name": "stdout",
          "text": [
            "Response 200 OK received in 137ms\n"
          ]
        },
        {
          "output_type": "stream",
          "name": "stderr",
          "text": [
            "INFO:mapillary.utils.client:Response 200 OK received in 137ms\n"
          ]
        },
        {
          "output_type": "stream",
          "name": "stdout",
          "text": [
            "Requesting GET to https://graph.mapillary.com/779408176080343/?fields=merge_cc,mesh,altitude,sfm_cluster,atomic_scale,camera_parameters,camera_type,captured_at,compass_angle,computed_altitude,computed_compass_angle,computed_geometry,computed_rotation,exif_orientation,quality_score,height,width,sequence,thumb_2048_url,geometry&access_token=MLY%7C4957202544385847%7Ca397b7f76955e426cdfcfb2225b50ce6\n"
          ]
        },
        {
          "output_type": "stream",
          "name": "stderr",
          "text": [
            "INFO:mapillary.utils.client:Requesting GET to https://graph.mapillary.com/779408176080343/?fields=merge_cc,mesh,altitude,sfm_cluster,atomic_scale,camera_parameters,camera_type,captured_at,compass_angle,computed_altitude,computed_compass_angle,computed_geometry,computed_rotation,exif_orientation,quality_score,height,width,sequence,thumb_2048_url,geometry&access_token=MLY%7C4957202544385847%7Ca397b7f76955e426cdfcfb2225b50ce6\n"
          ]
        },
        {
          "output_type": "stream",
          "name": "stdout",
          "text": [
            "Response 200 OK received in 279ms\n"
          ]
        },
        {
          "output_type": "stream",
          "name": "stderr",
          "text": [
            "INFO:mapillary.utils.client:Response 200 OK received in 279ms\n"
          ]
        },
        {
          "output_type": "stream",
          "name": "stdout",
          "text": [
            "Requesting GET to https://graph.mapillary.com/305683547966965/?fields=merge_cc,mesh,altitude,sfm_cluster,atomic_scale,camera_parameters,camera_type,captured_at,compass_angle,computed_altitude,computed_compass_angle,computed_geometry,computed_rotation,exif_orientation,quality_score,height,width,sequence,thumb_2048_url,geometry&access_token=MLY%7C4957202544385847%7Ca397b7f76955e426cdfcfb2225b50ce6\n"
          ]
        },
        {
          "output_type": "stream",
          "name": "stderr",
          "text": [
            "INFO:mapillary.utils.client:Requesting GET to https://graph.mapillary.com/305683547966965/?fields=merge_cc,mesh,altitude,sfm_cluster,atomic_scale,camera_parameters,camera_type,captured_at,compass_angle,computed_altitude,computed_compass_angle,computed_geometry,computed_rotation,exif_orientation,quality_score,height,width,sequence,thumb_2048_url,geometry&access_token=MLY%7C4957202544385847%7Ca397b7f76955e426cdfcfb2225b50ce6\n"
          ]
        },
        {
          "output_type": "stream",
          "name": "stdout",
          "text": [
            "Response 200 OK received in 299ms\n"
          ]
        },
        {
          "output_type": "stream",
          "name": "stderr",
          "text": [
            "INFO:mapillary.utils.client:Response 200 OK received in 299ms\n"
          ]
        },
        {
          "output_type": "stream",
          "name": "stdout",
          "text": [
            "Requesting GET to https://graph.mapillary.com/629804511332192/?fields=merge_cc,mesh,altitude,sfm_cluster,atomic_scale,camera_parameters,camera_type,captured_at,compass_angle,computed_altitude,computed_compass_angle,computed_geometry,computed_rotation,exif_orientation,quality_score,height,width,sequence,thumb_2048_url,geometry&access_token=MLY%7C4957202544385847%7Ca397b7f76955e426cdfcfb2225b50ce6\n"
          ]
        },
        {
          "output_type": "stream",
          "name": "stderr",
          "text": [
            "INFO:mapillary.utils.client:Requesting GET to https://graph.mapillary.com/629804511332192/?fields=merge_cc,mesh,altitude,sfm_cluster,atomic_scale,camera_parameters,camera_type,captured_at,compass_angle,computed_altitude,computed_compass_angle,computed_geometry,computed_rotation,exif_orientation,quality_score,height,width,sequence,thumb_2048_url,geometry&access_token=MLY%7C4957202544385847%7Ca397b7f76955e426cdfcfb2225b50ce6\n"
          ]
        },
        {
          "output_type": "stream",
          "name": "stdout",
          "text": [
            "Response 200 OK received in 235ms\n"
          ]
        },
        {
          "output_type": "stream",
          "name": "stderr",
          "text": [
            "INFO:mapillary.utils.client:Response 200 OK received in 235ms\n"
          ]
        },
        {
          "output_type": "stream",
          "name": "stdout",
          "text": [
            "Requesting GET to https://graph.mapillary.com/210977834254682/?fields=merge_cc,mesh,altitude,sfm_cluster,atomic_scale,camera_parameters,camera_type,captured_at,compass_angle,computed_altitude,computed_compass_angle,computed_geometry,computed_rotation,exif_orientation,quality_score,height,width,sequence,thumb_2048_url,geometry&access_token=MLY%7C4957202544385847%7Ca397b7f76955e426cdfcfb2225b50ce6\n"
          ]
        },
        {
          "output_type": "stream",
          "name": "stderr",
          "text": [
            "INFO:mapillary.utils.client:Requesting GET to https://graph.mapillary.com/210977834254682/?fields=merge_cc,mesh,altitude,sfm_cluster,atomic_scale,camera_parameters,camera_type,captured_at,compass_angle,computed_altitude,computed_compass_angle,computed_geometry,computed_rotation,exif_orientation,quality_score,height,width,sequence,thumb_2048_url,geometry&access_token=MLY%7C4957202544385847%7Ca397b7f76955e426cdfcfb2225b50ce6\n"
          ]
        },
        {
          "output_type": "stream",
          "name": "stdout",
          "text": [
            "Response 200 OK received in 272ms\n"
          ]
        },
        {
          "output_type": "stream",
          "name": "stderr",
          "text": [
            "INFO:mapillary.utils.client:Response 200 OK received in 272ms\n"
          ]
        },
        {
          "output_type": "stream",
          "name": "stdout",
          "text": [
            "Requesting GET to https://graph.mapillary.com/209080167781233/?fields=merge_cc,mesh,altitude,sfm_cluster,atomic_scale,camera_parameters,camera_type,captured_at,compass_angle,computed_altitude,computed_compass_angle,computed_geometry,computed_rotation,exif_orientation,quality_score,height,width,sequence,thumb_2048_url,geometry&access_token=MLY%7C4957202544385847%7Ca397b7f76955e426cdfcfb2225b50ce6\n"
          ]
        },
        {
          "output_type": "stream",
          "name": "stderr",
          "text": [
            "INFO:mapillary.utils.client:Requesting GET to https://graph.mapillary.com/209080167781233/?fields=merge_cc,mesh,altitude,sfm_cluster,atomic_scale,camera_parameters,camera_type,captured_at,compass_angle,computed_altitude,computed_compass_angle,computed_geometry,computed_rotation,exif_orientation,quality_score,height,width,sequence,thumb_2048_url,geometry&access_token=MLY%7C4957202544385847%7Ca397b7f76955e426cdfcfb2225b50ce6\n"
          ]
        },
        {
          "output_type": "stream",
          "name": "stdout",
          "text": [
            "Response 200 OK received in 284ms\n"
          ]
        },
        {
          "output_type": "stream",
          "name": "stderr",
          "text": [
            "INFO:mapillary.utils.client:Response 200 OK received in 284ms\n"
          ]
        },
        {
          "output_type": "stream",
          "name": "stdout",
          "text": [
            "Requesting GET to https://graph.mapillary.com/780852622605615/?fields=merge_cc,mesh,altitude,sfm_cluster,atomic_scale,camera_parameters,camera_type,captured_at,compass_angle,computed_altitude,computed_compass_angle,computed_geometry,computed_rotation,exif_orientation,quality_score,height,width,sequence,thumb_2048_url,geometry&access_token=MLY%7C4957202544385847%7Ca397b7f76955e426cdfcfb2225b50ce6\n"
          ]
        },
        {
          "output_type": "stream",
          "name": "stderr",
          "text": [
            "INFO:mapillary.utils.client:Requesting GET to https://graph.mapillary.com/780852622605615/?fields=merge_cc,mesh,altitude,sfm_cluster,atomic_scale,camera_parameters,camera_type,captured_at,compass_angle,computed_altitude,computed_compass_angle,computed_geometry,computed_rotation,exif_orientation,quality_score,height,width,sequence,thumb_2048_url,geometry&access_token=MLY%7C4957202544385847%7Ca397b7f76955e426cdfcfb2225b50ce6\n"
          ]
        },
        {
          "output_type": "stream",
          "name": "stdout",
          "text": [
            "Response 200 OK received in 277ms\n"
          ]
        },
        {
          "output_type": "stream",
          "name": "stderr",
          "text": [
            "INFO:mapillary.utils.client:Response 200 OK received in 277ms\n"
          ]
        },
        {
          "output_type": "stream",
          "name": "stdout",
          "text": [
            "Requesting GET to https://graph.mapillary.com/561766188152123/?fields=merge_cc,mesh,altitude,sfm_cluster,atomic_scale,camera_parameters,camera_type,captured_at,compass_angle,computed_altitude,computed_compass_angle,computed_geometry,computed_rotation,exif_orientation,quality_score,height,width,sequence,thumb_2048_url,geometry&access_token=MLY%7C4957202544385847%7Ca397b7f76955e426cdfcfb2225b50ce6\n"
          ]
        },
        {
          "output_type": "stream",
          "name": "stderr",
          "text": [
            "INFO:mapillary.utils.client:Requesting GET to https://graph.mapillary.com/561766188152123/?fields=merge_cc,mesh,altitude,sfm_cluster,atomic_scale,camera_parameters,camera_type,captured_at,compass_angle,computed_altitude,computed_compass_angle,computed_geometry,computed_rotation,exif_orientation,quality_score,height,width,sequence,thumb_2048_url,geometry&access_token=MLY%7C4957202544385847%7Ca397b7f76955e426cdfcfb2225b50ce6\n"
          ]
        },
        {
          "output_type": "stream",
          "name": "stdout",
          "text": [
            "Response 200 OK received in 283ms\n"
          ]
        },
        {
          "output_type": "stream",
          "name": "stderr",
          "text": [
            "INFO:mapillary.utils.client:Response 200 OK received in 283ms\n"
          ]
        },
        {
          "output_type": "stream",
          "name": "stdout",
          "text": [
            "Requesting GET to https://graph.mapillary.com/586067725694801/?fields=merge_cc,mesh,altitude,sfm_cluster,atomic_scale,camera_parameters,camera_type,captured_at,compass_angle,computed_altitude,computed_compass_angle,computed_geometry,computed_rotation,exif_orientation,quality_score,height,width,sequence,thumb_2048_url,geometry&access_token=MLY%7C4957202544385847%7Ca397b7f76955e426cdfcfb2225b50ce6\n"
          ]
        },
        {
          "output_type": "stream",
          "name": "stderr",
          "text": [
            "INFO:mapillary.utils.client:Requesting GET to https://graph.mapillary.com/586067725694801/?fields=merge_cc,mesh,altitude,sfm_cluster,atomic_scale,camera_parameters,camera_type,captured_at,compass_angle,computed_altitude,computed_compass_angle,computed_geometry,computed_rotation,exif_orientation,quality_score,height,width,sequence,thumb_2048_url,geometry&access_token=MLY%7C4957202544385847%7Ca397b7f76955e426cdfcfb2225b50ce6\n"
          ]
        },
        {
          "output_type": "stream",
          "name": "stdout",
          "text": [
            "Response 200 OK received in 327ms\n"
          ]
        },
        {
          "output_type": "stream",
          "name": "stderr",
          "text": [
            "INFO:mapillary.utils.client:Response 200 OK received in 327ms\n"
          ]
        }
      ]
    },
    {
      "cell_type": "code",
      "source": [],
      "metadata": {
        "id": "qLMngjdwUtqn"
      },
      "execution_count": null,
      "outputs": []
    }
  ]
}